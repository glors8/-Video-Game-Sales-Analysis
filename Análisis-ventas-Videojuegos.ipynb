{
 "cells": [
  {
   "cell_type": "markdown",
   "metadata": {},
   "source": [
    "#  Good Game: Análisis de ventas de video juegos\n",
    "**Descripción del proyecto**\n",
    "Trabajas para la tienda online Ice que vende videojuegos por todo el mundo. Las reseñas de usuarios y expertos, los géneros, las plataformas (por ejemplo, Xbox o PlayStation) y los datos históricos sobre las ventas de juegos están disponibles en fuentes abiertas. Tienes que identificar patrones que determinen si un juego tiene éxito o no. Esto te permitirá detectar proyectos prometedores y planificar campañas publicitarias.\n",
    "\n",
    "Delante de ti hay datos que se remontan a 2016. Imaginemos que es diciembre de 2016 y estás planeando una campaña para 2017.\n",
    "Lo importante es adquirir experiencia de trabajo con datos. Realmente no importa si estás pronosticando las ventas de 2017 en función de los datos de 2016 o las ventas de 2027 en función de los datos de 2026.\n",
    "El dataset contiene una columna \"rating\" que almacena la clasificación ESRB de cada juego. El Entertainment Software Rating Board (la Junta de clasificación de software de entretenimiento) evalúa el contenido de un juego y asigna una clasificación de edad como Adolescente o Adulto."
   ]
  },
  {
   "cell_type": "markdown",
   "metadata": {},
   "source": [
    "**Descripción de datos**\n",
    "- Name (Nombre)\n",
    "- Platform (Plataforma)\n",
    "- Year_of_Release (Año de lanzamiento)\n",
    "- Genre (Género) \n",
    "- NA_sales (ventas en Norteamérica en millones de dólares estadounidenses) \n",
    "- EU_sales (ventas en Europa en millones de dólares estadounidenses) \n",
    "- JP_sales (ventas en Japón en millones de dólares estadounidenses) \n",
    "- Other_sales (ventas en otros países en millones de dólares estadounidenses) \n",
    "- Critic_Score (máximo de 100) \n",
    "- User_Score (máximo de 10) \n",
    "- Rating (ESRB)\n",
    "\n",
    "\n",
    "Es posible que los datos de 2016 estén incompletos.\n",
    "¿Cómo será evaluado mi proyecto?\n",
    "Lee atentamente estos criterios de evaluación de proyectos antes de empezar a trabajar.\n",
    "Esto es lo que buscan los revisores de proyecto cuando evalúan tu proyecto:\n",
    "•\t¿Cómo describirías los problemas identificados en los datos?\n",
    "•\t¿Cómo se prepara un dataset para el análisis?\n",
    "•\t¿Cómo creas gráficos de distribución y cómo los explicas?\n",
    "•\t¿Cómo calculas la desviación estándar y varianza?\n",
    "•\t¿Formulas las hipótesis alternativas y nulas?\n",
    "•\t¿Qué métodos aplicas a la hora de probarlos?\n",
    "•\t¿Explicas los resultados de tus pruebas de hipótesis?\n",
    "•\t¿Sigues la estructura del proyecto y mantienes tu código ordenado y comprensible?\n",
    "•\t¿A qué conclusiones llegas?\n",
    "•\t¿Has dejado comentarios claros y relevantes en cada paso?\n",
    "Todo lo que necesitas para completar este proyecto se encuentra en las hojas informativas y los resúmenes de los capítulos anteriores.\n",
    "¡Buena suerte!"
   ]
  },
  {
   "cell_type": "markdown",
   "metadata": {},
   "source": [
    "## Tabla de Contenidos    \n",
    "\n",
    "1. [Paso 1. Abre el archivo de datos y estudia la información general](#1) \n",
    "1. [Paso 2. Prepara los datos](#2) \n",
    "1. [Paso 3. Analiza los datos](#3)     \n",
    "1. [Paso 4. Crea un perfil de usuario para cada región](#4)     \n",
    "1. [Paso 5. Prueba las siguientes hipótesis](#5)       \n",
    "1. [Paso 6. Escribe una conclusión general](#6)"
   ]
  },
  {
   "cell_type": "markdown",
   "metadata": {},
   "source": [
    "# Paso 1. Abre el archivo de datos y estudia la información general \n",
    "Ruta de archivo:\n",
    "/datasets/games.csv . Descarga el dataset"
   ]
  },
  {
   "cell_type": "code",
   "execution_count": 1,
   "metadata": {
    "trusted": false
   },
   "outputs": [],
   "source": [
    "#importar librerías \n",
    "import pandas as pd\n",
    "import numpy as np \n",
    "from matplotlib import pyplot as plt\n",
    "from scipy import stats as st\n",
    "import seaborn as sns\n"
   ]
  },
  {
   "cell_type": "code",
   "execution_count": 2,
   "metadata": {
    "trusted": false
   },
   "outputs": [],
   "source": [
    "df_games = pd.read_csv(\"/datasets/games.csv\")"
   ]
  },
  {
   "cell_type": "code",
   "execution_count": 3,
   "metadata": {
    "trusted": false
   },
   "outputs": [
    {
     "name": "stdout",
     "output_type": "stream",
     "text": [
      "<class 'pandas.core.frame.DataFrame'>\n",
      "RangeIndex: 16715 entries, 0 to 16714\n",
      "Data columns (total 11 columns):\n",
      " #   Column           Non-Null Count  Dtype  \n",
      "---  ------           --------------  -----  \n",
      " 0   Name             16713 non-null  object \n",
      " 1   Platform         16715 non-null  object \n",
      " 2   Year_of_Release  16446 non-null  float64\n",
      " 3   Genre            16713 non-null  object \n",
      " 4   NA_sales         16715 non-null  float64\n",
      " 5   EU_sales         16715 non-null  float64\n",
      " 6   JP_sales         16715 non-null  float64\n",
      " 7   Other_sales      16715 non-null  float64\n",
      " 8   Critic_Score     8137 non-null   float64\n",
      " 9   User_Score       10014 non-null  object \n",
      " 10  Rating           9949 non-null   object \n",
      "dtypes: float64(6), object(5)\n",
      "memory usage: 1.4+ MB\n"
     ]
    }
   ],
   "source": [
    "df_games.info()"
   ]
  },
  {
   "cell_type": "code",
   "execution_count": 4,
   "metadata": {
    "trusted": false
   },
   "outputs": [
    {
     "data": {
      "text/html": [
       "<div>\n",
       "<style scoped>\n",
       "    .dataframe tbody tr th:only-of-type {\n",
       "        vertical-align: middle;\n",
       "    }\n",
       "\n",
       "    .dataframe tbody tr th {\n",
       "        vertical-align: top;\n",
       "    }\n",
       "\n",
       "    .dataframe thead th {\n",
       "        text-align: right;\n",
       "    }\n",
       "</style>\n",
       "<table border=\"1\" class=\"dataframe\">\n",
       "  <thead>\n",
       "    <tr style=\"text-align: right;\">\n",
       "      <th></th>\n",
       "      <th>Name</th>\n",
       "      <th>Platform</th>\n",
       "      <th>Year_of_Release</th>\n",
       "      <th>Genre</th>\n",
       "      <th>NA_sales</th>\n",
       "      <th>EU_sales</th>\n",
       "      <th>JP_sales</th>\n",
       "      <th>Other_sales</th>\n",
       "      <th>Critic_Score</th>\n",
       "      <th>User_Score</th>\n",
       "      <th>Rating</th>\n",
       "    </tr>\n",
       "  </thead>\n",
       "  <tbody>\n",
       "    <tr>\n",
       "      <th>1629</th>\n",
       "      <td>Donkey Kong Country 2</td>\n",
       "      <td>GBA</td>\n",
       "      <td>2004.0</td>\n",
       "      <td>Platform</td>\n",
       "      <td>0.79</td>\n",
       "      <td>0.27</td>\n",
       "      <td>0.12</td>\n",
       "      <td>0.04</td>\n",
       "      <td>80.0</td>\n",
       "      <td>9.1</td>\n",
       "      <td>E</td>\n",
       "    </tr>\n",
       "    <tr>\n",
       "      <th>7291</th>\n",
       "      <td>The Legend of Heroes: Trails in the Sky First ...</td>\n",
       "      <td>PSP</td>\n",
       "      <td>2006.0</td>\n",
       "      <td>Role-Playing</td>\n",
       "      <td>0.10</td>\n",
       "      <td>0.03</td>\n",
       "      <td>0.06</td>\n",
       "      <td>0.03</td>\n",
       "      <td>NaN</td>\n",
       "      <td>NaN</td>\n",
       "      <td>NaN</td>\n",
       "    </tr>\n",
       "    <tr>\n",
       "      <th>8381</th>\n",
       "      <td>VR Golf '97</td>\n",
       "      <td>PS</td>\n",
       "      <td>1996.0</td>\n",
       "      <td>Sports</td>\n",
       "      <td>0.09</td>\n",
       "      <td>0.06</td>\n",
       "      <td>0.00</td>\n",
       "      <td>0.01</td>\n",
       "      <td>NaN</td>\n",
       "      <td>NaN</td>\n",
       "      <td>NaN</td>\n",
       "    </tr>\n",
       "    <tr>\n",
       "      <th>3050</th>\n",
       "      <td>Madagascar</td>\n",
       "      <td>GC</td>\n",
       "      <td>2005.0</td>\n",
       "      <td>Platform</td>\n",
       "      <td>0.52</td>\n",
       "      <td>0.13</td>\n",
       "      <td>0.00</td>\n",
       "      <td>0.02</td>\n",
       "      <td>70.0</td>\n",
       "      <td>tbd</td>\n",
       "      <td>E10+</td>\n",
       "    </tr>\n",
       "    <tr>\n",
       "      <th>8662</th>\n",
       "      <td>Culdcept</td>\n",
       "      <td>3DS</td>\n",
       "      <td>2012.0</td>\n",
       "      <td>Misc</td>\n",
       "      <td>0.00</td>\n",
       "      <td>0.00</td>\n",
       "      <td>0.16</td>\n",
       "      <td>0.00</td>\n",
       "      <td>NaN</td>\n",
       "      <td>NaN</td>\n",
       "      <td>NaN</td>\n",
       "    </tr>\n",
       "    <tr>\n",
       "      <th>5774</th>\n",
       "      <td>Mountain King</td>\n",
       "      <td>2600</td>\n",
       "      <td>1982.0</td>\n",
       "      <td>Action</td>\n",
       "      <td>0.29</td>\n",
       "      <td>0.02</td>\n",
       "      <td>0.00</td>\n",
       "      <td>0.00</td>\n",
       "      <td>NaN</td>\n",
       "      <td>NaN</td>\n",
       "      <td>NaN</td>\n",
       "    </tr>\n",
       "    <tr>\n",
       "      <th>13821</th>\n",
       "      <td>Sega Ages 2500 Series Vol. 33: Fantasy Zone Co...</td>\n",
       "      <td>PS2</td>\n",
       "      <td>2008.0</td>\n",
       "      <td>Shooter</td>\n",
       "      <td>0.00</td>\n",
       "      <td>0.00</td>\n",
       "      <td>0.04</td>\n",
       "      <td>0.00</td>\n",
       "      <td>NaN</td>\n",
       "      <td>NaN</td>\n",
       "      <td>NaN</td>\n",
       "    </tr>\n",
       "    <tr>\n",
       "      <th>8656</th>\n",
       "      <td>Kidou Senshi Gundam: Giren no Yabou - Axis no ...</td>\n",
       "      <td>PSP</td>\n",
       "      <td>2008.0</td>\n",
       "      <td>Strategy</td>\n",
       "      <td>0.00</td>\n",
       "      <td>0.00</td>\n",
       "      <td>0.16</td>\n",
       "      <td>0.00</td>\n",
       "      <td>NaN</td>\n",
       "      <td>NaN</td>\n",
       "      <td>NaN</td>\n",
       "    </tr>\n",
       "    <tr>\n",
       "      <th>278</th>\n",
       "      <td>FIFA 12</td>\n",
       "      <td>X360</td>\n",
       "      <td>2011.0</td>\n",
       "      <td>Sports</td>\n",
       "      <td>0.84</td>\n",
       "      <td>2.78</td>\n",
       "      <td>0.02</td>\n",
       "      <td>0.53</td>\n",
       "      <td>NaN</td>\n",
       "      <td>NaN</td>\n",
       "      <td>NaN</td>\n",
       "    </tr>\n",
       "    <tr>\n",
       "      <th>8052</th>\n",
       "      <td>Ghostbusters: The Video Game</td>\n",
       "      <td>PSP</td>\n",
       "      <td>2009.0</td>\n",
       "      <td>Action</td>\n",
       "      <td>0.16</td>\n",
       "      <td>0.01</td>\n",
       "      <td>0.00</td>\n",
       "      <td>0.02</td>\n",
       "      <td>54.0</td>\n",
       "      <td>4.7</td>\n",
       "      <td>E10+</td>\n",
       "    </tr>\n",
       "  </tbody>\n",
       "</table>\n",
       "</div>"
      ],
      "text/plain": [
       "                                                    Name Platform  \\\n",
       "1629                               Donkey Kong Country 2      GBA   \n",
       "7291   The Legend of Heroes: Trails in the Sky First ...      PSP   \n",
       "8381                                         VR Golf '97       PS   \n",
       "3050                                          Madagascar       GC   \n",
       "8662                                            Culdcept      3DS   \n",
       "5774                                       Mountain King     2600   \n",
       "13821  Sega Ages 2500 Series Vol. 33: Fantasy Zone Co...      PS2   \n",
       "8656   Kidou Senshi Gundam: Giren no Yabou - Axis no ...      PSP   \n",
       "278                                              FIFA 12     X360   \n",
       "8052                        Ghostbusters: The Video Game      PSP   \n",
       "\n",
       "       Year_of_Release         Genre  NA_sales  EU_sales  JP_sales  \\\n",
       "1629            2004.0      Platform      0.79      0.27      0.12   \n",
       "7291            2006.0  Role-Playing      0.10      0.03      0.06   \n",
       "8381            1996.0        Sports      0.09      0.06      0.00   \n",
       "3050            2005.0      Platform      0.52      0.13      0.00   \n",
       "8662            2012.0          Misc      0.00      0.00      0.16   \n",
       "5774            1982.0        Action      0.29      0.02      0.00   \n",
       "13821           2008.0       Shooter      0.00      0.00      0.04   \n",
       "8656            2008.0      Strategy      0.00      0.00      0.16   \n",
       "278             2011.0        Sports      0.84      2.78      0.02   \n",
       "8052            2009.0        Action      0.16      0.01      0.00   \n",
       "\n",
       "       Other_sales  Critic_Score User_Score Rating  \n",
       "1629          0.04          80.0        9.1      E  \n",
       "7291          0.03           NaN        NaN    NaN  \n",
       "8381          0.01           NaN        NaN    NaN  \n",
       "3050          0.02          70.0        tbd   E10+  \n",
       "8662          0.00           NaN        NaN    NaN  \n",
       "5774          0.00           NaN        NaN    NaN  \n",
       "13821         0.00           NaN        NaN    NaN  \n",
       "8656          0.00           NaN        NaN    NaN  \n",
       "278           0.53           NaN        NaN    NaN  \n",
       "8052          0.02          54.0        4.7   E10+  "
      ]
     },
     "execution_count": 4,
     "metadata": {},
     "output_type": "execute_result"
    }
   ],
   "source": [
    "df_games.sample(10)"
   ]
  },
  {
   "cell_type": "markdown",
   "metadata": {},
   "source": [
    "# Paso 2. Prepara los datos\n",
    "- Reemplaza los nombres de las columnas (ponlos en minúsculas)."
   ]
  },
  {
   "cell_type": "code",
   "execution_count": 5,
   "metadata": {
    "trusted": false
   },
   "outputs": [],
   "source": [
    "new_col_names = []\n",
    "for column in df_games.columns:\n",
    "    col_lower = column.lower()\n",
    "    new_col_names.append(col_lower)\n",
    "\n",
    "df_games.columns = new_col_names"
   ]
  },
  {
   "cell_type": "code",
   "execution_count": 6,
   "metadata": {
    "trusted": false
   },
   "outputs": [
    {
     "data": {
      "text/plain": [
       "Index(['name', 'platform', 'year_of_release', 'genre', 'na_sales', 'eu_sales',\n",
       "       'jp_sales', 'other_sales', 'critic_score', 'user_score', 'rating'],\n",
       "      dtype='object')"
      ]
     },
     "execution_count": 6,
     "metadata": {},
     "output_type": "execute_result"
    }
   ],
   "source": [
    "df_games.columns"
   ]
  },
  {
   "cell_type": "markdown",
   "metadata": {},
   "source": [
    "**Convierte los datos en los tipos necesarios.**\n",
    "- Describe las columnas en las que los tipos de datos han sido cambiados y explica por qué."
   ]
  },
  {
   "cell_type": "code",
   "execution_count": 7,
   "metadata": {
    "trusted": false
   },
   "outputs": [
    {
     "name": "stdout",
     "output_type": "stream",
     "text": [
      "<class 'pandas.core.frame.DataFrame'>\n",
      "RangeIndex: 16715 entries, 0 to 16714\n",
      "Data columns (total 11 columns):\n",
      " #   Column           Non-Null Count  Dtype  \n",
      "---  ------           --------------  -----  \n",
      " 0   name             16713 non-null  object \n",
      " 1   platform         16715 non-null  object \n",
      " 2   year_of_release  16446 non-null  float64\n",
      " 3   genre            16713 non-null  object \n",
      " 4   na_sales         16715 non-null  float64\n",
      " 5   eu_sales         16715 non-null  float64\n",
      " 6   jp_sales         16715 non-null  float64\n",
      " 7   other_sales      16715 non-null  float64\n",
      " 8   critic_score     8137 non-null   float64\n",
      " 9   user_score       10014 non-null  object \n",
      " 10  rating           9949 non-null   object \n",
      "dtypes: float64(6), object(5)\n",
      "memory usage: 1.4+ MB\n"
     ]
    }
   ],
   "source": [
    "df_games.info()"
   ]
  },
  {
   "cell_type": "code",
   "execution_count": 8,
   "metadata": {
    "trusted": false
   },
   "outputs": [],
   "source": [
    "df_games[\"name\"] = df_games[\"name\"].str.upper()\n",
    "df_games[\"name\"] = df_games[\"name\"].str.strip()\n",
    "df_games[\"name\"] = df_games[\"name\"].str.replace(\".\",\"\").str.replace(\",\",\"\").str.replace(\";\",\"\").str.replace(\":\",\"\")"
   ]
  },
  {
   "cell_type": "code",
   "execution_count": 9,
   "metadata": {
    "trusted": false
   },
   "outputs": [],
   "source": [
    "console_lifespan = {\n",
    "    \"2600\": (1977,1992),\n",
    "    \"3DO\": (1993,1997),\n",
    "    \"3DS\": (2011,2018),\n",
    "    \"DC\": (1998,2001),\n",
    "    \"DS\":(2004,2016),\n",
    "    \"GB\": (1989,2003),\n",
    "    \"GBA\": (2001,2010),\n",
    "    \"GC\": (2001,2007),\n",
    "    \"GEN\": (1990,1997),\n",
    "    \"GG\": (1990,1997),\n",
    "    \"N64\": (1996,2002),\n",
    "    \"NES\": (1983,2003),\n",
    "    \"NG\": (1990, 1997), \n",
    "    \"PC\": (1999,2016),\n",
    "    \"PCFX\": (1994,1998),\n",
    "    \"PS\": (1994,2006), \n",
    "    \"PS2\": (2000,2013),\n",
    "    \"PS3\": (2006, 2017),\n",
    "    \"PS4\": (2014,2016),\n",
    "    \"PSP\": (2004,2014),\n",
    "    \"PSV\": (2011,2016),\n",
    "    \"SAT\": (1994,2000),\n",
    "    \"SCD\": (1991,1996),\n",
    "    \"SNES\": (1990,2003),\n",
    "    \"TG16\": (1987,1993),\n",
    "    \"WS\": (1999,2003),\n",
    "    \"Wii\": (2006, 2014),\n",
    "    \"WiiU\": (2012,2016),\n",
    "    \"X360\": (2005,2016),\n",
    "    \"XB\": (2002,2005),\n",
    "    \"XOne\": (2013,2017)}\n",
    "\n",
    "def fill_missing_year(row, console_lifespan):\n",
    "    if pd.isna(row[\"year_of_release\"]):\n",
    "        if row[\"platform\"] in console_lifespan:\n",
    "            start_year, end_year = console_lifespan[row[\"platform\"]]\n",
    "            avg_year = int(np.mean([start_year, end_year]))\n",
    "            return avg_year\n",
    "    return row[\"year_of_release\"]\n",
    "\n",
    "df_games[\"year_of_release\"] = df_games.apply(lambda row: fill_missing_year(row, console_lifespan), axis=1)\n"
   ]
  },
  {
   "cell_type": "code",
   "execution_count": 10,
   "metadata": {
    "trusted": false
   },
   "outputs": [],
   "source": [
    "df_games[\"year_of_release\"] = df_games[\"year_of_release\"].astype(int)"
   ]
  },
  {
   "cell_type": "code",
   "execution_count": 11,
   "metadata": {
    "trusted": false
   },
   "outputs": [],
   "source": [
    "df_games[\"user_score\"] = df_games[\"user_score\"].replace(\"tbd\", np.nan)\n",
    "df_games[\"user_score\"] = df_games[\"user_score\"].astype(float)\n",
    "df_games[\"user_score\"] = df_games[\"user_score\"]*10"
   ]
  },
  {
   "cell_type": "markdown",
   "metadata": {},
   "source": [
    "Se cambió la columna *\"user_score\"* a tipo float para que coincida con la de *critic_score* y al ser una calificación se requiere que mantenga su precisión numérica.  Así como también para *year_of release* se cambia a tipo integer para que sea del formato correcto correspondiente a una fecha. "
   ]
  },
  {
   "cell_type": "code",
   "execution_count": 12,
   "metadata": {
    "trusted": false
   },
   "outputs": [
    {
     "data": {
      "text/html": [
       "<div>\n",
       "<style scoped>\n",
       "    .dataframe tbody tr th:only-of-type {\n",
       "        vertical-align: middle;\n",
       "    }\n",
       "\n",
       "    .dataframe tbody tr th {\n",
       "        vertical-align: top;\n",
       "    }\n",
       "\n",
       "    .dataframe thead th {\n",
       "        text-align: right;\n",
       "    }\n",
       "</style>\n",
       "<table border=\"1\" class=\"dataframe\">\n",
       "  <thead>\n",
       "    <tr style=\"text-align: right;\">\n",
       "      <th></th>\n",
       "      <th>critic_score</th>\n",
       "      <th>user_score</th>\n",
       "    </tr>\n",
       "  </thead>\n",
       "  <tbody>\n",
       "    <tr>\n",
       "      <th>count</th>\n",
       "      <td>8137.000000</td>\n",
       "      <td>7590.000000</td>\n",
       "    </tr>\n",
       "    <tr>\n",
       "      <th>mean</th>\n",
       "      <td>68.967679</td>\n",
       "      <td>71.250461</td>\n",
       "    </tr>\n",
       "    <tr>\n",
       "      <th>std</th>\n",
       "      <td>13.938165</td>\n",
       "      <td>15.000061</td>\n",
       "    </tr>\n",
       "    <tr>\n",
       "      <th>min</th>\n",
       "      <td>13.000000</td>\n",
       "      <td>0.000000</td>\n",
       "    </tr>\n",
       "    <tr>\n",
       "      <th>25%</th>\n",
       "      <td>60.000000</td>\n",
       "      <td>64.000000</td>\n",
       "    </tr>\n",
       "    <tr>\n",
       "      <th>50%</th>\n",
       "      <td>71.000000</td>\n",
       "      <td>75.000000</td>\n",
       "    </tr>\n",
       "    <tr>\n",
       "      <th>75%</th>\n",
       "      <td>79.000000</td>\n",
       "      <td>82.000000</td>\n",
       "    </tr>\n",
       "    <tr>\n",
       "      <th>max</th>\n",
       "      <td>98.000000</td>\n",
       "      <td>97.000000</td>\n",
       "    </tr>\n",
       "  </tbody>\n",
       "</table>\n",
       "</div>"
      ],
      "text/plain": [
       "       critic_score   user_score\n",
       "count   8137.000000  7590.000000\n",
       "mean      68.967679    71.250461\n",
       "std       13.938165    15.000061\n",
       "min       13.000000     0.000000\n",
       "25%       60.000000    64.000000\n",
       "50%       71.000000    75.000000\n",
       "75%       79.000000    82.000000\n",
       "max       98.000000    97.000000"
      ]
     },
     "execution_count": 12,
     "metadata": {},
     "output_type": "execute_result"
    }
   ],
   "source": [
    "describe_stat_scores = df_games[[\"critic_score\",\"user_score\"]].describe()\n",
    "describe_stat_scores"
   ]
  },
  {
   "cell_type": "code",
   "execution_count": 13,
   "metadata": {
    "trusted": false
   },
   "outputs": [
    {
     "data": {
      "text/html": [
       "<div>\n",
       "<style scoped>\n",
       "    .dataframe tbody tr th:only-of-type {\n",
       "        vertical-align: middle;\n",
       "    }\n",
       "\n",
       "    .dataframe tbody tr th {\n",
       "        vertical-align: top;\n",
       "    }\n",
       "\n",
       "    .dataframe thead th {\n",
       "        text-align: right;\n",
       "    }\n",
       "</style>\n",
       "<table border=\"1\" class=\"dataframe\">\n",
       "  <thead>\n",
       "    <tr style=\"text-align: right;\">\n",
       "      <th></th>\n",
       "      <th>critic_score</th>\n",
       "      <th>user_score</th>\n",
       "    </tr>\n",
       "    <tr>\n",
       "      <th>platform</th>\n",
       "      <th></th>\n",
       "      <th></th>\n",
       "    </tr>\n",
       "  </thead>\n",
       "  <tbody>\n",
       "    <tr>\n",
       "      <th>2600</th>\n",
       "      <td>NaN</td>\n",
       "      <td>NaN</td>\n",
       "    </tr>\n",
       "    <tr>\n",
       "      <th>3DO</th>\n",
       "      <td>NaN</td>\n",
       "      <td>NaN</td>\n",
       "    </tr>\n",
       "    <tr>\n",
       "      <th>3DS</th>\n",
       "      <td>67.101190</td>\n",
       "      <td>68.316092</td>\n",
       "    </tr>\n",
       "    <tr>\n",
       "      <th>DC</th>\n",
       "      <td>87.357143</td>\n",
       "      <td>85.285714</td>\n",
       "    </tr>\n",
       "    <tr>\n",
       "      <th>DS</th>\n",
       "      <td>63.761506</td>\n",
       "      <td>70.251938</td>\n",
       "    </tr>\n",
       "    <tr>\n",
       "      <th>GB</th>\n",
       "      <td>NaN</td>\n",
       "      <td>NaN</td>\n",
       "    </tr>\n",
       "    <tr>\n",
       "      <th>GBA</th>\n",
       "      <td>67.372146</td>\n",
       "      <td>76.768627</td>\n",
       "    </tr>\n",
       "    <tr>\n",
       "      <th>GC</th>\n",
       "      <td>69.488839</td>\n",
       "      <td>75.975410</td>\n",
       "    </tr>\n",
       "    <tr>\n",
       "      <th>GEN</th>\n",
       "      <td>NaN</td>\n",
       "      <td>NaN</td>\n",
       "    </tr>\n",
       "    <tr>\n",
       "      <th>GG</th>\n",
       "      <td>NaN</td>\n",
       "      <td>NaN</td>\n",
       "    </tr>\n",
       "    <tr>\n",
       "      <th>N64</th>\n",
       "      <td>NaN</td>\n",
       "      <td>NaN</td>\n",
       "    </tr>\n",
       "    <tr>\n",
       "      <th>NES</th>\n",
       "      <td>NaN</td>\n",
       "      <td>NaN</td>\n",
       "    </tr>\n",
       "    <tr>\n",
       "      <th>NG</th>\n",
       "      <td>NaN</td>\n",
       "      <td>NaN</td>\n",
       "    </tr>\n",
       "    <tr>\n",
       "      <th>PC</th>\n",
       "      <td>75.928671</td>\n",
       "      <td>70.624675</td>\n",
       "    </tr>\n",
       "    <tr>\n",
       "      <th>PCFX</th>\n",
       "      <td>NaN</td>\n",
       "      <td>NaN</td>\n",
       "    </tr>\n",
       "    <tr>\n",
       "      <th>PS</th>\n",
       "      <td>71.515000</td>\n",
       "      <td>78.654321</td>\n",
       "    </tr>\n",
       "    <tr>\n",
       "      <th>PS2</th>\n",
       "      <td>68.727273</td>\n",
       "      <td>76.268332</td>\n",
       "    </tr>\n",
       "    <tr>\n",
       "      <th>PS3</th>\n",
       "      <td>70.382927</td>\n",
       "      <td>67.265678</td>\n",
       "    </tr>\n",
       "    <tr>\n",
       "      <th>PS4</th>\n",
       "      <td>72.091270</td>\n",
       "      <td>67.482490</td>\n",
       "    </tr>\n",
       "    <tr>\n",
       "      <th>PSP</th>\n",
       "      <td>67.424242</td>\n",
       "      <td>72.282660</td>\n",
       "    </tr>\n",
       "    <tr>\n",
       "      <th>PSV</th>\n",
       "      <td>70.791667</td>\n",
       "      <td>73.363636</td>\n",
       "    </tr>\n",
       "    <tr>\n",
       "      <th>SAT</th>\n",
       "      <td>NaN</td>\n",
       "      <td>NaN</td>\n",
       "    </tr>\n",
       "    <tr>\n",
       "      <th>SCD</th>\n",
       "      <td>NaN</td>\n",
       "      <td>NaN</td>\n",
       "    </tr>\n",
       "    <tr>\n",
       "      <th>SNES</th>\n",
       "      <td>NaN</td>\n",
       "      <td>NaN</td>\n",
       "    </tr>\n",
       "    <tr>\n",
       "      <th>TG16</th>\n",
       "      <td>NaN</td>\n",
       "      <td>NaN</td>\n",
       "    </tr>\n",
       "    <tr>\n",
       "      <th>WS</th>\n",
       "      <td>NaN</td>\n",
       "      <td>NaN</td>\n",
       "    </tr>\n",
       "    <tr>\n",
       "      <th>Wii</th>\n",
       "      <td>62.823932</td>\n",
       "      <td>67.426786</td>\n",
       "    </tr>\n",
       "    <tr>\n",
       "      <th>WiiU</th>\n",
       "      <td>70.733333</td>\n",
       "      <td>69.040000</td>\n",
       "    </tr>\n",
       "    <tr>\n",
       "      <th>X360</th>\n",
       "      <td>68.616812</td>\n",
       "      <td>66.835404</td>\n",
       "    </tr>\n",
       "    <tr>\n",
       "      <th>XB</th>\n",
       "      <td>69.859310</td>\n",
       "      <td>75.005119</td>\n",
       "    </tr>\n",
       "    <tr>\n",
       "      <th>XOne</th>\n",
       "      <td>73.325444</td>\n",
       "      <td>65.214286</td>\n",
       "    </tr>\n",
       "  </tbody>\n",
       "</table>\n",
       "</div>"
      ],
      "text/plain": [
       "          critic_score  user_score\n",
       "platform                          \n",
       "2600               NaN         NaN\n",
       "3DO                NaN         NaN\n",
       "3DS          67.101190   68.316092\n",
       "DC           87.357143   85.285714\n",
       "DS           63.761506   70.251938\n",
       "GB                 NaN         NaN\n",
       "GBA          67.372146   76.768627\n",
       "GC           69.488839   75.975410\n",
       "GEN                NaN         NaN\n",
       "GG                 NaN         NaN\n",
       "N64                NaN         NaN\n",
       "NES                NaN         NaN\n",
       "NG                 NaN         NaN\n",
       "PC           75.928671   70.624675\n",
       "PCFX               NaN         NaN\n",
       "PS           71.515000   78.654321\n",
       "PS2          68.727273   76.268332\n",
       "PS3          70.382927   67.265678\n",
       "PS4          72.091270   67.482490\n",
       "PSP          67.424242   72.282660\n",
       "PSV          70.791667   73.363636\n",
       "SAT                NaN         NaN\n",
       "SCD                NaN         NaN\n",
       "SNES               NaN         NaN\n",
       "TG16               NaN         NaN\n",
       "WS                 NaN         NaN\n",
       "Wii          62.823932   67.426786\n",
       "WiiU         70.733333   69.040000\n",
       "X360         68.616812   66.835404\n",
       "XB           69.859310   75.005119\n",
       "XOne         73.325444   65.214286"
      ]
     },
     "execution_count": 13,
     "metadata": {},
     "output_type": "execute_result"
    }
   ],
   "source": [
    "statistics_by_platform = df_games.groupby(\"platform\")[[\"critic_score\",\"user_score\"]].mean()\n",
    "statistics_by_platform"
   ]
  },
  {
   "cell_type": "code",
   "execution_count": 14,
   "metadata": {
    "trusted": false
   },
   "outputs": [],
   "source": [
    "df_games[\"critic_score\"] = df_games[\"critic_score\"].fillna(0)\n",
    "df_games[\"user_score\"] = df_games[\"user_score\"].fillna(0)"
   ]
  },
  {
   "cell_type": "markdown",
   "metadata": {},
   "source": [
    "Se llenan los valores ausentes con cero debido a que pertenecen a las consolas más antiguas. Igualmente para mantener mayor veracidad de los datos y no tratar con escenarios ficticios. Más adelante solo se analizan las consolas más recientes ya que son las que toman parte del análisis. "
   ]
  },
  {
   "cell_type": "code",
   "execution_count": 15,
   "metadata": {
    "trusted": false
   },
   "outputs": [],
   "source": [
    "df_games[\"rating\"] = df_games[\"rating\"].fillna(\"Not Rated\")"
   ]
  },
  {
   "cell_type": "code",
   "execution_count": 16,
   "metadata": {
    "trusted": false
   },
   "outputs": [
    {
     "data": {
      "text/plain": [
       "genre    2\n",
       "name     2\n",
       "dtype: int64"
      ]
     },
     "execution_count": 16,
     "metadata": {},
     "output_type": "execute_result"
    }
   ],
   "source": [
    "df_games[[\"genre\",\"name\"]].isna().sum()"
   ]
  },
  {
   "cell_type": "code",
   "execution_count": 17,
   "metadata": {
    "trusted": false
   },
   "outputs": [
    {
     "data": {
      "text/plain": [
       "0"
      ]
     },
     "execution_count": 17,
     "metadata": {},
     "output_type": "execute_result"
    }
   ],
   "source": [
    "df_games.duplicated().sum()"
   ]
  },
  {
   "cell_type": "code",
   "execution_count": 18,
   "metadata": {
    "trusted": false
   },
   "outputs": [
    {
     "data": {
      "text/html": [
       "<div>\n",
       "<style scoped>\n",
       "    .dataframe tbody tr th:only-of-type {\n",
       "        vertical-align: middle;\n",
       "    }\n",
       "\n",
       "    .dataframe tbody tr th {\n",
       "        vertical-align: top;\n",
       "    }\n",
       "\n",
       "    .dataframe thead th {\n",
       "        text-align: right;\n",
       "    }\n",
       "</style>\n",
       "<table border=\"1\" class=\"dataframe\">\n",
       "  <thead>\n",
       "    <tr style=\"text-align: right;\">\n",
       "      <th></th>\n",
       "      <th>name</th>\n",
       "      <th>platform</th>\n",
       "      <th>year_of_release</th>\n",
       "      <th>genre</th>\n",
       "      <th>na_sales</th>\n",
       "      <th>eu_sales</th>\n",
       "      <th>jp_sales</th>\n",
       "      <th>other_sales</th>\n",
       "      <th>critic_score</th>\n",
       "      <th>user_score</th>\n",
       "      <th>rating</th>\n",
       "    </tr>\n",
       "  </thead>\n",
       "  <tbody>\n",
       "    <tr>\n",
       "      <th>14244</th>\n",
       "      <td>NaN</td>\n",
       "      <td>GEN</td>\n",
       "      <td>1993</td>\n",
       "      <td>NaN</td>\n",
       "      <td>0.0</td>\n",
       "      <td>0.00</td>\n",
       "      <td>0.03</td>\n",
       "      <td>0.0</td>\n",
       "      <td>0.0</td>\n",
       "      <td>0.0</td>\n",
       "      <td>Not Rated</td>\n",
       "    </tr>\n",
       "    <tr>\n",
       "      <th>16230</th>\n",
       "      <td>MADDEN NFL 13</td>\n",
       "      <td>PS3</td>\n",
       "      <td>2012</td>\n",
       "      <td>Sports</td>\n",
       "      <td>0.0</td>\n",
       "      <td>0.01</td>\n",
       "      <td>0.00</td>\n",
       "      <td>0.0</td>\n",
       "      <td>83.0</td>\n",
       "      <td>55.0</td>\n",
       "      <td>E</td>\n",
       "    </tr>\n",
       "  </tbody>\n",
       "</table>\n",
       "</div>"
      ],
      "text/plain": [
       "                name platform  year_of_release   genre  na_sales  eu_sales  \\\n",
       "14244            NaN      GEN             1993     NaN       0.0      0.00   \n",
       "16230  MADDEN NFL 13      PS3             2012  Sports       0.0      0.01   \n",
       "\n",
       "       jp_sales  other_sales  critic_score  user_score     rating  \n",
       "14244      0.03          0.0           0.0         0.0  Not Rated  \n",
       "16230      0.00          0.0          83.0        55.0          E  "
      ]
     },
     "execution_count": 18,
     "metadata": {},
     "output_type": "execute_result"
    }
   ],
   "source": [
    "df_games[df_games[[\"name\",\"platform\",\"year_of_release\"]].duplicated()]"
   ]
  },
  {
   "cell_type": "code",
   "execution_count": 19,
   "metadata": {
    "trusted": false
   },
   "outputs": [
    {
     "data": {
      "text/html": [
       "<div>\n",
       "<style scoped>\n",
       "    .dataframe tbody tr th:only-of-type {\n",
       "        vertical-align: middle;\n",
       "    }\n",
       "\n",
       "    .dataframe tbody tr th {\n",
       "        vertical-align: top;\n",
       "    }\n",
       "\n",
       "    .dataframe thead th {\n",
       "        text-align: right;\n",
       "    }\n",
       "</style>\n",
       "<table border=\"1\" class=\"dataframe\">\n",
       "  <thead>\n",
       "    <tr style=\"text-align: right;\">\n",
       "      <th></th>\n",
       "      <th>name</th>\n",
       "      <th>platform</th>\n",
       "      <th>year_of_release</th>\n",
       "      <th>genre</th>\n",
       "      <th>na_sales</th>\n",
       "      <th>eu_sales</th>\n",
       "      <th>jp_sales</th>\n",
       "      <th>other_sales</th>\n",
       "      <th>critic_score</th>\n",
       "      <th>user_score</th>\n",
       "      <th>rating</th>\n",
       "    </tr>\n",
       "  </thead>\n",
       "  <tbody>\n",
       "    <tr>\n",
       "      <th>604</th>\n",
       "      <td>MADDEN NFL 13</td>\n",
       "      <td>PS3</td>\n",
       "      <td>2012</td>\n",
       "      <td>Sports</td>\n",
       "      <td>2.11</td>\n",
       "      <td>0.22</td>\n",
       "      <td>0.0</td>\n",
       "      <td>0.23</td>\n",
       "      <td>83.0</td>\n",
       "      <td>55.0</td>\n",
       "      <td>E</td>\n",
       "    </tr>\n",
       "    <tr>\n",
       "      <th>16230</th>\n",
       "      <td>MADDEN NFL 13</td>\n",
       "      <td>PS3</td>\n",
       "      <td>2012</td>\n",
       "      <td>Sports</td>\n",
       "      <td>0.00</td>\n",
       "      <td>0.01</td>\n",
       "      <td>0.0</td>\n",
       "      <td>0.00</td>\n",
       "      <td>83.0</td>\n",
       "      <td>55.0</td>\n",
       "      <td>E</td>\n",
       "    </tr>\n",
       "  </tbody>\n",
       "</table>\n",
       "</div>"
      ],
      "text/plain": [
       "                name platform  year_of_release   genre  na_sales  eu_sales  \\\n",
       "604    MADDEN NFL 13      PS3             2012  Sports      2.11      0.22   \n",
       "16230  MADDEN NFL 13      PS3             2012  Sports      0.00      0.01   \n",
       "\n",
       "       jp_sales  other_sales  critic_score  user_score rating  \n",
       "604         0.0         0.23          83.0        55.0      E  \n",
       "16230       0.0         0.00          83.0        55.0      E  "
      ]
     },
     "execution_count": 19,
     "metadata": {},
     "output_type": "execute_result"
    }
   ],
   "source": [
    "df_games.query(\"name == 'MADDEN NFL 13' and platform == 'PS3'\")"
   ]
  },
  {
   "cell_type": "code",
   "execution_count": 20,
   "metadata": {
    "trusted": false
   },
   "outputs": [],
   "source": [
    "df_games = df_games.drop_duplicates(subset = [\"name\",\"platform\",\"year_of_release\"]).reset_index(drop = True)"
   ]
  },
  {
   "cell_type": "markdown",
   "metadata": {},
   "source": [
    "- Calcula las ventas totales (la suma de las ventas en todas las regiones) para cada juego y coloca estos valores en una columna separada."
   ]
  },
  {
   "cell_type": "code",
   "execution_count": 21,
   "metadata": {
    "trusted": false
   },
   "outputs": [],
   "source": [
    "df_games[\"total_sales\"] = df_games[\"na_sales\"] + df_games[\"eu_sales\"] + df_games[\"jp_sales\"] + df_games[\"other_sales\"]\n",
    "df_games.insert(8,\"total_sales\", df_games.pop(\"total_sales\"))"
   ]
  },
  {
   "cell_type": "markdown",
   "metadata": {},
   "source": [
    "# Paso 3. Analiza los datos\n",
    "- Mira cuántos juegos fueron lanzados en diferentes años. ¿Son significativos los datos de cada período?"
   ]
  },
  {
   "cell_type": "code",
   "execution_count": 22,
   "metadata": {
    "trusted": false
   },
   "outputs": [],
   "source": [
    "def launch (year):\n",
    "    if year < 1990:\n",
    "        return \"1980's\"\n",
    "    elif year < 2000:\n",
    "        return \"1990's\"\n",
    "    elif year < 2010:\n",
    "        return \"2000's\"\n",
    "    elif year >= 2010:\n",
    "        return \"2010's\"\n",
    "    elif year == 0:\n",
    "        return \"undefined\"\n",
    "    else: \n",
    "        return \"unknown\""
   ]
  },
  {
   "cell_type": "code",
   "execution_count": 23,
   "metadata": {
    "trusted": false
   },
   "outputs": [
    {
     "data": {
      "text/html": [
       "<div>\n",
       "<style scoped>\n",
       "    .dataframe tbody tr th:only-of-type {\n",
       "        vertical-align: middle;\n",
       "    }\n",
       "\n",
       "    .dataframe tbody tr th {\n",
       "        vertical-align: top;\n",
       "    }\n",
       "\n",
       "    .dataframe thead th {\n",
       "        text-align: right;\n",
       "    }\n",
       "</style>\n",
       "<table border=\"1\" class=\"dataframe\">\n",
       "  <thead>\n",
       "    <tr style=\"text-align: right;\">\n",
       "      <th></th>\n",
       "      <th>index</th>\n",
       "      <th>launch</th>\n",
       "    </tr>\n",
       "  </thead>\n",
       "  <tbody>\n",
       "    <tr>\n",
       "      <th>0</th>\n",
       "      <td>2000's</td>\n",
       "      <td>9313</td>\n",
       "    </tr>\n",
       "    <tr>\n",
       "      <th>1</th>\n",
       "      <td>2010's</td>\n",
       "      <td>5404</td>\n",
       "    </tr>\n",
       "    <tr>\n",
       "      <th>2</th>\n",
       "      <td>1990's</td>\n",
       "      <td>1774</td>\n",
       "    </tr>\n",
       "    <tr>\n",
       "      <th>3</th>\n",
       "      <td>1980's</td>\n",
       "      <td>222</td>\n",
       "    </tr>\n",
       "  </tbody>\n",
       "</table>\n",
       "</div>"
      ],
      "text/plain": [
       "    index  launch\n",
       "0  2000's    9313\n",
       "1  2010's    5404\n",
       "2  1990's    1774\n",
       "3  1980's     222"
      ]
     },
     "execution_count": 23,
     "metadata": {},
     "output_type": "execute_result"
    }
   ],
   "source": [
    "df_games[\"launch\"] = df_games[\"year_of_release\"].apply(launch)\n",
    "decade_games = df_games[\"launch\"].value_counts().reset_index()\n",
    "decade_games"
   ]
  },
  {
   "cell_type": "code",
   "execution_count": 24,
   "metadata": {
    "trusted": false
   },
   "outputs": [
    {
     "data": {
      "text/plain": [
       "<AxesSubplot:title={'center':'Total Released Games per Decade'}>"
      ]
     },
     "execution_count": 24,
     "metadata": {},
     "output_type": "execute_result"
    },
    {
     "data": {
      "image/png": "[encoded data removed]",
      "text/plain": [
       "<Figure size 640x480 with 1 Axes>"
      ]
     },
     "metadata": {},
     "output_type": "display_data"
    }
   ],
   "source": [
    "decade_games.plot(kind=\"bar\", x=\"index\", rot=45, legend=\"\", xlabel=\"\", title=\"Total Released Games per Decade\", color=\"darkorange\")"
   ]
  },
  {
   "cell_type": "markdown",
   "metadata": {},
   "source": [
    "Esta breve visualización que divide la cantidad de juegos lanzados durante las decadas de 1980 a los 2010 nos demuestra que esta industria del entretenimiento ha crecido exponencialmente, siendo que en los *90´s* se tiene registrados un total de casi 1800 títulos lanzados en dicha época. Y para los *2000's* tuvo un gran crecimiento con más de 9000 videojuegos. Para los años del *2010's* puede que no se vea el crecimiento porque contamos con los datos de lanzamientos hasta el 2016. "
   ]
  },
  {
   "cell_type": "markdown",
   "metadata": {},
   "source": [
    "- **Observa cómo varían las ventas de una plataforma a otra.** Elige las plataformas con las mayores ventas totales y construye una distribución basada en los datos de cada año. Busca las plataformas que solían ser populares pero que ahora no tienen ventas. ¿Cuánto tardan generalmente las nuevas plataformas en aparecer y las antiguas en desaparecer?"
   ]
  },
  {
   "cell_type": "code",
   "execution_count": 25,
   "metadata": {
    "trusted": false
   },
   "outputs": [
    {
     "data": {
      "text/plain": [
       "platform\n",
       "PS2     1255.77\n",
       "X360     971.42\n",
       "PS3      939.64\n",
       "Wii      907.51\n",
       "DS       806.12\n",
       "PS       730.86\n",
       "GBA      317.85\n",
       "PS4      314.14\n",
       "PSP      294.05\n",
       "PC       259.52\n",
       "3DS      259.00\n",
       "XB       257.74\n",
       "GB       255.46\n",
       "NES      251.05\n",
       "N64      218.68\n",
       "SNES     200.04\n",
       "GC       198.93\n",
       "XOne     159.32\n",
       "2600      96.98\n",
       "WiiU      82.19\n",
       "PSV       54.07\n",
       "SAT       33.59\n",
       "GEN       30.74\n",
       "DC        15.95\n",
       "SCD        1.86\n",
       "NG         1.44\n",
       "WS         1.42\n",
       "TG16       0.16\n",
       "3DO        0.10\n",
       "GG         0.04\n",
       "PCFX       0.03\n",
       "Name: total_sales, dtype: float64"
      ]
     },
     "execution_count": 25,
     "metadata": {},
     "output_type": "execute_result"
    }
   ],
   "source": [
    "console_sales = df_games.groupby(\"platform\")[\"total_sales\"].sum()\n",
    "console_sales.sort_values(ascending=False)"
   ]
  },
  {
   "cell_type": "code",
   "execution_count": 26,
   "metadata": {
    "trusted": false
   },
   "outputs": [],
   "source": [
    "list_popular_consoles = [\"PS2\", \"X360\", \"PS3\", \"Wii\", \"DS\"]\n",
    "most_sold_consoles = df_games[\"platform\"].isin(list_popular_consoles)"
   ]
  },
  {
   "cell_type": "code",
   "execution_count": 27,
   "metadata": {
    "trusted": false
   },
   "outputs": [
    {
     "data": {
      "text/html": [
       "<div>\n",
       "<style scoped>\n",
       "    .dataframe tbody tr th:only-of-type {\n",
       "        vertical-align: middle;\n",
       "    }\n",
       "\n",
       "    .dataframe tbody tr th {\n",
       "        vertical-align: top;\n",
       "    }\n",
       "\n",
       "    .dataframe thead th {\n",
       "        text-align: right;\n",
       "    }\n",
       "</style>\n",
       "<table border=\"1\" class=\"dataframe\">\n",
       "  <thead>\n",
       "    <tr style=\"text-align: right;\">\n",
       "      <th></th>\n",
       "      <th>name</th>\n",
       "      <th>platform</th>\n",
       "      <th>year_of_release</th>\n",
       "      <th>genre</th>\n",
       "      <th>na_sales</th>\n",
       "      <th>eu_sales</th>\n",
       "      <th>jp_sales</th>\n",
       "      <th>other_sales</th>\n",
       "      <th>total_sales</th>\n",
       "      <th>critic_score</th>\n",
       "      <th>user_score</th>\n",
       "      <th>rating</th>\n",
       "      <th>launch</th>\n",
       "    </tr>\n",
       "  </thead>\n",
       "  <tbody>\n",
       "    <tr>\n",
       "      <th>0</th>\n",
       "      <td>WII SPORTS</td>\n",
       "      <td>Wii</td>\n",
       "      <td>2006</td>\n",
       "      <td>Sports</td>\n",
       "      <td>41.36</td>\n",
       "      <td>28.96</td>\n",
       "      <td>3.77</td>\n",
       "      <td>8.45</td>\n",
       "      <td>82.54</td>\n",
       "      <td>76.0</td>\n",
       "      <td>80.0</td>\n",
       "      <td>E</td>\n",
       "      <td>2000's</td>\n",
       "    </tr>\n",
       "    <tr>\n",
       "      <th>2</th>\n",
       "      <td>MARIO KART WII</td>\n",
       "      <td>Wii</td>\n",
       "      <td>2008</td>\n",
       "      <td>Racing</td>\n",
       "      <td>15.68</td>\n",
       "      <td>12.76</td>\n",
       "      <td>3.79</td>\n",
       "      <td>3.29</td>\n",
       "      <td>35.52</td>\n",
       "      <td>82.0</td>\n",
       "      <td>83.0</td>\n",
       "      <td>E</td>\n",
       "      <td>2000's</td>\n",
       "    </tr>\n",
       "    <tr>\n",
       "      <th>3</th>\n",
       "      <td>WII SPORTS RESORT</td>\n",
       "      <td>Wii</td>\n",
       "      <td>2009</td>\n",
       "      <td>Sports</td>\n",
       "      <td>15.61</td>\n",
       "      <td>10.93</td>\n",
       "      <td>3.28</td>\n",
       "      <td>2.95</td>\n",
       "      <td>32.77</td>\n",
       "      <td>80.0</td>\n",
       "      <td>80.0</td>\n",
       "      <td>E</td>\n",
       "      <td>2000's</td>\n",
       "    </tr>\n",
       "    <tr>\n",
       "      <th>6</th>\n",
       "      <td>NEW SUPER MARIO BROS</td>\n",
       "      <td>DS</td>\n",
       "      <td>2006</td>\n",
       "      <td>Platform</td>\n",
       "      <td>11.28</td>\n",
       "      <td>9.14</td>\n",
       "      <td>6.50</td>\n",
       "      <td>2.88</td>\n",
       "      <td>29.80</td>\n",
       "      <td>89.0</td>\n",
       "      <td>85.0</td>\n",
       "      <td>E</td>\n",
       "      <td>2000's</td>\n",
       "    </tr>\n",
       "    <tr>\n",
       "      <th>7</th>\n",
       "      <td>WII PLAY</td>\n",
       "      <td>Wii</td>\n",
       "      <td>2006</td>\n",
       "      <td>Misc</td>\n",
       "      <td>13.96</td>\n",
       "      <td>9.18</td>\n",
       "      <td>2.93</td>\n",
       "      <td>2.84</td>\n",
       "      <td>28.91</td>\n",
       "      <td>58.0</td>\n",
       "      <td>66.0</td>\n",
       "      <td>E</td>\n",
       "      <td>2000's</td>\n",
       "    </tr>\n",
       "    <tr>\n",
       "      <th>...</th>\n",
       "      <td>...</td>\n",
       "      <td>...</td>\n",
       "      <td>...</td>\n",
       "      <td>...</td>\n",
       "      <td>...</td>\n",
       "      <td>...</td>\n",
       "      <td>...</td>\n",
       "      <td>...</td>\n",
       "      <td>...</td>\n",
       "      <td>...</td>\n",
       "      <td>...</td>\n",
       "      <td>...</td>\n",
       "      <td>...</td>\n",
       "    </tr>\n",
       "    <tr>\n",
       "      <th>16698</th>\n",
       "      <td>MEZASE!! TSURI MASTER DS</td>\n",
       "      <td>DS</td>\n",
       "      <td>2009</td>\n",
       "      <td>Sports</td>\n",
       "      <td>0.00</td>\n",
       "      <td>0.00</td>\n",
       "      <td>0.01</td>\n",
       "      <td>0.00</td>\n",
       "      <td>0.01</td>\n",
       "      <td>0.0</td>\n",
       "      <td>0.0</td>\n",
       "      <td>Not Rated</td>\n",
       "      <td>2000's</td>\n",
       "    </tr>\n",
       "    <tr>\n",
       "      <th>16702</th>\n",
       "      <td>PLUSHEES</td>\n",
       "      <td>DS</td>\n",
       "      <td>2008</td>\n",
       "      <td>Simulation</td>\n",
       "      <td>0.01</td>\n",
       "      <td>0.00</td>\n",
       "      <td>0.00</td>\n",
       "      <td>0.00</td>\n",
       "      <td>0.01</td>\n",
       "      <td>0.0</td>\n",
       "      <td>0.0</td>\n",
       "      <td>E</td>\n",
       "      <td>2000's</td>\n",
       "    </tr>\n",
       "    <tr>\n",
       "      <th>16707</th>\n",
       "      <td>SCORE INTERNATIONAL BAJA 1000 THE OFFICIAL GAME</td>\n",
       "      <td>PS2</td>\n",
       "      <td>2008</td>\n",
       "      <td>Racing</td>\n",
       "      <td>0.00</td>\n",
       "      <td>0.00</td>\n",
       "      <td>0.00</td>\n",
       "      <td>0.00</td>\n",
       "      <td>0.00</td>\n",
       "      <td>0.0</td>\n",
       "      <td>0.0</td>\n",
       "      <td>Not Rated</td>\n",
       "      <td>2000's</td>\n",
       "    </tr>\n",
       "    <tr>\n",
       "      <th>16708</th>\n",
       "      <td>SAMURAI WARRIORS SANADA MARU</td>\n",
       "      <td>PS3</td>\n",
       "      <td>2016</td>\n",
       "      <td>Action</td>\n",
       "      <td>0.00</td>\n",
       "      <td>0.00</td>\n",
       "      <td>0.01</td>\n",
       "      <td>0.00</td>\n",
       "      <td>0.01</td>\n",
       "      <td>0.0</td>\n",
       "      <td>0.0</td>\n",
       "      <td>Not Rated</td>\n",
       "      <td>2010's</td>\n",
       "    </tr>\n",
       "    <tr>\n",
       "      <th>16709</th>\n",
       "      <td>LMA MANAGER 2007</td>\n",
       "      <td>X360</td>\n",
       "      <td>2006</td>\n",
       "      <td>Sports</td>\n",
       "      <td>0.00</td>\n",
       "      <td>0.01</td>\n",
       "      <td>0.00</td>\n",
       "      <td>0.00</td>\n",
       "      <td>0.01</td>\n",
       "      <td>0.0</td>\n",
       "      <td>0.0</td>\n",
       "      <td>Not Rated</td>\n",
       "      <td>2000's</td>\n",
       "    </tr>\n",
       "  </tbody>\n",
       "</table>\n",
       "<p>8224 rows × 13 columns</p>\n",
       "</div>"
      ],
      "text/plain": [
       "                                                  name platform  \\\n",
       "0                                           WII SPORTS      Wii   \n",
       "2                                       MARIO KART WII      Wii   \n",
       "3                                    WII SPORTS RESORT      Wii   \n",
       "6                                 NEW SUPER MARIO BROS       DS   \n",
       "7                                             WII PLAY      Wii   \n",
       "...                                                ...      ...   \n",
       "16698                         MEZASE!! TSURI MASTER DS       DS   \n",
       "16702                                         PLUSHEES       DS   \n",
       "16707  SCORE INTERNATIONAL BAJA 1000 THE OFFICIAL GAME      PS2   \n",
       "16708                     SAMURAI WARRIORS SANADA MARU      PS3   \n",
       "16709                                 LMA MANAGER 2007     X360   \n",
       "\n",
       "       year_of_release       genre  na_sales  eu_sales  jp_sales  other_sales  \\\n",
       "0                 2006      Sports     41.36     28.96      3.77         8.45   \n",
       "2                 2008      Racing     15.68     12.76      3.79         3.29   \n",
       "3                 2009      Sports     15.61     10.93      3.28         2.95   \n",
       "6                 2006    Platform     11.28      9.14      6.50         2.88   \n",
       "7                 2006        Misc     13.96      9.18      2.93         2.84   \n",
       "...                ...         ...       ...       ...       ...          ...   \n",
       "16698             2009      Sports      0.00      0.00      0.01         0.00   \n",
       "16702             2008  Simulation      0.01      0.00      0.00         0.00   \n",
       "16707             2008      Racing      0.00      0.00      0.00         0.00   \n",
       "16708             2016      Action      0.00      0.00      0.01         0.00   \n",
       "16709             2006      Sports      0.00      0.01      0.00         0.00   \n",
       "\n",
       "       total_sales  critic_score  user_score     rating  launch  \n",
       "0            82.54          76.0        80.0          E  2000's  \n",
       "2            35.52          82.0        83.0          E  2000's  \n",
       "3            32.77          80.0        80.0          E  2000's  \n",
       "6            29.80          89.0        85.0          E  2000's  \n",
       "7            28.91          58.0        66.0          E  2000's  \n",
       "...            ...           ...         ...        ...     ...  \n",
       "16698         0.01           0.0         0.0  Not Rated  2000's  \n",
       "16702         0.01           0.0         0.0          E  2000's  \n",
       "16707         0.00           0.0         0.0  Not Rated  2000's  \n",
       "16708         0.01           0.0         0.0  Not Rated  2010's  \n",
       "16709         0.01           0.0         0.0  Not Rated  2000's  \n",
       "\n",
       "[8224 rows x 13 columns]"
      ]
     },
     "execution_count": 27,
     "metadata": {},
     "output_type": "execute_result"
    }
   ],
   "source": [
    "only_most_sold = df_games[most_sold_consoles]\n",
    "only_most_sold"
   ]
  },
  {
   "cell_type": "code",
   "execution_count": 48,
   "metadata": {
    "trusted": false
   },
   "outputs": [
    {
     "data": {
      "text/html": [
       "<div>\n",
       "<style scoped>\n",
       "    .dataframe tbody tr th:only-of-type {\n",
       "        vertical-align: middle;\n",
       "    }\n",
       "\n",
       "    .dataframe tbody tr th {\n",
       "        vertical-align: top;\n",
       "    }\n",
       "\n",
       "    .dataframe thead th {\n",
       "        text-align: right;\n",
       "    }\n",
       "</style>\n",
       "<table border=\"1\" class=\"dataframe\">\n",
       "  <thead>\n",
       "    <tr style=\"text-align: right;\">\n",
       "      <th></th>\n",
       "      <th>name</th>\n",
       "      <th>platform</th>\n",
       "      <th>year_of_release</th>\n",
       "      <th>genre</th>\n",
       "      <th>na_sales</th>\n",
       "      <th>eu_sales</th>\n",
       "      <th>jp_sales</th>\n",
       "      <th>other_sales</th>\n",
       "      <th>total_sales</th>\n",
       "      <th>critic_score</th>\n",
       "      <th>user_score</th>\n",
       "      <th>rating</th>\n",
       "      <th>launch</th>\n",
       "    </tr>\n",
       "  </thead>\n",
       "  <tbody>\n",
       "    <tr>\n",
       "      <th>15956</th>\n",
       "      <td>STRONGEST TOKYO UNIVERSITY SHOGI DS</td>\n",
       "      <td>DS</td>\n",
       "      <td>1985</td>\n",
       "      <td>Action</td>\n",
       "      <td>0.0</td>\n",
       "      <td>0.0</td>\n",
       "      <td>0.02</td>\n",
       "      <td>0.0</td>\n",
       "      <td>0.02</td>\n",
       "      <td>0.0</td>\n",
       "      <td>0.0</td>\n",
       "      <td>Not Rated</td>\n",
       "      <td>1980's</td>\n",
       "    </tr>\n",
       "  </tbody>\n",
       "</table>\n",
       "</div>"
      ],
      "text/plain": [
       "                                      name platform  year_of_release   genre  \\\n",
       "15956  STRONGEST TOKYO UNIVERSITY SHOGI DS       DS             1985  Action   \n",
       "\n",
       "       na_sales  eu_sales  jp_sales  other_sales  total_sales  critic_score  \\\n",
       "15956       0.0       0.0      0.02          0.0         0.02           0.0   \n",
       "\n",
       "       user_score     rating  launch  \n",
       "15956         0.0  Not Rated  1980's  "
      ]
     },
     "execution_count": 48,
     "metadata": {},
     "output_type": "execute_result"
    }
   ],
   "source": [
    "ds_mistaken_year = only_most_sold[only_most_sold[\"year_of_release\"] == 1985]\n",
    "ds_mistaken_year"
   ]
  },
  {
   "cell_type": "markdown",
   "metadata": {},
   "source": [
    "La tabla originalmente tiene el videojuego *STRONGEST TOKYO UNIVERSITY SHOGI DS* registrado con un año de lanzamiento de 1985. Este dato es erróneo por lo que será necesario modiifcarlo por el año correcto que es 2010. "
   ]
  },
  {
   "cell_type": "code",
   "execution_count": 49,
   "metadata": {
    "trusted": false
   },
   "outputs": [],
   "source": [
    "only_most_sold = only_most_sold.replace(1985,2010)"
   ]
  },
  {
   "cell_type": "code",
   "execution_count": 50,
   "metadata": {
    "trusted": false
   },
   "outputs": [
    {
     "data": {
      "text/html": [
       "<div>\n",
       "<style scoped>\n",
       "    .dataframe tbody tr th:only-of-type {\n",
       "        vertical-align: middle;\n",
       "    }\n",
       "\n",
       "    .dataframe tbody tr th {\n",
       "        vertical-align: top;\n",
       "    }\n",
       "\n",
       "    .dataframe thead th {\n",
       "        text-align: right;\n",
       "    }\n",
       "</style>\n",
       "<table border=\"1\" class=\"dataframe\">\n",
       "  <thead>\n",
       "    <tr style=\"text-align: right;\">\n",
       "      <th></th>\n",
       "      <th>year_of_release</th>\n",
       "      <th>platform</th>\n",
       "      <th>total_sales</th>\n",
       "    </tr>\n",
       "  </thead>\n",
       "  <tbody>\n",
       "    <tr>\n",
       "      <th>0</th>\n",
       "      <td>2000</td>\n",
       "      <td>PS2</td>\n",
       "      <td>39.17</td>\n",
       "    </tr>\n",
       "    <tr>\n",
       "      <th>1</th>\n",
       "      <td>2001</td>\n",
       "      <td>PS2</td>\n",
       "      <td>166.43</td>\n",
       "    </tr>\n",
       "    <tr>\n",
       "      <th>2</th>\n",
       "      <td>2002</td>\n",
       "      <td>PS2</td>\n",
       "      <td>205.38</td>\n",
       "    </tr>\n",
       "    <tr>\n",
       "      <th>3</th>\n",
       "      <td>2003</td>\n",
       "      <td>PS2</td>\n",
       "      <td>184.31</td>\n",
       "    </tr>\n",
       "    <tr>\n",
       "      <th>4</th>\n",
       "      <td>2004</td>\n",
       "      <td>DS</td>\n",
       "      <td>17.27</td>\n",
       "    </tr>\n",
       "    <tr>\n",
       "      <th>5</th>\n",
       "      <td>2004</td>\n",
       "      <td>PS2</td>\n",
       "      <td>211.81</td>\n",
       "    </tr>\n",
       "    <tr>\n",
       "      <th>6</th>\n",
       "      <td>2005</td>\n",
       "      <td>DS</td>\n",
       "      <td>130.14</td>\n",
       "    </tr>\n",
       "    <tr>\n",
       "      <th>7</th>\n",
       "      <td>2005</td>\n",
       "      <td>PS2</td>\n",
       "      <td>160.66</td>\n",
       "    </tr>\n",
       "    <tr>\n",
       "      <th>8</th>\n",
       "      <td>2005</td>\n",
       "      <td>X360</td>\n",
       "      <td>8.25</td>\n",
       "    </tr>\n",
       "    <tr>\n",
       "      <th>9</th>\n",
       "      <td>2006</td>\n",
       "      <td>DS</td>\n",
       "      <td>119.81</td>\n",
       "    </tr>\n",
       "    <tr>\n",
       "      <th>10</th>\n",
       "      <td>2006</td>\n",
       "      <td>PS2</td>\n",
       "      <td>125.63</td>\n",
       "    </tr>\n",
       "    <tr>\n",
       "      <th>11</th>\n",
       "      <td>2006</td>\n",
       "      <td>PS3</td>\n",
       "      <td>20.96</td>\n",
       "    </tr>\n",
       "    <tr>\n",
       "      <th>12</th>\n",
       "      <td>2006</td>\n",
       "      <td>Wii</td>\n",
       "      <td>137.15</td>\n",
       "    </tr>\n",
       "    <tr>\n",
       "      <th>13</th>\n",
       "      <td>2006</td>\n",
       "      <td>X360</td>\n",
       "      <td>51.62</td>\n",
       "    </tr>\n",
       "    <tr>\n",
       "      <th>14</th>\n",
       "      <td>2007</td>\n",
       "      <td>DS</td>\n",
       "      <td>146.94</td>\n",
       "    </tr>\n",
       "    <tr>\n",
       "      <th>15</th>\n",
       "      <td>2007</td>\n",
       "      <td>PS2</td>\n",
       "      <td>75.99</td>\n",
       "    </tr>\n",
       "    <tr>\n",
       "      <th>16</th>\n",
       "      <td>2007</td>\n",
       "      <td>PS3</td>\n",
       "      <td>73.19</td>\n",
       "    </tr>\n",
       "    <tr>\n",
       "      <th>17</th>\n",
       "      <td>2007</td>\n",
       "      <td>Wii</td>\n",
       "      <td>152.77</td>\n",
       "    </tr>\n",
       "    <tr>\n",
       "      <th>18</th>\n",
       "      <td>2007</td>\n",
       "      <td>X360</td>\n",
       "      <td>95.41</td>\n",
       "    </tr>\n",
       "    <tr>\n",
       "      <th>19</th>\n",
       "      <td>2008</td>\n",
       "      <td>DS</td>\n",
       "      <td>145.31</td>\n",
       "    </tr>\n",
       "    <tr>\n",
       "      <th>20</th>\n",
       "      <td>2008</td>\n",
       "      <td>PS2</td>\n",
       "      <td>53.90</td>\n",
       "    </tr>\n",
       "    <tr>\n",
       "      <th>21</th>\n",
       "      <td>2008</td>\n",
       "      <td>PS3</td>\n",
       "      <td>118.52</td>\n",
       "    </tr>\n",
       "    <tr>\n",
       "      <th>22</th>\n",
       "      <td>2008</td>\n",
       "      <td>Wii</td>\n",
       "      <td>171.32</td>\n",
       "    </tr>\n",
       "    <tr>\n",
       "      <th>23</th>\n",
       "      <td>2008</td>\n",
       "      <td>X360</td>\n",
       "      <td>135.26</td>\n",
       "    </tr>\n",
       "    <tr>\n",
       "      <th>24</th>\n",
       "      <td>2009</td>\n",
       "      <td>DS</td>\n",
       "      <td>119.54</td>\n",
       "    </tr>\n",
       "    <tr>\n",
       "      <th>25</th>\n",
       "      <td>2009</td>\n",
       "      <td>PS2</td>\n",
       "      <td>26.40</td>\n",
       "    </tr>\n",
       "    <tr>\n",
       "      <th>26</th>\n",
       "      <td>2009</td>\n",
       "      <td>PS3</td>\n",
       "      <td>130.93</td>\n",
       "    </tr>\n",
       "    <tr>\n",
       "      <th>27</th>\n",
       "      <td>2009</td>\n",
       "      <td>Wii</td>\n",
       "      <td>206.97</td>\n",
       "    </tr>\n",
       "    <tr>\n",
       "      <th>28</th>\n",
       "      <td>2009</td>\n",
       "      <td>X360</td>\n",
       "      <td>120.29</td>\n",
       "    </tr>\n",
       "    <tr>\n",
       "      <th>29</th>\n",
       "      <td>2010</td>\n",
       "      <td>DS</td>\n",
       "      <td>88.38</td>\n",
       "    </tr>\n",
       "    <tr>\n",
       "      <th>30</th>\n",
       "      <td>2010</td>\n",
       "      <td>PS2</td>\n",
       "      <td>5.64</td>\n",
       "    </tr>\n",
       "    <tr>\n",
       "      <th>31</th>\n",
       "      <td>2010</td>\n",
       "      <td>PS3</td>\n",
       "      <td>142.17</td>\n",
       "    </tr>\n",
       "    <tr>\n",
       "      <th>32</th>\n",
       "      <td>2010</td>\n",
       "      <td>Wii</td>\n",
       "      <td>144.28</td>\n",
       "    </tr>\n",
       "    <tr>\n",
       "      <th>33</th>\n",
       "      <td>2010</td>\n",
       "      <td>X360</td>\n",
       "      <td>180.21</td>\n",
       "    </tr>\n",
       "    <tr>\n",
       "      <th>34</th>\n",
       "      <td>2011</td>\n",
       "      <td>DS</td>\n",
       "      <td>26.18</td>\n",
       "    </tr>\n",
       "    <tr>\n",
       "      <th>35</th>\n",
       "      <td>2011</td>\n",
       "      <td>PS2</td>\n",
       "      <td>0.45</td>\n",
       "    </tr>\n",
       "    <tr>\n",
       "      <th>36</th>\n",
       "      <td>2011</td>\n",
       "      <td>PS3</td>\n",
       "      <td>165.09</td>\n",
       "    </tr>\n",
       "    <tr>\n",
       "      <th>37</th>\n",
       "      <td>2011</td>\n",
       "      <td>Wii</td>\n",
       "      <td>59.65</td>\n",
       "    </tr>\n",
       "    <tr>\n",
       "      <th>38</th>\n",
       "      <td>2011</td>\n",
       "      <td>X360</td>\n",
       "      <td>143.84</td>\n",
       "    </tr>\n",
       "    <tr>\n",
       "      <th>39</th>\n",
       "      <td>2012</td>\n",
       "      <td>DS</td>\n",
       "      <td>11.01</td>\n",
       "    </tr>\n",
       "    <tr>\n",
       "      <th>40</th>\n",
       "      <td>2012</td>\n",
       "      <td>PS3</td>\n",
       "      <td>107.35</td>\n",
       "    </tr>\n",
       "    <tr>\n",
       "      <th>41</th>\n",
       "      <td>2012</td>\n",
       "      <td>Wii</td>\n",
       "      <td>21.71</td>\n",
       "    </tr>\n",
       "    <tr>\n",
       "      <th>42</th>\n",
       "      <td>2012</td>\n",
       "      <td>X360</td>\n",
       "      <td>99.74</td>\n",
       "    </tr>\n",
       "    <tr>\n",
       "      <th>43</th>\n",
       "      <td>2013</td>\n",
       "      <td>DS</td>\n",
       "      <td>1.54</td>\n",
       "    </tr>\n",
       "    <tr>\n",
       "      <th>44</th>\n",
       "      <td>2013</td>\n",
       "      <td>PS3</td>\n",
       "      <td>113.25</td>\n",
       "    </tr>\n",
       "    <tr>\n",
       "      <th>45</th>\n",
       "      <td>2013</td>\n",
       "      <td>Wii</td>\n",
       "      <td>8.59</td>\n",
       "    </tr>\n",
       "    <tr>\n",
       "      <th>46</th>\n",
       "      <td>2013</td>\n",
       "      <td>X360</td>\n",
       "      <td>88.58</td>\n",
       "    </tr>\n",
       "    <tr>\n",
       "      <th>47</th>\n",
       "      <td>2014</td>\n",
       "      <td>PS3</td>\n",
       "      <td>47.76</td>\n",
       "    </tr>\n",
       "    <tr>\n",
       "      <th>48</th>\n",
       "      <td>2014</td>\n",
       "      <td>Wii</td>\n",
       "      <td>3.75</td>\n",
       "    </tr>\n",
       "    <tr>\n",
       "      <th>49</th>\n",
       "      <td>2014</td>\n",
       "      <td>X360</td>\n",
       "      <td>34.74</td>\n",
       "    </tr>\n",
       "    <tr>\n",
       "      <th>50</th>\n",
       "      <td>2015</td>\n",
       "      <td>PS3</td>\n",
       "      <td>16.82</td>\n",
       "    </tr>\n",
       "    <tr>\n",
       "      <th>51</th>\n",
       "      <td>2015</td>\n",
       "      <td>Wii</td>\n",
       "      <td>1.14</td>\n",
       "    </tr>\n",
       "    <tr>\n",
       "      <th>52</th>\n",
       "      <td>2015</td>\n",
       "      <td>X360</td>\n",
       "      <td>11.96</td>\n",
       "    </tr>\n",
       "    <tr>\n",
       "      <th>53</th>\n",
       "      <td>2016</td>\n",
       "      <td>PS3</td>\n",
       "      <td>3.60</td>\n",
       "    </tr>\n",
       "    <tr>\n",
       "      <th>54</th>\n",
       "      <td>2016</td>\n",
       "      <td>Wii</td>\n",
       "      <td>0.18</td>\n",
       "    </tr>\n",
       "    <tr>\n",
       "      <th>55</th>\n",
       "      <td>2016</td>\n",
       "      <td>X360</td>\n",
       "      <td>1.52</td>\n",
       "    </tr>\n",
       "  </tbody>\n",
       "</table>\n",
       "</div>"
      ],
      "text/plain": [
       "    year_of_release platform  total_sales\n",
       "0              2000      PS2        39.17\n",
       "1              2001      PS2       166.43\n",
       "2              2002      PS2       205.38\n",
       "3              2003      PS2       184.31\n",
       "4              2004       DS        17.27\n",
       "5              2004      PS2       211.81\n",
       "6              2005       DS       130.14\n",
       "7              2005      PS2       160.66\n",
       "8              2005     X360         8.25\n",
       "9              2006       DS       119.81\n",
       "10             2006      PS2       125.63\n",
       "11             2006      PS3        20.96\n",
       "12             2006      Wii       137.15\n",
       "13             2006     X360        51.62\n",
       "14             2007       DS       146.94\n",
       "15             2007      PS2        75.99\n",
       "16             2007      PS3        73.19\n",
       "17             2007      Wii       152.77\n",
       "18             2007     X360        95.41\n",
       "19             2008       DS       145.31\n",
       "20             2008      PS2        53.90\n",
       "21             2008      PS3       118.52\n",
       "22             2008      Wii       171.32\n",
       "23             2008     X360       135.26\n",
       "24             2009       DS       119.54\n",
       "25             2009      PS2        26.40\n",
       "26             2009      PS3       130.93\n",
       "27             2009      Wii       206.97\n",
       "28             2009     X360       120.29\n",
       "29             2010       DS        88.38\n",
       "30             2010      PS2         5.64\n",
       "31             2010      PS3       142.17\n",
       "32             2010      Wii       144.28\n",
       "33             2010     X360       180.21\n",
       "34             2011       DS        26.18\n",
       "35             2011      PS2         0.45\n",
       "36             2011      PS3       165.09\n",
       "37             2011      Wii        59.65\n",
       "38             2011     X360       143.84\n",
       "39             2012       DS        11.01\n",
       "40             2012      PS3       107.35\n",
       "41             2012      Wii        21.71\n",
       "42             2012     X360        99.74\n",
       "43             2013       DS         1.54\n",
       "44             2013      PS3       113.25\n",
       "45             2013      Wii         8.59\n",
       "46             2013     X360        88.58\n",
       "47             2014      PS3        47.76\n",
       "48             2014      Wii         3.75\n",
       "49             2014     X360        34.74\n",
       "50             2015      PS3        16.82\n",
       "51             2015      Wii         1.14\n",
       "52             2015     X360        11.96\n",
       "53             2016      PS3         3.60\n",
       "54             2016      Wii         0.18\n",
       "55             2016     X360         1.52"
      ]
     },
     "execution_count": 50,
     "metadata": {},
     "output_type": "execute_result"
    }
   ],
   "source": [
    "sales_by_year_platform = only_most_sold.groupby([\"year_of_release\", \"platform\"])[\"total_sales\"].sum().reset_index()\n",
    "sales_by_year_platform"
   ]
  },
  {
   "cell_type": "code",
   "execution_count": 52,
   "metadata": {
    "trusted": false
   },
   "outputs": [
    {
     "data": {
      "image/png": "[encoded data removed]",
      "text/plain": [
       "<Figure size 1000x600 with 1 Axes>"
      ]
     },
     "metadata": {},
     "output_type": "display_data"
    }
   ],
   "source": [
    "\n",
    "df_sales_ps2 = sales_by_year_platform[sales_by_year_platform[\"platform\"] == \"PS2\"]\n",
    "df_sales_x360 = sales_by_year_platform[sales_by_year_platform[\"platform\"] == \"X360\"]\n",
    "df_sales_ps3 = sales_by_year_platform[sales_by_year_platform[\"platform\"] == \"PS3\"]\n",
    "df_sales_wii = sales_by_year_platform[sales_by_year_platform[\"platform\"] == \"Wii\"]\n",
    "df_sales_ds = sales_by_year_platform[sales_by_year_platform[\"platform\"] == \"DS\"]\n",
    "\n",
    "df_sales_ps2_grouped = df_sales_ps2.groupby(\"year_of_release\")[\"total_sales\"].sum().reset_index()\n",
    "df_sales_x360_grouped = df_sales_x360.groupby(\"year_of_release\")[\"total_sales\"].sum().reset_index()\n",
    "df_sales_ps3_grouped = df_sales_ps3.groupby(\"year_of_release\")[\"total_sales\"].sum().reset_index()\n",
    "df_sales_wii_grouped = df_sales_wii.groupby(\"year_of_release\")[\"total_sales\"].sum().reset_index()\n",
    "df_sales_ds_grouped = df_sales_ds.groupby(\"year_of_release\")[\"total_sales\"].sum().reset_index()\n",
    "\n",
    "\n",
    "df_sales_ps2_grouped[\"platform\"] = \"PS2\"\n",
    "df_sales_x360_grouped[\"platform\"] = \"X360\"\n",
    "df_sales_ps3_grouped[\"platform\"] = \"PS3\"\n",
    "df_sales_wii_grouped[\"platform\"] = \"Wii\"\n",
    "df_sales_ds_grouped[\"platform\"] = \"DS\"\n",
    "\n",
    "\n",
    "df_sales_combined = pd.concat([df_sales_ps2_grouped, df_sales_x360_grouped, df_sales_ps3_grouped, df_sales_wii_grouped, df_sales_ds_grouped])\n",
    "\n",
    "\n",
    "plt.figure(figsize=(10, 6))\n",
    "sns.barplot(x=\"year_of_release\", y=\"total_sales\", hue=\"platform\", data=df_sales_combined)\n",
    "plt.legend(loc='upper left', bbox_to_anchor=(0, 1))\n",
    "plt.title(\"Total Sales per Platform and Year\")\n",
    "plt.xlabel(\"\")\n",
    "plt.ylabel(\"Total Sales\")\n",
    "plt.xticks(rotation=45)\n",
    "plt.tight_layout()\n",
    "plt.show()"
   ]
  },
  {
   "cell_type": "markdown",
   "metadata": {},
   "source": [
    "Las consolas con mayores ventas según los datos son: \n",
    "- PS2     \n",
    "- X360     \n",
    "- PS3     \n",
    "- Wii      \n",
    "- DS\n",
    "\n",
    "Las consolas tienen un tiempo de vida de aproximadamente 13 años. En el quinto año a partir de su lanzamiento las consolas llegan a un gran número de ventas, ya sea debido a que se han establecido como plataformas con buenos lanzamientos en sus video juegos o porque han ganado popularidad entre el público. \n",
    "\n",
    "Por ejemplo, el punto más alto de ventas para la Wii fue de 206.97 millones de ventas totales en 2009 y para la consola más vendida de todos los tiempos, la PS4, alcanzó hasta casi 212 millones de ventas en 2004. \n",
    "\n",
    "Sin embaargo, siempre llagan consolas que introducen mejoras en el rendimiento gráfico y/o jugable para la calidad de los juegos, por lo que una plataforma vieja empieza a perder territorio en ventas considerable a partir del octavo año en el que está disponible al público. A partir del décimo año sería el promedio en donde cada consola vende menos, entre un 0.5 a 1.5 millones de video juegos. "
   ]
  },
  {
   "cell_type": "markdown",
   "metadata": {},
   "source": [
    "- Determina para qué período debes tomar datos. Para hacerlo mira tus respuestas a las preguntas anteriores. Los datos deberían permitirte construir un modelo para 2017.???\n",
    "- Trabaja solo con los datos que consideras relevantes. Ignora los datos de años anteriores.\n",
    "- ¿Qué plataformas son líderes en ventas? ¿Cuáles crecen y cuáles se reducen? Elige varias plataformas potencialmente rentables.\n",
    "- Crea un diagrama de caja para las ventas globales de todos los juegos, desglosados por plataforma. ¿Son significativas las diferencias en las ventas? ¿Qué sucede con las ventas promedio en varias plataformas? Describe tus hallazgos."
   ]
  },
  {
   "cell_type": "code",
   "execution_count": 30,
   "metadata": {
    "scrolled": false,
    "trusted": false
   },
   "outputs": [
    {
     "data": {
      "image/png": "[encoded data removed]",
      "text/plain": [
       "<Figure size 1200x800 with 1 Axes>"
      ]
     },
     "metadata": {},
     "output_type": "display_data"
    }
   ],
   "source": [
    "\n",
    "plt.figure(figsize=(12, 8))\n",
    "sns.boxplot(x=\"platform\", y=\"total_sales\", data=sales_by_year_platform)\n",
    "plt.title(\"Global Sales Distributions per Platform\")\n",
    "plt.xlabel(\"\")\n",
    "plt.ylabel(\"Total Sales\")\n",
    "\n",
    "\n",
    "plt.xticks(rotation=45)\n",
    "\n",
    "plt.show()"
   ]
  },
  {
   "cell_type": "markdown",
   "metadata": {},
   "source": [
    "¿Qué plataformas son líderes en ventas? ¿Cuáles crecen y cuáles se reducen? Elige varias plataformas potencialmente rentables.\n",
    "Crea un diagrama de caja para las ventas globales de todos los juegos, desglosados por plataforma. ¿Son significativas las diferencias en las ventas? ¿Qué sucede con las ventas promedio en varias plataformas? **Describe tus hallazgos.**\n",
    "\n",
    "Las consolas con mayores ventas son la DS, PS2, X360, PS3 y Wii. Para estas primeras cuatro consolas tienen casi un promerio entre los 90 a 110 millones de ventas en promedio. Mientras que la Wii es un caso peculiar debido a que su promedio de ventas es menor comparado con el resto de las otras consolas, con un promedio de de 60 millones de ventas. Sin embargo, es una consola que cuenta con valores atípicos de de hasta 200 millones de ventas, junto con la PS2. La consola más vendida de la historia, la PS2, presenta las razones de su éxito a través de este gráfico. ya que los datos se distribuen principalmente entre los 50 a 170 millones de ventas. Este sería un caso que marca una diferencia entre las demás consolas. \n",
    "\n",
    "De igual manera, se puede observar que los años más competitivos entre consolas fue entre la X360 y la PS3. Ambas consolas fueron vendidas al público al mismo tiempo. Se observa que sus los valores de ambas se distribuyen casi igual, entre 40 a 135 millones de ventas. Sin embargo, la PS3 tiene un promedio mayor de ventas con 110 millones y la x360 con 90 millones. Es una generación interesante, ya que PS acababa de construir su mayor éxito con la PS2; pero Xbox logró posicionar una competencia con su consola y juegos. "
   ]
  },
  {
   "cell_type": "markdown",
   "metadata": {},
   "source": [
    "**Mira cómo las reseñas de usuarios y profesionales afectan las ventas de una plataforma popular** (tu elección). Crea un gráfico de dispersión y calcula la correlación entre las reseñas y las ventas. Saca conclusiones.\n",
    "Teniendo en cuenta tus conclusiones compara las ventas de los mismos juegos en otras plataformas."
   ]
  },
  {
   "cell_type": "code",
   "execution_count": 31,
   "metadata": {
    "trusted": false
   },
   "outputs": [
    {
     "data": {
      "text/plain": [
       "<AxesSubplot:title={'center':'Correlation Between Sales and Critic Score for PS4'}, xlabel='Critic Score', ylabel='Total Sales'>"
      ]
     },
     "execution_count": 31,
     "metadata": {},
     "output_type": "execute_result"
    },
    {
     "data": {
      "image/png": "[encoded data removed]",
      "text/plain": [
       "<Figure size 640x480 with 1 Axes>"
      ]
     },
     "metadata": {},
     "output_type": "display_data"
    }
   ],
   "source": [
    "critic_corr_PS4 = df_games[df_games[\"platform\"] == \"PS4\"][[\"total_sales\",\"critic_score\"]]\n",
    "critic_corr_PS4.plot(kind=\"scatter\", x=\"critic_score\", y=\"total_sales\", alpha=0.5, xlabel=\"Critic Score\", ylabel=\"Total Sales\", \n",
    "                      color=\"darkblue\", title=\"Correlation Between Sales and Critic Score for PS4\")"
   ]
  },
  {
   "cell_type": "code",
   "execution_count": 32,
   "metadata": {
    "trusted": false
   },
   "outputs": [
    {
     "data": {
      "text/plain": [
       "<AxesSubplot:title={'center':'Correlation Between Sales and User Score for PS4'}, xlabel='User Score', ylabel='Total Sales'>"
      ]
     },
     "execution_count": 32,
     "metadata": {},
     "output_type": "execute_result"
    },
    {
     "data": {
      "image/png": "[encoded data removed]",
      "text/plain": [
       "<Figure size 640x480 with 1 Axes>"
      ]
     },
     "metadata": {},
     "output_type": "display_data"
    }
   ],
   "source": [
    "critic_corr_PS4 = df_games[df_games[\"platform\"] == \"PS4\"][[\"total_sales\",\"user_score\", \"critic_score\"]]\n",
    "critic_corr_PS4.plot(kind=\"scatter\", x=\"user_score\", y=\"total_sales\", alpha=0.5, \n",
    "                     xlabel=\"User Score\", ylabel=\"Total Sales\", \n",
    "                      color=\"darkblue\", title=\"Correlation Between Sales and User Score for PS4\")"
   ]
  },
  {
   "cell_type": "code",
   "execution_count": 33,
   "metadata": {
    "trusted": false
   },
   "outputs": [
    {
     "data": {
      "text/html": [
       "<div>\n",
       "<style scoped>\n",
       "    .dataframe tbody tr th:only-of-type {\n",
       "        vertical-align: middle;\n",
       "    }\n",
       "\n",
       "    .dataframe tbody tr th {\n",
       "        vertical-align: top;\n",
       "    }\n",
       "\n",
       "    .dataframe thead th {\n",
       "        text-align: right;\n",
       "    }\n",
       "</style>\n",
       "<table border=\"1\" class=\"dataframe\">\n",
       "  <thead>\n",
       "    <tr style=\"text-align: right;\">\n",
       "      <th></th>\n",
       "      <th>total_sales</th>\n",
       "      <th>user_score</th>\n",
       "      <th>critic_score</th>\n",
       "    </tr>\n",
       "  </thead>\n",
       "  <tbody>\n",
       "    <tr>\n",
       "      <th>total_sales</th>\n",
       "      <td>1.000000</td>\n",
       "      <td>0.113116</td>\n",
       "      <td>0.22755</td>\n",
       "    </tr>\n",
       "    <tr>\n",
       "      <th>user_score</th>\n",
       "      <td>0.113116</td>\n",
       "      <td>1.000000</td>\n",
       "      <td>0.90085</td>\n",
       "    </tr>\n",
       "    <tr>\n",
       "      <th>critic_score</th>\n",
       "      <td>0.227550</td>\n",
       "      <td>0.900850</td>\n",
       "      <td>1.00000</td>\n",
       "    </tr>\n",
       "  </tbody>\n",
       "</table>\n",
       "</div>"
      ],
      "text/plain": [
       "              total_sales  user_score  critic_score\n",
       "total_sales      1.000000    0.113116       0.22755\n",
       "user_score       0.113116    1.000000       0.90085\n",
       "critic_score     0.227550    0.900850       1.00000"
      ]
     },
     "execution_count": 33,
     "metadata": {},
     "output_type": "execute_result"
    }
   ],
   "source": [
    "critic_corr_PS4.corr()"
   ]
  },
  {
   "cell_type": "code",
   "execution_count": 34,
   "metadata": {
    "trusted": false
   },
   "outputs": [],
   "source": [
    "shared_releases_xbox = df_games[df_games[\"platform\"] == \"XOne\"]\n",
    "shared_releases_ps4 = df_games[df_games[\"platform\"] == \"PS4\"]\n",
    "shared_releases = shared_releases_xbox.merge(shared_releases_ps4, on=\"name\", how=\"inner\")\n",
    "#shared_releases"
   ]
  },
  {
   "cell_type": "code",
   "execution_count": 35,
   "metadata": {
    "scrolled": false,
    "trusted": false
   },
   "outputs": [
    {
     "data": {
      "text/plain": [
       "<AxesSubplot:title={'center':'Correlation Between Sales and Critic Score for XOne'}, xlabel='Critic Score', ylabel='Total Sales'>"
      ]
     },
     "execution_count": 35,
     "metadata": {},
     "output_type": "execute_result"
    },
    {
     "data": {
      "image/png": "[encoded data removed]",
      "text/plain": [
       "<Figure size 640x480 with 1 Axes>"
      ]
     },
     "metadata": {},
     "output_type": "display_data"
    }
   ],
   "source": [
    "critic_corr_xbox = shared_releases[[\"total_sales_x\",\"critic_score_x\"]]\n",
    "critic_corr_xbox.plot(kind=\"scatter\", x=\"critic_score_x\", y=\"total_sales_x\", \n",
    "                      alpha=0.5, xlabel=\"Critic Score\", ylabel=\"Total Sales\", \n",
    "                      color=\"darkgreen\", title=\"Correlation Between Sales and Critic Score for XOne\")"
   ]
  },
  {
   "cell_type": "code",
   "execution_count": 36,
   "metadata": {
    "trusted": false
   },
   "outputs": [
    {
     "data": {
      "text/plain": [
       "<AxesSubplot:title={'center':'Correlation Between Sales and User Score for XOne'}, xlabel='User Score', ylabel='Total Sales'>"
      ]
     },
     "execution_count": 36,
     "metadata": {},
     "output_type": "execute_result"
    },
    {
     "data": {
      "image/png": "[encoded data removed]",
      "text/plain": [
       "<Figure size 640x480 with 1 Axes>"
      ]
     },
     "metadata": {},
     "output_type": "display_data"
    }
   ],
   "source": [
    "critic_corr_xbox = shared_releases[[\"total_sales_x\",\"user_score_x\", \"critic_score_x\"]]\n",
    "critic_corr_xbox.plot(kind=\"scatter\", x=\"user_score_x\", y=\"total_sales_x\", \n",
    "                      alpha=0.5, xlabel=\"User Score\", ylabel=\"Total Sales\", \n",
    "                      color=\"darkgreen\", title=\"Correlation Between Sales and User Score for XOne\")\n"
   ]
  },
  {
   "cell_type": "code",
   "execution_count": 37,
   "metadata": {
    "trusted": false
   },
   "outputs": [
    {
     "data": {
      "text/html": [
       "<div>\n",
       "<style scoped>\n",
       "    .dataframe tbody tr th:only-of-type {\n",
       "        vertical-align: middle;\n",
       "    }\n",
       "\n",
       "    .dataframe tbody tr th {\n",
       "        vertical-align: top;\n",
       "    }\n",
       "\n",
       "    .dataframe thead th {\n",
       "        text-align: right;\n",
       "    }\n",
       "</style>\n",
       "<table border=\"1\" class=\"dataframe\">\n",
       "  <thead>\n",
       "    <tr style=\"text-align: right;\">\n",
       "      <th></th>\n",
       "      <th>total_sales_x</th>\n",
       "      <th>user_score_x</th>\n",
       "      <th>critic_score_x</th>\n",
       "    </tr>\n",
       "  </thead>\n",
       "  <tbody>\n",
       "    <tr>\n",
       "      <th>total_sales_x</th>\n",
       "      <td>1.000000</td>\n",
       "      <td>0.064075</td>\n",
       "      <td>0.225729</td>\n",
       "    </tr>\n",
       "    <tr>\n",
       "      <th>user_score_x</th>\n",
       "      <td>0.064075</td>\n",
       "      <td>1.000000</td>\n",
       "      <td>0.750261</td>\n",
       "    </tr>\n",
       "    <tr>\n",
       "      <th>critic_score_x</th>\n",
       "      <td>0.225729</td>\n",
       "      <td>0.750261</td>\n",
       "      <td>1.000000</td>\n",
       "    </tr>\n",
       "  </tbody>\n",
       "</table>\n",
       "</div>"
      ],
      "text/plain": [
       "                total_sales_x  user_score_x  critic_score_x\n",
       "total_sales_x        1.000000      0.064075        0.225729\n",
       "user_score_x         0.064075      1.000000        0.750261\n",
       "critic_score_x       0.225729      0.750261        1.000000"
      ]
     },
     "execution_count": 37,
     "metadata": {},
     "output_type": "execute_result"
    }
   ],
   "source": [
    "critic_corr_xbox.corr()"
   ]
  },
  {
   "cell_type": "code",
   "execution_count": 38,
   "metadata": {
    "trusted": false
   },
   "outputs": [],
   "source": [
    "shared_releases_pc = df_games[df_games[\"platform\"] == \"PC\"]\n",
    "shared_releases_ps4 = df_games[df_games[\"platform\"] == \"PS4\"]\n",
    "shared_releases_pc = shared_releases_ps4.merge(shared_releases_ps4, on=\"name\", how=\"inner\")"
   ]
  },
  {
   "cell_type": "code",
   "execution_count": 39,
   "metadata": {
    "trusted": false
   },
   "outputs": [
    {
     "data": {
      "text/plain": [
       "<AxesSubplot:title={'center':'Correlation Between Sales and Critic Score for PC'}, xlabel='Critic Score', ylabel='Total Sales'>"
      ]
     },
     "execution_count": 39,
     "metadata": {},
     "output_type": "execute_result"
    },
    {
     "data": {
      "image/png": "[encoded data removed]",
      "text/plain": [
       "<Figure size 640x480 with 1 Axes>"
      ]
     },
     "metadata": {},
     "output_type": "display_data"
    }
   ],
   "source": [
    "critic_corr_pc = shared_releases_pc[[\"total_sales_x\",\"critic_score_x\"]]\n",
    "critic_corr_pc.plot(kind=\"scatter\", x=\"critic_score_x\", y=\"total_sales_x\", \n",
    "                      alpha=0.5, xlabel=\"Critic Score\", ylabel=\"Total Sales\", \n",
    "                      color=\"gray\", title=\"Correlation Between Sales and Critic Score for PC\")"
   ]
  },
  {
   "cell_type": "code",
   "execution_count": 40,
   "metadata": {
    "trusted": false
   },
   "outputs": [
    {
     "data": {
      "text/plain": [
       "<AxesSubplot:title={'center':'Correlation Between Sales and Critic Score for PC'}, xlabel='User Score', ylabel='Total Sales'>"
      ]
     },
     "execution_count": 40,
     "metadata": {},
     "output_type": "execute_result"
    },
    {
     "data": {
      "image/png": "[encoded data removed]",
      "text/plain": [
       "<Figure size 640x480 with 1 Axes>"
      ]
     },
     "metadata": {},
     "output_type": "display_data"
    }
   ],
   "source": [
    "critic_corr_pc = shared_releases_pc[[\"total_sales_x\",\"user_score_x\",\"critic_score_x\"]]\n",
    "critic_corr_pc.plot(kind=\"scatter\", x=\"user_score_x\", y=\"total_sales_x\", \n",
    "                      alpha=0.5, xlabel=\"User Score\", ylabel=\"Total Sales\", \n",
    "                      color=\"gray\", title=\"Correlation Between Sales and Critic Score for PC\")"
   ]
  },
  {
   "cell_type": "code",
   "execution_count": 41,
   "metadata": {
    "trusted": false
   },
   "outputs": [
    {
     "data": {
      "text/html": [
       "<div>\n",
       "<style scoped>\n",
       "    .dataframe tbody tr th:only-of-type {\n",
       "        vertical-align: middle;\n",
       "    }\n",
       "\n",
       "    .dataframe tbody tr th {\n",
       "        vertical-align: top;\n",
       "    }\n",
       "\n",
       "    .dataframe thead th {\n",
       "        text-align: right;\n",
       "    }\n",
       "</style>\n",
       "<table border=\"1\" class=\"dataframe\">\n",
       "  <thead>\n",
       "    <tr style=\"text-align: right;\">\n",
       "      <th></th>\n",
       "      <th>total_sales_x</th>\n",
       "      <th>user_score_x</th>\n",
       "      <th>critic_score_x</th>\n",
       "    </tr>\n",
       "  </thead>\n",
       "  <tbody>\n",
       "    <tr>\n",
       "      <th>total_sales_x</th>\n",
       "      <td>1.000000</td>\n",
       "      <td>0.113116</td>\n",
       "      <td>0.22755</td>\n",
       "    </tr>\n",
       "    <tr>\n",
       "      <th>user_score_x</th>\n",
       "      <td>0.113116</td>\n",
       "      <td>1.000000</td>\n",
       "      <td>0.90085</td>\n",
       "    </tr>\n",
       "    <tr>\n",
       "      <th>critic_score_x</th>\n",
       "      <td>0.227550</td>\n",
       "      <td>0.900850</td>\n",
       "      <td>1.00000</td>\n",
       "    </tr>\n",
       "  </tbody>\n",
       "</table>\n",
       "</div>"
      ],
      "text/plain": [
       "                total_sales_x  user_score_x  critic_score_x\n",
       "total_sales_x        1.000000      0.113116         0.22755\n",
       "user_score_x         0.113116      1.000000         0.90085\n",
       "critic_score_x       0.227550      0.900850         1.00000"
      ]
     },
     "execution_count": 41,
     "metadata": {},
     "output_type": "execute_result"
    }
   ],
   "source": [
    "critic_corr_pc.corr()"
   ]
  },
  {
   "cell_type": "markdown",
   "metadata": {},
   "source": [
    "Al revisar la correlación entre la crítica de usuarios/críticos y las ventas de los video juegos, se concluye que hay una relación débil de influencia entre ambas variables. Esto puede deberse a que es una industria que se basa en preventas, en donde varios usuarios compran un título sin haber jugado antes o porque varios videojuegos son series ya populares con fans que la siguen desde hace años. Por lo que independientemente de la crítica, los usuarios quieren corroborar o seguir jugando los juegos de su serie favorita. \n",
    "\n",
    "Se nota una leve dispersión de mayores ventas con mejor calificación para la correlación entre la calificación de la crítica y las ventas, o sea, los críticos brindan mejores calificaciones en promedio. Esto puede deberse a que los críticos reciben copias gratuitas del juego por lo que no arriesgan su propio dinero en caso de que un juego sea considerado mediocre. Mientras la dispersión de datos de los usuarios presenta una mayor distribución. "
   ]
  },
  {
   "cell_type": "markdown",
   "metadata": {},
   "source": [
    "- Echa un vistazo a la **distribución general de los juegos por género.** ¿Qué se puede decir de los géneros más rentables? ¿Puedes generalizar acerca de los géneros con ventas altas y bajas?"
   ]
  },
  {
   "cell_type": "code",
   "execution_count": 42,
   "metadata": {
    "trusted": false
   },
   "outputs": [
    {
     "data": {
      "text/plain": [
       "<AxesSubplot:title={'center':'Total Sales per Genre'}, ylabel='Total Sales'>"
      ]
     },
     "execution_count": 42,
     "metadata": {},
     "output_type": "execute_result"
    },
    {
     "data": {
      "image/png": "[encoded data removed]",
      "text/plain": [
       "<Figure size 640x480 with 1 Axes>"
      ]
     },
     "metadata": {},
     "output_type": "display_data"
    }
   ],
   "source": [
    "sales_per_genre = df_games.groupby(\"genre\")[\"total_sales\"].sum()\n",
    "sales_per_genre.plot(kind=\"bar\", rot=45, color=\"darkorange\", xlabel=\"\", ylabel=\"Total Sales\", title=\"Total Sales per Genre\")"
   ]
  },
  {
   "cell_type": "markdown",
   "metadata": {},
   "source": [
    "El género de acción acapara significativamente al resto de géneros con casi 1750 millones de ventas acumuladas durante los años. Le sigue deportes con aproximadamente 1300 millones, Shooter con 1000 millones y Role Playing con 900 millones. Los más bajos son Puzzle con 250 millones y Strategy con 200 millones de ventas. Se puede conlcuir que la razón por la que el género Action al ser el más vendido es por su popularidad a un público joven y por su facilidad de comercialización, ya que es un género que ofrecen el mayor entretenimiento. Se podría asumir las menores ventas de los géneros Puzzle y Strategy debido a que los video juegos son percibidos como un tiempo de ocio después de completar otras actividades. Por lo que crear etrategias y resolver rompecabezas no es lo más popular para el tiempo libre. "
   ]
  },
  {
   "cell_type": "markdown",
   "metadata": {},
   "source": [
    "# Paso 4. Crea un perfil de usuario para cada región\n",
    "Para cada región (NA, UE, JP) determina:\n",
    "- Las cinco plataformas principales. Describe las variaciones en sus cuotas de mercado de una región a otra.\n",
    "- Los cinco géneros principales. Explica la diferencia.\n",
    "- Si las clasificaciones de ESRB afectan a las ventas en regiones individuales."
   ]
  },
  {
   "cell_type": "code",
   "execution_count": 43,
   "metadata": {
    "trusted": false
   },
   "outputs": [
    {
     "data": {
      "image/png": "[encoded data removed]",
      "text/plain": [
       "<Figure size 1400x700 with 1 Axes>"
      ]
     },
     "metadata": {},
     "output_type": "display_data"
    }
   ],
   "source": [
    "df_sales_jp = df_games.groupby([\"platform\"])[\"jp_sales\"].sum().reset_index()\n",
    "df_sales_eu = df_games.groupby([\"platform\"])[\"eu_sales\"].sum().reset_index()\n",
    "df_sales_na = df_games.groupby([\"platform\"])[\"na_sales\"].sum().reset_index()\n",
    "\n",
    "top_jp = df_sales_jp.nlargest(5, \"jp_sales\")\n",
    "top_eu = df_sales_eu.nlargest(5, \"eu_sales\")\n",
    "top_na = df_sales_na.nlargest(5, \"na_sales\")\n",
    "\n",
    "top_jp[\"Region\"] = \"JP\"\n",
    "top_eu[\"Region\"] = \"EU\"\n",
    "top_na[\"Region\"] = \"NA\"\n",
    "\n",
    "df_top_platforms = pd.concat([top_jp[[\"platform\", \"jp_sales\", \"Region\"]],\n",
    "                              top_eu[[\"platform\", \"eu_sales\", \"Region\"]],\n",
    "                              top_na[[\"platform\", \"na_sales\", \"Region\"]]])\n",
    "\n",
    "df_top_platforms_melted = pd.melt(df_top_platforms, id_vars=[\"platform\", \"Region\"], \n",
    "                                   value_vars=[\"jp_sales\", \"eu_sales\", \"na_sales\"], \n",
    "                                   var_name=\"Sales_Region\", value_name=\"Sales\")\n",
    "\n",
    "plt.figure(figsize=(14, 7))\n",
    "sns.barplot(data=df_top_platforms_melted, x=\"platform\", y=\"Sales\", hue=\"Region\", palette=\"flare\")\n",
    "plt.title(\"Top 5 Most Sold Consoles per Region\")\n",
    "plt.xlabel(\"\")\n",
    "plt.ylabel(\"Total Sales\")\n",
    "plt.legend(title=\"Region\")\n",
    "plt.xticks(rotation=45)\n",
    "plt.show()"
   ]
  },
  {
   "cell_type": "markdown",
   "metadata": {},
   "source": [
    "El mercado de Norte América acapara gran parte de las ventas de las consolas, tales como: PS, PS2, PS3, X360 y Wii. Por lo que las tres empresas líderes en consolas son populares para la audiencia norteamericana. Para las consolas más vendidas en Japón se muestra una preferencia por empresas del mismo país, distribuyendo las ventas entre la DS, PS, PS2, SNES y 3DS. Esto nos demuestra que el público japonés tiene una mayor preferencia por las consolas portátiles. Para Europa comparte las mismas características que Norteamérica, pero con un volumen menor de ventas a comparación. "
   ]
  },
  {
   "cell_type": "code",
   "execution_count": 44,
   "metadata": {
    "trusted": false
   },
   "outputs": [
    {
     "data": {
      "image/png": "[encoded data removed]",
      "text/plain": [
       "<Figure size 1400x700 with 1 Axes>"
      ]
     },
     "metadata": {},
     "output_type": "display_data"
    }
   ],
   "source": [
    "df_genre_jp = df_games.groupby([\"genre\"])[\"jp_sales\"].sum().reset_index()\n",
    "df_genre_eu = df_games.groupby([\"genre\"])[\"eu_sales\"].sum().reset_index()\n",
    "df_genre_na = df_games.groupby([\"genre\"])[\"na_sales\"].sum().reset_index()\n",
    "\n",
    "top_genre_jp = df_genre_jp.nlargest(5, \"jp_sales\")\n",
    "top_genre_eu = df_genre_eu.nlargest(5, \"eu_sales\")\n",
    "top_genre_na = df_genre_na.nlargest(5, \"na_sales\")\n",
    "\n",
    "\n",
    "top_genre_jp[\"Region\"] = \"JP\"\n",
    "top_genre_eu[\"Region\"] = \"EU\"\n",
    "top_genre_na[\"Region\"] = \"NA\"\n",
    "\n",
    "df_top_genre = pd.concat([top_genre_jp[[\"genre\", \"jp_sales\", \"Region\"]],\n",
    "                              top_genre_eu[[\"genre\", \"eu_sales\", \"Region\"]],\n",
    "                              top_genre_na[[\"genre\", \"na_sales\", \"Region\"]]])\n",
    "\n",
    "df_top_genres_melted = pd.melt(df_top_genre, id_vars=[\"genre\", \"Region\"], \n",
    "                                   value_vars=[\"jp_sales\", \"eu_sales\", \"na_sales\"], \n",
    "                                   var_name=\"Genre_Region\", value_name=\"Sales\")\n",
    "\n",
    "plt.figure(figsize=(14, 7))\n",
    "sns.barplot(data=df_top_genres_melted, x=\"genre\", y=\"Sales\", hue=\"Region\", palette=\"flare\")\n",
    "plt.title(\"Most Popular Genres per Region\")\n",
    "plt.xlabel(\"\")\n",
    "plt.ylabel(\"Total Sales\")\n",
    "plt.legend(title=\"Region\")\n",
    "plt.xticks(rotation=45)\n",
    "plt.show()"
   ]
  },
  {
   "cell_type": "markdown",
   "metadata": {},
   "source": [
    "Para los géneros más populares cada región tiene particularidades importantes. En Norteamérica presenta una alta preferencia por los videojuegos de Action, Sports, Platform y Shooter. Norteamérica acapara una gran cantidad de ventas para dichos géneros. Para Europa coincide en varios géneros,zz pero es la única región en donde los videojuegos tipo Racing. Japón igualmente es el único que tiene una gran diferencia por su preferencia por el género de Role-Playing."
   ]
  },
  {
   "cell_type": "code",
   "execution_count": 45,
   "metadata": {
    "trusted": false
   },
   "outputs": [
    {
     "data": {
      "text/plain": [
       "<AxesSubplot:title={'center':'Total Sales per Rating'}, xlabel='Rating', ylabel='Total Sales'>"
      ]
     },
     "execution_count": 45,
     "metadata": {},
     "output_type": "execute_result"
    },
    {
     "data": {
      "image/png": "[encoded data removed]",
      "text/plain": [
       "<Figure size 640x480 with 1 Axes>"
      ]
     },
     "metadata": {},
     "output_type": "display_data"
    }
   ],
   "source": [
    "esrb_corr = df_games.groupby(\"rating\")[[\"na_sales\",\"jp_sales\",\"eu_sales\"]].sum()\n",
    "esrb_corr.plot(kind=\"bar\", color=[\"teal\", \"brown\", \"olive\"], xlabel=\"Rating\", ylabel=\"Total Sales\", title=\"Total Sales per Rating\", rot=45)"
   ]
  },
  {
   "cell_type": "markdown",
   "metadata": {},
   "source": [
    "En este gráfico hay una distribución de datos interesante, ya no muestra una afectación directa en las ventas. Tanto los géneros Everyone, Mature y Teen tienen casi la misma distribución de ventas en cuanto a cada región. Norteamérica nuevamente lideras las ventas para todos los videojuegos dirigidos a varios públicos. "
   ]
  },
  {
   "cell_type": "markdown",
   "metadata": {},
   "source": [
    "# Paso 5. Prueba las siguientes hipótesis:\n",
    "- Las calificaciones promedio de los usuarios para las plataformas Xbox One y PC son las mismas.\n",
    "- Las calificaciones promedio de los usuarios para los géneros de Acción y Deportes son diferentes.\n",
    "Establece tu mismo el valor de umbral alfa.\n",
    "Explica:\n",
    "- Cómo formulaste las hipótesis nula y alternativa.\n",
    "- Qué criterio utilizaste para probar las hipótesis y por qué."
   ]
  },
  {
   "cell_type": "markdown",
   "metadata": {},
   "source": [
    "H0 = Las calificaciones promedio de los usuarios para las plataformas Xbox One y PC son las mismas.\n",
    "\n",
    "H1 = Las calificaciones promedio de los usuarios para las plataformas Xbox One y PC son distintas."
   ]
  },
  {
   "cell_type": "code",
   "execution_count": 46,
   "metadata": {
    "trusted": false
   },
   "outputs": [
    {
     "name": "stdout",
     "output_type": "stream",
     "text": [
      "valor p:  0.0005833414469972136\n",
      "Rechazamos la hipótesis nula\n"
     ]
    }
   ],
   "source": [
    "user_score_xbox = df_games[df_games[\"platform\"] == \"XOne\"]\n",
    "user_score_pc = df_games[df_games[\"platform\"] == \"PC\"]\n",
    "\n",
    "alpha = 0.05 \n",
    "\n",
    "platform_score_comparative = st.ttest_ind(user_score_xbox[\"user_score\"], user_score_pc[\"user_score\"]) \n",
    "\n",
    "print(\"valor p: \", platform_score_comparative.pvalue) \n",
    "\n",
    "if platform_score_comparative.pvalue < alpha: \n",
    "    print(\"Rechazamos la hipótesis nula\")\n",
    "else:\n",
    "    print(\"No podemos rechazar la hipótesis nula\")"
   ]
  },
  {
   "cell_type": "markdown",
   "metadata": {},
   "source": [
    "H0 = Las calificaciones promedio de los usuarios para los géneros de Acción y Deportes son iguales.\n",
    "\n",
    "H1 = Las calificaciones promedio de los usuarios para los géneros de Acción y Deportes son diferentes."
   ]
  },
  {
   "cell_type": "code",
   "execution_count": 47,
   "metadata": {
    "trusted": false
   },
   "outputs": [
    {
     "name": "stdout",
     "output_type": "stream",
     "text": [
      "valor p:  1.1356758476860697e-08\n",
      "Rechazamos la hipótesis nula\n"
     ]
    }
   ],
   "source": [
    "user_score_action = df_games[df_games[\"genre\"] == \"Action\"]\n",
    "user_score_sports = df_games[df_games[\"genre\"] == \"Sports\"]\n",
    "\n",
    "alpha = 0.05 \n",
    "\n",
    "genre_score_comparative = st.ttest_ind(user_score_action[\"user_score\"], user_score_sports[\"user_score\"]) \n",
    "\n",
    "print(\"valor p: \", genre_score_comparative.pvalue) \n",
    "\n",
    "if genre_score_comparative.pvalue < alpha: \n",
    "    print(\"Rechazamos la hipótesis nula\")\n",
    "else:\n",
    "    print(\"No podemos rechazar la hipótesis nula\")"
   ]
  },
  {
   "cell_type": "markdown",
   "metadata": {},
   "source": [
    "Ambas hipótesis se rechazan sobre la diferencia del promedio tanto entre la crítica de usuarios de PC y Xbox One como para el promedio entre los géneros de Acción y Deportes. Se realiza una prueba de hipótesis de dos colas para revisar si la media de la muestra es considerablemente mayor o menor. Por lo que la diferencia entre sus promedios no se debe a la variabilidad de los datos, sino que sí son diferentes para la interpretación de cada hipótesis. "
   ]
  },
  {
   "cell_type": "markdown",
   "metadata": {},
   "source": [
    "# Paso 6. Escribe una conclusión general"
   ]
  },
  {
   "cell_type": "markdown",
   "metadata": {},
   "source": [
    "La industria de los videojuegos es interesante de analizar ya que presenta varios cambios durante los años y porque tiene particularidades que la distintinguen de otros tipo de entretenimiento. Las consolas de los últimos años han concentrado gran parte de las ventas por lo que nos muestra cómo ha crecido de manera exponencial esta industria. Encontramos una variedad de consolas que se establecieron dentro del medio a través de sus videojuegos, tales como la PS2. No obstante, consolas nuevas como la X360 fue una nueva competencia para PlayStation, lo cual demuestra lo dinámica que puede ser la industria. Por otra parte, Nintendo demuestra que puede concentrar sus ventas en consolas de casa y las portátiles. \n",
    "\n",
    "Igualmente revisamos que los públicos de norteamerica y japonés difieren en los géneros y plataformas más importantes. Por lo que las estrategias de marketing y desarrollo de videojuegos deben de ser distintas y fijarse en los comportamientos de cada público para vender más videojuegos. \n",
    "\n",
    "Al revisar la correlación entre las ventas totales y la calificación de críticos y usuarios nos muestra que no tienen una dependencia significativa. Por lo que sería más importante enfocar las estrategias de venta en el contenido del videojuego y atraer a una audiencia específica. Finalmente la variabibilidad de los datos no afecta el promedio de la crítica de PC y Xbox, así como también el del género de acción y deportes. "
   ]
  }
 ],
 "metadata": {
  "ExecuteTimeLog": [
   {
    "duration": 126,
    "start_time": "2024-12-27T18:02:44.314Z"
   },
   {
    "duration": 156,
    "start_time": "2024-12-27T20:50:03.152Z"
   },
   {
    "duration": 2486,
    "start_time": "2024-12-27T20:51:04.360Z"
   },
   {
    "duration": 37,
    "start_time": "2024-12-27T20:51:06.848Z"
   },
   {
    "duration": 12,
    "start_time": "2024-12-27T20:51:17.508Z"
   },
   {
    "duration": 74,
    "start_time": "2024-12-27T21:00:07.953Z"
   },
   {
    "duration": 18,
    "start_time": "2024-12-27T21:00:13.673Z"
   },
   {
    "duration": 5,
    "start_time": "2024-12-27T21:03:20.249Z"
   },
   {
    "duration": 14,
    "start_time": "2024-12-27T21:03:30.182Z"
   },
   {
    "duration": 6,
    "start_time": "2024-12-27T21:03:36.237Z"
   },
   {
    "duration": 6,
    "start_time": "2024-12-27T21:04:30.961Z"
   },
   {
    "duration": 8,
    "start_time": "2024-12-30T17:36:49.531Z"
   },
   {
    "duration": 2594,
    "start_time": "2024-12-30T17:38:34.773Z"
   },
   {
    "duration": 35,
    "start_time": "2024-12-30T17:38:37.370Z"
   },
   {
    "duration": 12,
    "start_time": "2024-12-30T17:38:37.407Z"
   },
   {
    "duration": 11,
    "start_time": "2024-12-30T17:38:37.421Z"
   },
   {
    "duration": 589,
    "start_time": "2024-12-30T17:45:55.690Z"
   },
   {
    "duration": 3,
    "start_time": "2024-12-30T17:46:34.944Z"
   },
   {
    "duration": 15,
    "start_time": "2024-12-30T17:46:51.493Z"
   },
   {
    "duration": 4,
    "start_time": "2024-12-30T17:46:59.508Z"
   },
   {
    "duration": 11,
    "start_time": "2024-12-30T17:47:48.889Z"
   },
   {
    "duration": 14,
    "start_time": "2024-12-30T18:14:59.988Z"
   },
   {
    "duration": 15,
    "start_time": "2024-12-30T18:20:32.438Z"
   },
   {
    "duration": 350,
    "start_time": "2024-12-30T18:20:38.149Z"
   },
   {
    "duration": 47,
    "start_time": "2024-12-30T18:21:14.820Z"
   },
   {
    "duration": 4,
    "start_time": "2024-12-30T18:21:30.428Z"
   },
   {
    "duration": 14,
    "start_time": "2024-12-30T18:22:33.635Z"
   },
   {
    "duration": 14,
    "start_time": "2024-12-30T18:22:39.366Z"
   },
   {
    "duration": 100,
    "start_time": "2024-12-30T18:22:55.811Z"
   },
   {
    "duration": 14,
    "start_time": "2024-12-30T18:23:17.977Z"
   },
   {
    "duration": 67,
    "start_time": "2024-12-30T18:25:27.233Z"
   },
   {
    "duration": 3,
    "start_time": "2024-12-30T18:26:26.602Z"
   },
   {
    "duration": 12,
    "start_time": "2024-12-30T18:26:46.179Z"
   },
   {
    "duration": 52,
    "start_time": "2024-12-30T18:27:03.875Z"
   },
   {
    "duration": 14,
    "start_time": "2024-12-30T18:59:19.720Z"
   },
   {
    "duration": 7,
    "start_time": "2024-12-30T18:59:33.713Z"
   },
   {
    "duration": 15,
    "start_time": "2024-12-30T19:00:53.203Z"
   },
   {
    "duration": 14,
    "start_time": "2024-12-30T19:00:58.279Z"
   },
   {
    "duration": 15,
    "start_time": "2024-12-30T19:01:16.771Z"
   },
   {
    "duration": 46,
    "start_time": "2024-12-30T19:01:25.250Z"
   },
   {
    "duration": 40,
    "start_time": "2024-12-30T19:01:41.008Z"
   },
   {
    "duration": 51,
    "start_time": "2024-12-30T19:01:48.974Z"
   },
   {
    "duration": 6,
    "start_time": "2024-12-30T19:02:19.737Z"
   },
   {
    "duration": 4,
    "start_time": "2024-12-30T19:02:58.849Z"
   },
   {
    "duration": 825,
    "start_time": "2024-12-30T19:03:12.508Z"
   },
   {
    "duration": 25,
    "start_time": "2024-12-30T19:03:13.335Z"
   },
   {
    "duration": 12,
    "start_time": "2024-12-30T19:03:13.362Z"
   },
   {
    "duration": 15,
    "start_time": "2024-12-30T19:03:13.376Z"
   },
   {
    "duration": 4,
    "start_time": "2024-12-30T19:03:13.394Z"
   },
   {
    "duration": 4,
    "start_time": "2024-12-30T19:03:13.399Z"
   },
   {
    "duration": 35,
    "start_time": "2024-12-30T19:03:13.405Z"
   },
   {
    "duration": 3,
    "start_time": "2024-12-30T19:03:13.442Z"
   },
   {
    "duration": 10,
    "start_time": "2024-12-30T19:03:13.446Z"
   },
   {
    "duration": 853,
    "start_time": "2024-12-30T19:03:13.458Z"
   },
   {
    "duration": 3,
    "start_time": "2024-12-30T19:04:12.527Z"
   },
   {
    "duration": 4,
    "start_time": "2024-12-30T19:04:18.186Z"
   },
   {
    "duration": 482,
    "start_time": "2024-12-30T19:04:24.230Z"
   },
   {
    "duration": 14,
    "start_time": "2024-12-30T19:04:38.913Z"
   },
   {
    "duration": 4,
    "start_time": "2024-12-30T19:04:43.477Z"
   },
   {
    "duration": 10,
    "start_time": "2024-12-30T19:05:44.219Z"
   },
   {
    "duration": 18,
    "start_time": "2024-12-30T19:06:28.065Z"
   },
   {
    "duration": 5,
    "start_time": "2024-12-30T19:07:02.622Z"
   },
   {
    "duration": 11,
    "start_time": "2024-12-30T19:07:05.292Z"
   },
   {
    "duration": 4,
    "start_time": "2024-12-30T19:07:08.649Z"
   },
   {
    "duration": 14,
    "start_time": "2024-12-30T19:07:19.214Z"
   },
   {
    "duration": 11,
    "start_time": "2024-12-30T19:07:24.647Z"
   },
   {
    "duration": 14,
    "start_time": "2024-12-30T19:08:49.656Z"
   },
   {
    "duration": 58,
    "start_time": "2024-12-30T19:10:35.077Z"
   },
   {
    "duration": 3,
    "start_time": "2024-12-30T19:12:02.228Z"
   },
   {
    "duration": 14,
    "start_time": "2024-12-30T19:12:12.129Z"
   },
   {
    "duration": 4,
    "start_time": "2024-12-30T19:12:42.328Z"
   },
   {
    "duration": 50,
    "start_time": "2024-12-30T19:13:01.739Z"
   },
   {
    "duration": 4,
    "start_time": "2024-12-30T19:29:58.346Z"
   },
   {
    "duration": 5,
    "start_time": "2024-12-30T19:30:38.634Z"
   },
   {
    "duration": 13,
    "start_time": "2024-12-30T19:30:48.140Z"
   },
   {
    "duration": 11,
    "start_time": "2024-12-30T19:30:52.804Z"
   },
   {
    "duration": 4,
    "start_time": "2024-12-30T21:00:18.840Z"
   },
   {
    "duration": 11,
    "start_time": "2024-12-30T21:00:19.686Z"
   },
   {
    "duration": 4,
    "start_time": "2024-12-30T21:01:15.606Z"
   },
   {
    "duration": 11,
    "start_time": "2024-12-30T21:01:25.281Z"
   },
   {
    "duration": 8,
    "start_time": "2024-12-30T21:06:06.245Z"
   },
   {
    "duration": 7,
    "start_time": "2024-12-30T21:06:28.422Z"
   },
   {
    "duration": 5,
    "start_time": "2024-12-30T21:07:58.476Z"
   },
   {
    "duration": 10,
    "start_time": "2024-12-30T21:08:04.993Z"
   },
   {
    "duration": 10,
    "start_time": "2024-12-30T21:31:32.230Z"
   },
   {
    "duration": 14,
    "start_time": "2024-12-30T21:31:40.918Z"
   },
   {
    "duration": 15,
    "start_time": "2024-12-30T22:02:32.919Z"
   },
   {
    "duration": 4,
    "start_time": "2024-12-30T22:02:40.732Z"
   },
   {
    "duration": 15,
    "start_time": "2024-12-30T22:02:42.545Z"
   },
   {
    "duration": 5,
    "start_time": "2024-12-30T22:03:24.608Z"
   },
   {
    "duration": 13,
    "start_time": "2024-12-30T22:03:26.052Z"
   },
   {
    "duration": 165,
    "start_time": "2025-01-01T20:45:31.123Z"
   },
   {
    "duration": 2640,
    "start_time": "2025-01-01T20:45:38.936Z"
   },
   {
    "duration": 36,
    "start_time": "2025-01-01T20:45:41.578Z"
   },
   {
    "duration": 13,
    "start_time": "2025-01-01T20:45:41.615Z"
   },
   {
    "duration": 14,
    "start_time": "2025-01-01T20:45:41.631Z"
   },
   {
    "duration": 4,
    "start_time": "2025-01-01T20:45:41.648Z"
   },
   {
    "duration": 3,
    "start_time": "2025-01-01T20:45:41.654Z"
   },
   {
    "duration": 11,
    "start_time": "2025-01-01T20:45:41.659Z"
   },
   {
    "duration": 4,
    "start_time": "2025-01-01T20:45:41.672Z"
   },
   {
    "duration": 11,
    "start_time": "2025-01-01T20:45:41.678Z"
   },
   {
    "duration": 3,
    "start_time": "2025-01-01T20:45:41.692Z"
   },
   {
    "duration": 46,
    "start_time": "2025-01-01T20:45:41.697Z"
   },
   {
    "duration": 16,
    "start_time": "2025-01-01T20:45:41.744Z"
   },
   {
    "duration": 3,
    "start_time": "2025-01-01T20:45:41.762Z"
   },
   {
    "duration": 11,
    "start_time": "2025-01-01T20:45:41.769Z"
   },
   {
    "duration": 6,
    "start_time": "2025-01-01T20:45:41.782Z"
   },
   {
    "duration": 50,
    "start_time": "2025-01-01T20:45:41.790Z"
   },
   {
    "duration": 4,
    "start_time": "2025-01-01T20:45:41.843Z"
   },
   {
    "duration": 16,
    "start_time": "2025-01-01T20:45:41.848Z"
   },
   {
    "duration": 5,
    "start_time": "2025-01-01T20:45:41.865Z"
   },
   {
    "duration": 11,
    "start_time": "2025-01-01T20:45:41.872Z"
   },
   {
    "duration": 6,
    "start_time": "2025-01-01T20:45:41.884Z"
   },
   {
    "duration": 42,
    "start_time": "2025-01-01T20:45:41.891Z"
   },
   {
    "duration": 3,
    "start_time": "2025-01-01T20:45:41.935Z"
   },
   {
    "duration": 5,
    "start_time": "2025-01-01T20:45:41.939Z"
   },
   {
    "duration": 5,
    "start_time": "2025-01-01T20:45:47.828Z"
   },
   {
    "duration": 212,
    "start_time": "2025-01-01T20:45:59.313Z"
   },
   {
    "duration": 5,
    "start_time": "2025-01-01T20:46:08.068Z"
   },
   {
    "duration": 7,
    "start_time": "2025-01-01T20:54:53.399Z"
   },
   {
    "duration": 4,
    "start_time": "2025-01-01T20:55:18.786Z"
   },
   {
    "duration": 3,
    "start_time": "2025-01-01T20:55:24.385Z"
   },
   {
    "duration": 13,
    "start_time": "2025-01-01T20:57:38.739Z"
   },
   {
    "duration": 6,
    "start_time": "2025-01-01T20:57:44.715Z"
   },
   {
    "duration": 17,
    "start_time": "2025-01-01T20:58:04.621Z"
   },
   {
    "duration": 9,
    "start_time": "2025-01-01T20:58:09.587Z"
   },
   {
    "duration": 3,
    "start_time": "2025-01-01T20:59:10.199Z"
   },
   {
    "duration": 5,
    "start_time": "2025-01-01T20:59:11.172Z"
   },
   {
    "duration": 8,
    "start_time": "2025-01-01T20:59:13.498Z"
   },
   {
    "duration": 14,
    "start_time": "2025-01-01T21:10:10.780Z"
   },
   {
    "duration": 5,
    "start_time": "2025-01-01T21:19:22.475Z"
   },
   {
    "duration": 443,
    "start_time": "2025-01-01T21:19:33.915Z"
   },
   {
    "duration": 11,
    "start_time": "2025-01-01T21:19:48.003Z"
   },
   {
    "duration": 37,
    "start_time": "2025-01-01T21:20:02.487Z"
   },
   {
    "duration": 15,
    "start_time": "2025-01-01T21:26:49.798Z"
   },
   {
    "duration": 13,
    "start_time": "2025-01-01T21:27:34.083Z"
   },
   {
    "duration": 13,
    "start_time": "2025-01-01T21:28:37.419Z"
   },
   {
    "duration": 8,
    "start_time": "2025-01-01T21:29:04.667Z"
   },
   {
    "duration": 7,
    "start_time": "2025-01-01T21:29:18.642Z"
   },
   {
    "duration": 7,
    "start_time": "2025-01-01T21:30:21.267Z"
   },
   {
    "duration": 7,
    "start_time": "2025-01-01T21:30:30.105Z"
   },
   {
    "duration": 3,
    "start_time": "2025-01-02T01:17:47.281Z"
   },
   {
    "duration": 306,
    "start_time": "2025-01-02T01:23:34.621Z"
   },
   {
    "duration": 6,
    "start_time": "2025-01-02T01:23:58.736Z"
   },
   {
    "duration": 51,
    "start_time": "2025-01-02T01:24:22.507Z"
   },
   {
    "duration": 80,
    "start_time": "2025-01-02T01:25:26.641Z"
   },
   {
    "duration": 29,
    "start_time": "2025-01-02T01:25:52.993Z"
   },
   {
    "duration": 5,
    "start_time": "2025-01-02T01:26:00.834Z"
   },
   {
    "duration": 15,
    "start_time": "2025-01-02T01:26:17.620Z"
   },
   {
    "duration": 15,
    "start_time": "2025-01-02T01:27:00.124Z"
   },
   {
    "duration": 5,
    "start_time": "2025-01-02T01:27:09.360Z"
   },
   {
    "duration": 5,
    "start_time": "2025-01-02T01:27:13.903Z"
   },
   {
    "duration": 4,
    "start_time": "2025-01-02T01:27:20.698Z"
   },
   {
    "duration": 5,
    "start_time": "2025-01-02T01:27:47.579Z"
   },
   {
    "duration": 55,
    "start_time": "2025-01-02T01:29:49.842Z"
   },
   {
    "duration": 850,
    "start_time": "2025-01-02T01:30:59.684Z"
   },
   {
    "duration": 26,
    "start_time": "2025-01-02T01:31:00.536Z"
   },
   {
    "duration": 12,
    "start_time": "2025-01-02T01:31:00.564Z"
   },
   {
    "duration": 15,
    "start_time": "2025-01-02T01:31:00.577Z"
   },
   {
    "duration": 2,
    "start_time": "2025-01-02T01:31:00.594Z"
   },
   {
    "duration": 4,
    "start_time": "2025-01-02T01:31:00.598Z"
   },
   {
    "duration": 11,
    "start_time": "2025-01-02T01:31:00.631Z"
   },
   {
    "duration": 4,
    "start_time": "2025-01-02T01:31:00.644Z"
   },
   {
    "duration": 11,
    "start_time": "2025-01-02T01:31:00.650Z"
   },
   {
    "duration": 4,
    "start_time": "2025-01-02T01:31:00.663Z"
   },
   {
    "duration": 12,
    "start_time": "2025-01-02T01:31:00.669Z"
   },
   {
    "duration": 15,
    "start_time": "2025-01-02T01:31:00.682Z"
   },
   {
    "duration": 5,
    "start_time": "2025-01-02T01:31:00.732Z"
   },
   {
    "duration": 12,
    "start_time": "2025-01-02T01:31:00.741Z"
   },
   {
    "duration": 6,
    "start_time": "2025-01-02T01:31:00.754Z"
   },
   {
    "duration": 11,
    "start_time": "2025-01-02T01:31:00.762Z"
   },
   {
    "duration": 4,
    "start_time": "2025-01-02T01:31:00.775Z"
   },
   {
    "duration": 10,
    "start_time": "2025-01-02T01:31:00.781Z"
   },
   {
    "duration": 41,
    "start_time": "2025-01-02T01:31:00.793Z"
   },
   {
    "duration": 11,
    "start_time": "2025-01-02T01:31:00.837Z"
   },
   {
    "duration": 5,
    "start_time": "2025-01-02T01:31:00.850Z"
   },
   {
    "duration": 14,
    "start_time": "2025-01-02T01:31:00.857Z"
   },
   {
    "duration": 3,
    "start_time": "2025-01-02T01:31:00.872Z"
   },
   {
    "duration": 7,
    "start_time": "2025-01-02T01:31:00.877Z"
   },
   {
    "duration": 51,
    "start_time": "2025-01-02T01:31:00.885Z"
   },
   {
    "duration": 14,
    "start_time": "2025-01-02T01:31:00.939Z"
   },
   {
    "duration": 4,
    "start_time": "2025-01-02T01:31:00.954Z"
   },
   {
    "duration": 4,
    "start_time": "2025-01-02T01:31:00.960Z"
   },
   {
    "duration": 511,
    "start_time": "2025-01-02T01:31:00.966Z"
   },
   {
    "duration": 18,
    "start_time": "2025-01-02T01:32:18.776Z"
   },
   {
    "duration": 6,
    "start_time": "2025-01-02T01:32:39.139Z"
   },
   {
    "duration": 12,
    "start_time": "2025-01-02T01:32:47.701Z"
   },
   {
    "duration": 728,
    "start_time": "2025-01-02T01:53:30.007Z"
   },
   {
    "duration": 823,
    "start_time": "2025-01-02T02:08:17.533Z"
   },
   {
    "duration": 27,
    "start_time": "2025-01-02T02:08:18.358Z"
   },
   {
    "duration": 11,
    "start_time": "2025-01-02T02:08:18.387Z"
   },
   {
    "duration": 15,
    "start_time": "2025-01-02T02:08:18.401Z"
   },
   {
    "duration": 5,
    "start_time": "2025-01-02T02:08:18.430Z"
   },
   {
    "duration": 5,
    "start_time": "2025-01-02T02:08:18.436Z"
   },
   {
    "duration": 10,
    "start_time": "2025-01-02T02:08:18.442Z"
   },
   {
    "duration": 4,
    "start_time": "2025-01-02T02:08:18.454Z"
   },
   {
    "duration": 11,
    "start_time": "2025-01-02T02:08:18.459Z"
   },
   {
    "duration": 3,
    "start_time": "2025-01-02T02:08:18.472Z"
   },
   {
    "duration": 13,
    "start_time": "2025-01-02T02:08:18.477Z"
   },
   {
    "duration": 47,
    "start_time": "2025-01-02T02:08:18.492Z"
   },
   {
    "duration": 3,
    "start_time": "2025-01-02T02:08:18.542Z"
   },
   {
    "duration": 13,
    "start_time": "2025-01-02T02:08:18.548Z"
   },
   {
    "duration": 6,
    "start_time": "2025-01-02T02:08:18.563Z"
   },
   {
    "duration": 12,
    "start_time": "2025-01-02T02:08:18.571Z"
   },
   {
    "duration": 4,
    "start_time": "2025-01-02T02:08:18.585Z"
   },
   {
    "duration": 47,
    "start_time": "2025-01-02T02:08:18.591Z"
   },
   {
    "duration": 5,
    "start_time": "2025-01-02T02:08:18.640Z"
   },
   {
    "duration": 12,
    "start_time": "2025-01-02T02:08:18.646Z"
   },
   {
    "duration": 6,
    "start_time": "2025-01-02T02:08:18.659Z"
   },
   {
    "duration": 14,
    "start_time": "2025-01-02T02:08:18.666Z"
   },
   {
    "duration": 3,
    "start_time": "2025-01-02T02:08:18.682Z"
   },
   {
    "duration": 5,
    "start_time": "2025-01-02T02:08:18.687Z"
   },
   {
    "duration": 11,
    "start_time": "2025-01-02T02:08:18.730Z"
   },
   {
    "duration": 10,
    "start_time": "2025-01-02T02:08:18.743Z"
   },
   {
    "duration": 2,
    "start_time": "2025-01-02T02:08:18.755Z"
   },
   {
    "duration": 4,
    "start_time": "2025-01-02T02:08:18.759Z"
   },
   {
    "duration": 18,
    "start_time": "2025-01-02T02:08:18.764Z"
   },
   {
    "duration": 12,
    "start_time": "2025-01-02T02:08:18.784Z"
   },
   {
    "duration": 820,
    "start_time": "2025-01-02T02:08:18.798Z"
   },
   {
    "duration": 220,
    "start_time": "2025-01-02T02:11:19.875Z"
   },
   {
    "duration": 18,
    "start_time": "2025-01-02T02:11:25.250Z"
   },
   {
    "duration": 15,
    "start_time": "2025-01-02T02:11:48.217Z"
   },
   {
    "duration": 18,
    "start_time": "2025-01-02T02:11:52.237Z"
   },
   {
    "duration": 7,
    "start_time": "2025-01-02T02:12:05.082Z"
   },
   {
    "duration": 18,
    "start_time": "2025-01-02T02:12:14.328Z"
   },
   {
    "duration": 98,
    "start_time": "2025-01-02T02:14:28.172Z"
   },
   {
    "duration": 237,
    "start_time": "2025-01-02T02:16:27.330Z"
   },
   {
    "duration": 559,
    "start_time": "2025-01-02T02:33:48.181Z"
   },
   {
    "duration": 761,
    "start_time": "2025-01-02T02:38:21.641Z"
   },
   {
    "duration": 482,
    "start_time": "2025-01-02T02:38:47.658Z"
   },
   {
    "duration": 3,
    "start_time": "2025-01-02T02:39:27.895Z"
   },
   {
    "duration": 441,
    "start_time": "2025-01-02T02:39:32.740Z"
   },
   {
    "duration": 227,
    "start_time": "2025-01-02T02:40:02.851Z"
   },
   {
    "duration": 229,
    "start_time": "2025-01-02T02:52:27.858Z"
   },
   {
    "duration": 184,
    "start_time": "2025-01-02T02:52:59.503Z"
   },
   {
    "duration": 7,
    "start_time": "2025-01-02T03:01:35.771Z"
   },
   {
    "duration": 365,
    "start_time": "2025-01-02T03:02:03.152Z"
   },
   {
    "duration": 9,
    "start_time": "2025-01-02T03:02:29.111Z"
   },
   {
    "duration": 239,
    "start_time": "2025-01-02T03:04:32.274Z"
   },
   {
    "duration": 142,
    "start_time": "2025-01-02T03:05:45.213Z"
   },
   {
    "duration": 133,
    "start_time": "2025-01-02T03:06:28.367Z"
   },
   {
    "duration": 14,
    "start_time": "2025-01-02T03:21:33.915Z"
   },
   {
    "duration": 14,
    "start_time": "2025-01-02T03:22:29.825Z"
   },
   {
    "duration": 14,
    "start_time": "2025-01-02T03:22:58.775Z"
   },
   {
    "duration": 893,
    "start_time": "2025-01-02T03:26:34.218Z"
   },
   {
    "duration": 15,
    "start_time": "2025-01-02T03:26:50.779Z"
   },
   {
    "duration": 8,
    "start_time": "2025-01-02T03:32:41.802Z"
   },
   {
    "duration": 4,
    "start_time": "2025-01-02T03:33:13.876Z"
   },
   {
    "duration": 6,
    "start_time": "2025-01-02T03:33:25.400Z"
   },
   {
    "duration": 122,
    "start_time": "2025-01-02T03:38:55.483Z"
   },
   {
    "duration": 162,
    "start_time": "2025-01-02T03:39:04.180Z"
   },
   {
    "duration": 182,
    "start_time": "2025-01-02T04:03:26.252Z"
   },
   {
    "duration": 12,
    "start_time": "2025-01-02T04:05:19.040Z"
   },
   {
    "duration": 8,
    "start_time": "2025-01-02T04:05:41.668Z"
   },
   {
    "duration": 7,
    "start_time": "2025-01-02T04:07:27.437Z"
   },
   {
    "duration": 10,
    "start_time": "2025-01-02T04:07:33.569Z"
   },
   {
    "duration": 7,
    "start_time": "2025-01-02T04:07:46.567Z"
   },
   {
    "duration": 7,
    "start_time": "2025-01-02T04:08:14.072Z"
   },
   {
    "duration": 161,
    "start_time": "2025-01-02T16:30:04.133Z"
   },
   {
    "duration": 2520,
    "start_time": "2025-01-02T16:30:13.570Z"
   },
   {
    "duration": 35,
    "start_time": "2025-01-02T16:30:16.092Z"
   },
   {
    "duration": 12,
    "start_time": "2025-01-02T16:30:16.129Z"
   },
   {
    "duration": 18,
    "start_time": "2025-01-02T16:30:16.143Z"
   },
   {
    "duration": 3,
    "start_time": "2025-01-02T16:30:16.168Z"
   },
   {
    "duration": 4,
    "start_time": "2025-01-02T16:30:16.173Z"
   },
   {
    "duration": 11,
    "start_time": "2025-01-02T16:30:16.179Z"
   },
   {
    "duration": 4,
    "start_time": "2025-01-02T16:30:16.193Z"
   },
   {
    "duration": 39,
    "start_time": "2025-01-02T16:30:16.199Z"
   },
   {
    "duration": 4,
    "start_time": "2025-01-02T16:30:16.241Z"
   },
   {
    "duration": 12,
    "start_time": "2025-01-02T16:30:16.246Z"
   },
   {
    "duration": 15,
    "start_time": "2025-01-02T16:30:16.259Z"
   },
   {
    "duration": 3,
    "start_time": "2025-01-02T16:30:16.276Z"
   },
   {
    "duration": 11,
    "start_time": "2025-01-02T16:30:16.281Z"
   },
   {
    "duration": 6,
    "start_time": "2025-01-02T16:30:16.293Z"
   },
   {
    "duration": 10,
    "start_time": "2025-01-02T16:30:16.332Z"
   },
   {
    "duration": 3,
    "start_time": "2025-01-02T16:30:16.344Z"
   },
   {
    "duration": 15,
    "start_time": "2025-01-02T16:30:16.349Z"
   },
   {
    "duration": 4,
    "start_time": "2025-01-02T16:30:16.365Z"
   },
   {
    "duration": 11,
    "start_time": "2025-01-02T16:30:16.371Z"
   },
   {
    "duration": 6,
    "start_time": "2025-01-02T16:30:16.385Z"
   },
   {
    "duration": 41,
    "start_time": "2025-01-02T16:30:16.393Z"
   },
   {
    "duration": 3,
    "start_time": "2025-01-02T16:30:16.436Z"
   },
   {
    "duration": 7,
    "start_time": "2025-01-02T16:30:16.441Z"
   },
   {
    "duration": 12,
    "start_time": "2025-01-02T16:30:16.450Z"
   },
   {
    "duration": 12,
    "start_time": "2025-01-02T16:30:16.465Z"
   },
   {
    "duration": 2,
    "start_time": "2025-01-02T16:30:16.479Z"
   },
   {
    "duration": 2,
    "start_time": "2025-01-02T16:30:16.486Z"
   },
   {
    "duration": 49,
    "start_time": "2025-01-02T16:30:16.490Z"
   },
   {
    "duration": 11,
    "start_time": "2025-01-02T16:30:16.540Z"
   },
   {
    "duration": 758,
    "start_time": "2025-01-02T16:30:16.553Z"
   },
   {
    "duration": 253,
    "start_time": "2025-01-02T16:30:17.312Z"
   },
   {
    "duration": 520,
    "start_time": "2025-01-02T16:30:17.567Z"
   },
   {
    "duration": 114,
    "start_time": "2025-01-02T16:30:18.089Z"
   },
   {
    "duration": 228,
    "start_time": "2025-01-02T16:30:18.205Z"
   },
   {
    "duration": 0,
    "start_time": "2025-01-02T16:30:18.435Z"
   },
   {
    "duration": 0,
    "start_time": "2025-01-02T16:30:18.437Z"
   },
   {
    "duration": 0,
    "start_time": "2025-01-02T16:30:18.438Z"
   },
   {
    "duration": 13,
    "start_time": "2025-01-02T16:30:20.734Z"
   },
   {
    "duration": 8,
    "start_time": "2025-01-02T16:30:27.147Z"
   },
   {
    "duration": 122,
    "start_time": "2025-01-02T16:30:28.154Z"
   },
   {
    "duration": 7,
    "start_time": "2025-01-02T16:31:51.758Z"
   },
   {
    "duration": 108,
    "start_time": "2025-01-02T16:31:52.718Z"
   },
   {
    "duration": 12,
    "start_time": "2025-01-02T16:32:11.921Z"
   },
   {
    "duration": 105,
    "start_time": "2025-01-02T16:35:10.869Z"
   },
   {
    "duration": 10,
    "start_time": "2025-01-02T16:39:40.827Z"
   },
   {
    "duration": 114,
    "start_time": "2025-01-02T16:40:56.833Z"
   },
   {
    "duration": 231,
    "start_time": "2025-01-02T16:46:49.954Z"
   },
   {
    "duration": 359,
    "start_time": "2025-01-02T16:53:17.524Z"
   },
   {
    "duration": 230,
    "start_time": "2025-01-02T16:54:17.203Z"
   },
   {
    "duration": 389,
    "start_time": "2025-01-02T17:00:24.824Z"
   },
   {
    "duration": 10,
    "start_time": "2025-01-02T17:00:58.407Z"
   },
   {
    "duration": 227,
    "start_time": "2025-01-02T17:01:06.530Z"
   },
   {
    "duration": 184,
    "start_time": "2025-01-02T17:01:40.527Z"
   },
   {
    "duration": 37,
    "start_time": "2025-01-02T17:02:41.778Z"
   },
   {
    "duration": 249,
    "start_time": "2025-01-02T17:02:54.953Z"
   },
   {
    "duration": 12,
    "start_time": "2025-01-02T17:18:56.224Z"
   },
   {
    "duration": 144,
    "start_time": "2025-01-02T17:19:17.720Z"
   },
   {
    "duration": 134,
    "start_time": "2025-01-02T17:30:53.159Z"
   },
   {
    "duration": 257,
    "start_time": "2025-01-02T17:31:07.379Z"
   },
   {
    "duration": 357,
    "start_time": "2025-01-02T18:00:27.272Z"
   },
   {
    "duration": 45,
    "start_time": "2025-01-02T18:00:42.392Z"
   },
   {
    "duration": 135,
    "start_time": "2025-01-02T18:01:03.454Z"
   },
   {
    "duration": 15,
    "start_time": "2025-01-02T18:01:43.054Z"
   },
   {
    "duration": 5,
    "start_time": "2025-01-02T20:24:21.759Z"
   },
   {
    "duration": 6,
    "start_time": "2025-01-02T20:24:28.022Z"
   },
   {
    "duration": 121,
    "start_time": "2025-01-02T20:24:41.993Z"
   },
   {
    "duration": 14,
    "start_time": "2025-01-02T20:24:48.453Z"
   },
   {
    "duration": 12,
    "start_time": "2025-01-02T20:40:44.919Z"
   },
   {
    "duration": 14,
    "start_time": "2025-01-02T20:44:41.078Z"
   },
   {
    "duration": 6,
    "start_time": "2025-01-02T20:45:35.641Z"
   },
   {
    "duration": 169,
    "start_time": "2025-01-03T15:07:37.826Z"
   },
   {
    "duration": 2676,
    "start_time": "2025-01-03T15:07:44.500Z"
   },
   {
    "duration": 39,
    "start_time": "2025-01-03T15:07:47.179Z"
   },
   {
    "duration": 15,
    "start_time": "2025-01-03T15:07:47.220Z"
   },
   {
    "duration": 18,
    "start_time": "2025-01-03T15:07:47.237Z"
   },
   {
    "duration": 3,
    "start_time": "2025-01-03T15:07:47.258Z"
   },
   {
    "duration": 5,
    "start_time": "2025-01-03T15:07:47.263Z"
   },
   {
    "duration": 15,
    "start_time": "2025-01-03T15:07:47.270Z"
   },
   {
    "duration": 11,
    "start_time": "2025-01-03T15:07:47.287Z"
   },
   {
    "duration": 0,
    "start_time": "2025-01-03T15:07:47.302Z"
   },
   {
    "duration": 0,
    "start_time": "2025-01-03T15:07:47.331Z"
   },
   {
    "duration": 0,
    "start_time": "2025-01-03T15:07:47.333Z"
   },
   {
    "duration": 0,
    "start_time": "2025-01-03T15:07:47.334Z"
   },
   {
    "duration": 0,
    "start_time": "2025-01-03T15:07:47.335Z"
   },
   {
    "duration": 0,
    "start_time": "2025-01-03T15:07:47.336Z"
   },
   {
    "duration": 0,
    "start_time": "2025-01-03T15:07:47.337Z"
   },
   {
    "duration": 0,
    "start_time": "2025-01-03T15:07:47.339Z"
   },
   {
    "duration": 0,
    "start_time": "2025-01-03T15:07:47.340Z"
   },
   {
    "duration": 0,
    "start_time": "2025-01-03T15:07:47.341Z"
   },
   {
    "duration": 0,
    "start_time": "2025-01-03T15:07:47.342Z"
   },
   {
    "duration": 0,
    "start_time": "2025-01-03T15:07:47.343Z"
   },
   {
    "duration": 0,
    "start_time": "2025-01-03T15:07:47.344Z"
   },
   {
    "duration": 0,
    "start_time": "2025-01-03T15:07:47.346Z"
   },
   {
    "duration": 0,
    "start_time": "2025-01-03T15:07:47.348Z"
   },
   {
    "duration": 0,
    "start_time": "2025-01-03T15:07:47.349Z"
   },
   {
    "duration": 0,
    "start_time": "2025-01-03T15:07:47.350Z"
   },
   {
    "duration": 0,
    "start_time": "2025-01-03T15:07:47.355Z"
   },
   {
    "duration": 0,
    "start_time": "2025-01-03T15:07:47.358Z"
   },
   {
    "duration": 0,
    "start_time": "2025-01-03T15:07:47.359Z"
   },
   {
    "duration": 0,
    "start_time": "2025-01-03T15:07:47.360Z"
   },
   {
    "duration": 0,
    "start_time": "2025-01-03T15:07:47.361Z"
   },
   {
    "duration": 0,
    "start_time": "2025-01-03T15:07:47.362Z"
   },
   {
    "duration": 0,
    "start_time": "2025-01-03T15:07:47.363Z"
   },
   {
    "duration": 0,
    "start_time": "2025-01-03T15:07:47.365Z"
   },
   {
    "duration": 0,
    "start_time": "2025-01-03T15:07:47.366Z"
   },
   {
    "duration": 0,
    "start_time": "2025-01-03T15:07:47.367Z"
   },
   {
    "duration": 0,
    "start_time": "2025-01-03T15:07:47.368Z"
   },
   {
    "duration": 0,
    "start_time": "2025-01-03T15:07:47.369Z"
   },
   {
    "duration": 0,
    "start_time": "2025-01-03T15:07:47.370Z"
   },
   {
    "duration": 0,
    "start_time": "2025-01-03T15:07:47.372Z"
   },
   {
    "duration": 0,
    "start_time": "2025-01-03T15:07:47.373Z"
   },
   {
    "duration": 15,
    "start_time": "2025-01-03T15:08:05.707Z"
   },
   {
    "duration": 12,
    "start_time": "2025-01-03T15:08:10.001Z"
   },
   {
    "duration": 12,
    "start_time": "2025-01-03T15:10:13.807Z"
   },
   {
    "duration": 519,
    "start_time": "2025-01-03T15:15:05.065Z"
   },
   {
    "duration": 66,
    "start_time": "2025-01-03T15:15:26.042Z"
   },
   {
    "duration": 815,
    "start_time": "2025-01-03T15:15:32.301Z"
   },
   {
    "duration": 27,
    "start_time": "2025-01-03T15:15:33.118Z"
   },
   {
    "duration": 11,
    "start_time": "2025-01-03T15:15:33.147Z"
   },
   {
    "duration": 13,
    "start_time": "2025-01-03T15:15:33.160Z"
   },
   {
    "duration": 2,
    "start_time": "2025-01-03T15:15:33.176Z"
   },
   {
    "duration": 4,
    "start_time": "2025-01-03T15:15:33.180Z"
   },
   {
    "duration": 10,
    "start_time": "2025-01-03T15:15:33.185Z"
   },
   {
    "duration": 545,
    "start_time": "2025-01-03T15:15:33.197Z"
   },
   {
    "duration": 0,
    "start_time": "2025-01-03T15:15:33.745Z"
   },
   {
    "duration": 0,
    "start_time": "2025-01-03T15:15:33.746Z"
   },
   {
    "duration": 0,
    "start_time": "2025-01-03T15:15:33.748Z"
   },
   {
    "duration": 0,
    "start_time": "2025-01-03T15:15:33.750Z"
   },
   {
    "duration": 0,
    "start_time": "2025-01-03T15:15:33.751Z"
   },
   {
    "duration": 0,
    "start_time": "2025-01-03T15:15:33.752Z"
   },
   {
    "duration": 0,
    "start_time": "2025-01-03T15:15:33.753Z"
   },
   {
    "duration": 0,
    "start_time": "2025-01-03T15:15:33.755Z"
   },
   {
    "duration": 0,
    "start_time": "2025-01-03T15:15:33.757Z"
   },
   {
    "duration": 0,
    "start_time": "2025-01-03T15:15:33.758Z"
   },
   {
    "duration": 0,
    "start_time": "2025-01-03T15:15:33.759Z"
   },
   {
    "duration": 0,
    "start_time": "2025-01-03T15:15:33.761Z"
   },
   {
    "duration": 0,
    "start_time": "2025-01-03T15:15:33.762Z"
   },
   {
    "duration": 1,
    "start_time": "2025-01-03T15:15:33.763Z"
   },
   {
    "duration": 0,
    "start_time": "2025-01-03T15:15:33.765Z"
   },
   {
    "duration": 0,
    "start_time": "2025-01-03T15:15:33.766Z"
   },
   {
    "duration": 0,
    "start_time": "2025-01-03T15:15:33.767Z"
   },
   {
    "duration": 0,
    "start_time": "2025-01-03T15:15:33.768Z"
   },
   {
    "duration": 0,
    "start_time": "2025-01-03T15:15:33.770Z"
   },
   {
    "duration": 0,
    "start_time": "2025-01-03T15:15:33.771Z"
   },
   {
    "duration": 0,
    "start_time": "2025-01-03T15:15:33.773Z"
   },
   {
    "duration": 0,
    "start_time": "2025-01-03T15:15:33.775Z"
   },
   {
    "duration": 0,
    "start_time": "2025-01-03T15:15:33.777Z"
   },
   {
    "duration": 0,
    "start_time": "2025-01-03T15:15:33.778Z"
   },
   {
    "duration": 0,
    "start_time": "2025-01-03T15:15:33.779Z"
   },
   {
    "duration": 0,
    "start_time": "2025-01-03T15:15:33.831Z"
   },
   {
    "duration": 0,
    "start_time": "2025-01-03T15:15:33.833Z"
   },
   {
    "duration": 0,
    "start_time": "2025-01-03T15:15:33.835Z"
   },
   {
    "duration": 0,
    "start_time": "2025-01-03T15:15:33.836Z"
   },
   {
    "duration": 0,
    "start_time": "2025-01-03T15:15:33.837Z"
   },
   {
    "duration": 0,
    "start_time": "2025-01-03T15:15:33.839Z"
   },
   {
    "duration": 0,
    "start_time": "2025-01-03T15:15:33.841Z"
   },
   {
    "duration": 129,
    "start_time": "2025-01-03T15:17:03.105Z"
   },
   {
    "duration": 129,
    "start_time": "2025-01-03T15:17:13.619Z"
   },
   {
    "duration": 11,
    "start_time": "2025-01-03T15:17:16.759Z"
   },
   {
    "duration": 659,
    "start_time": "2025-01-03T15:17:33.554Z"
   },
   {
    "duration": 12,
    "start_time": "2025-01-03T15:18:49.472Z"
   },
   {
    "duration": 117,
    "start_time": "2025-01-03T15:20:41.817Z"
   },
   {
    "duration": 11,
    "start_time": "2025-01-03T15:20:44.607Z"
   },
   {
    "duration": 805,
    "start_time": "2025-01-03T15:20:52.115Z"
   },
   {
    "duration": 27,
    "start_time": "2025-01-03T15:20:52.923Z"
   },
   {
    "duration": 11,
    "start_time": "2025-01-03T15:20:52.952Z"
   },
   {
    "duration": 15,
    "start_time": "2025-01-03T15:20:52.965Z"
   },
   {
    "duration": 3,
    "start_time": "2025-01-03T15:20:52.982Z"
   },
   {
    "duration": 5,
    "start_time": "2025-01-03T15:20:52.986Z"
   },
   {
    "duration": 10,
    "start_time": "2025-01-03T15:20:52.993Z"
   },
   {
    "duration": 128,
    "start_time": "2025-01-03T15:20:53.032Z"
   },
   {
    "duration": 10,
    "start_time": "2025-01-03T15:20:53.162Z"
   },
   {
    "duration": 826,
    "start_time": "2025-01-03T15:20:53.174Z"
   },
   {
    "duration": 0,
    "start_time": "2025-01-03T15:20:54.004Z"
   },
   {
    "duration": 0,
    "start_time": "2025-01-03T15:20:54.005Z"
   },
   {
    "duration": 0,
    "start_time": "2025-01-03T15:20:54.006Z"
   },
   {
    "duration": 0,
    "start_time": "2025-01-03T15:20:54.008Z"
   },
   {
    "duration": 0,
    "start_time": "2025-01-03T15:20:54.009Z"
   },
   {
    "duration": 0,
    "start_time": "2025-01-03T15:20:54.011Z"
   },
   {
    "duration": 0,
    "start_time": "2025-01-03T15:20:54.012Z"
   },
   {
    "duration": 0,
    "start_time": "2025-01-03T15:20:54.014Z"
   },
   {
    "duration": 0,
    "start_time": "2025-01-03T15:20:54.030Z"
   },
   {
    "duration": 0,
    "start_time": "2025-01-03T15:20:54.032Z"
   },
   {
    "duration": 1,
    "start_time": "2025-01-03T15:20:54.033Z"
   },
   {
    "duration": 0,
    "start_time": "2025-01-03T15:20:54.035Z"
   },
   {
    "duration": 0,
    "start_time": "2025-01-03T15:20:54.036Z"
   },
   {
    "duration": 0,
    "start_time": "2025-01-03T15:20:54.038Z"
   },
   {
    "duration": 0,
    "start_time": "2025-01-03T15:20:54.039Z"
   },
   {
    "duration": 0,
    "start_time": "2025-01-03T15:20:54.040Z"
   },
   {
    "duration": 0,
    "start_time": "2025-01-03T15:20:54.041Z"
   },
   {
    "duration": 0,
    "start_time": "2025-01-03T15:20:54.042Z"
   },
   {
    "duration": 0,
    "start_time": "2025-01-03T15:20:54.043Z"
   },
   {
    "duration": 0,
    "start_time": "2025-01-03T15:20:54.044Z"
   },
   {
    "duration": 0,
    "start_time": "2025-01-03T15:20:54.045Z"
   },
   {
    "duration": 0,
    "start_time": "2025-01-03T15:20:54.046Z"
   },
   {
    "duration": 0,
    "start_time": "2025-01-03T15:20:54.047Z"
   },
   {
    "duration": 0,
    "start_time": "2025-01-03T15:20:54.048Z"
   },
   {
    "duration": 0,
    "start_time": "2025-01-03T15:20:54.049Z"
   },
   {
    "duration": 0,
    "start_time": "2025-01-03T15:20:54.050Z"
   },
   {
    "duration": 0,
    "start_time": "2025-01-03T15:20:54.051Z"
   },
   {
    "duration": 0,
    "start_time": "2025-01-03T15:20:54.052Z"
   },
   {
    "duration": 0,
    "start_time": "2025-01-03T15:20:54.053Z"
   },
   {
    "duration": 0,
    "start_time": "2025-01-03T15:20:54.055Z"
   },
   {
    "duration": 3,
    "start_time": "2025-01-03T15:22:04.888Z"
   },
   {
    "duration": 5,
    "start_time": "2025-01-03T15:22:09.241Z"
   },
   {
    "duration": 13,
    "start_time": "2025-01-03T15:22:24.826Z"
   },
   {
    "duration": 3,
    "start_time": "2025-01-03T15:22:30.865Z"
   },
   {
    "duration": 4,
    "start_time": "2025-01-03T15:22:34.698Z"
   },
   {
    "duration": 459,
    "start_time": "2025-01-03T15:22:46.868Z"
   },
   {
    "duration": 5,
    "start_time": "2025-01-03T15:22:55.143Z"
   },
   {
    "duration": 4,
    "start_time": "2025-01-03T15:23:02.681Z"
   },
   {
    "duration": 3,
    "start_time": "2025-01-03T15:26:03.620Z"
   },
   {
    "duration": 18,
    "start_time": "2025-01-03T15:26:08.980Z"
   },
   {
    "duration": 5,
    "start_time": "2025-01-03T15:27:37.757Z"
   },
   {
    "duration": 121,
    "start_time": "2025-01-03T15:27:45.343Z"
   },
   {
    "duration": 11,
    "start_time": "2025-01-03T15:27:48.918Z"
   },
   {
    "duration": 4,
    "start_time": "2025-01-03T15:29:03.837Z"
   },
   {
    "duration": 11,
    "start_time": "2025-01-03T15:29:05.128Z"
   },
   {
    "duration": 9,
    "start_time": "2025-01-03T15:29:14.082Z"
   },
   {
    "duration": 877,
    "start_time": "2025-01-03T15:39:04.344Z"
   },
   {
    "duration": 24,
    "start_time": "2025-01-03T15:39:05.224Z"
   },
   {
    "duration": 11,
    "start_time": "2025-01-03T15:39:05.250Z"
   },
   {
    "duration": 14,
    "start_time": "2025-01-03T15:39:05.263Z"
   },
   {
    "duration": 3,
    "start_time": "2025-01-03T15:39:05.280Z"
   },
   {
    "duration": 4,
    "start_time": "2025-01-03T15:39:05.284Z"
   },
   {
    "duration": 11,
    "start_time": "2025-01-03T15:39:05.289Z"
   },
   {
    "duration": 126,
    "start_time": "2025-01-03T15:39:05.332Z"
   },
   {
    "duration": 4,
    "start_time": "2025-01-03T15:39:05.460Z"
   },
   {
    "duration": 9,
    "start_time": "2025-01-03T15:39:05.466Z"
   },
   {
    "duration": 14,
    "start_time": "2025-01-03T15:39:05.477Z"
   },
   {
    "duration": 3,
    "start_time": "2025-01-03T15:39:05.493Z"
   },
   {
    "duration": 37,
    "start_time": "2025-01-03T15:39:05.498Z"
   },
   {
    "duration": 5,
    "start_time": "2025-01-03T15:39:05.539Z"
   },
   {
    "duration": 10,
    "start_time": "2025-01-03T15:39:05.545Z"
   },
   {
    "duration": 3,
    "start_time": "2025-01-03T15:39:05.557Z"
   },
   {
    "duration": 9,
    "start_time": "2025-01-03T15:39:05.562Z"
   },
   {
    "duration": 5,
    "start_time": "2025-01-03T15:39:05.573Z"
   },
   {
    "duration": 11,
    "start_time": "2025-01-03T15:39:05.579Z"
   },
   {
    "duration": 39,
    "start_time": "2025-01-03T15:39:05.592Z"
   },
   {
    "duration": 14,
    "start_time": "2025-01-03T15:39:05.633Z"
   },
   {
    "duration": 13,
    "start_time": "2025-01-03T15:39:05.648Z"
   },
   {
    "duration": 4,
    "start_time": "2025-01-03T15:39:05.662Z"
   },
   {
    "duration": 5,
    "start_time": "2025-01-03T15:39:05.667Z"
   },
   {
    "duration": 7,
    "start_time": "2025-01-03T15:39:05.674Z"
   },
   {
    "duration": 11,
    "start_time": "2025-01-03T15:39:05.683Z"
   },
   {
    "duration": 36,
    "start_time": "2025-01-03T15:39:05.695Z"
   },
   {
    "duration": 4,
    "start_time": "2025-01-03T15:39:05.733Z"
   },
   {
    "duration": 17,
    "start_time": "2025-01-03T15:39:05.738Z"
   },
   {
    "duration": 12,
    "start_time": "2025-01-03T15:39:05.757Z"
   },
   {
    "duration": 756,
    "start_time": "2025-01-03T15:39:05.771Z"
   },
   {
    "duration": 231,
    "start_time": "2025-01-03T15:39:06.531Z"
   },
   {
    "duration": 423,
    "start_time": "2025-01-03T15:39:06.764Z"
   },
   {
    "duration": 108,
    "start_time": "2025-01-03T15:39:07.191Z"
   },
   {
    "duration": 229,
    "start_time": "2025-01-03T15:39:07.300Z"
   },
   {
    "duration": 0,
    "start_time": "2025-01-03T15:39:07.530Z"
   },
   {
    "duration": 0,
    "start_time": "2025-01-03T15:39:07.532Z"
   },
   {
    "duration": 0,
    "start_time": "2025-01-03T15:39:07.533Z"
   },
   {
    "duration": 0,
    "start_time": "2025-01-03T15:39:07.534Z"
   },
   {
    "duration": 8,
    "start_time": "2025-01-03T15:42:19.610Z"
   },
   {
    "duration": 16,
    "start_time": "2025-01-03T17:12:05.520Z"
   },
   {
    "duration": 13,
    "start_time": "2025-01-03T17:12:34.425Z"
   },
   {
    "duration": 16,
    "start_time": "2025-01-03T17:12:51.402Z"
   },
   {
    "duration": 850,
    "start_time": "2025-01-03T17:14:13.175Z"
   },
   {
    "duration": 27,
    "start_time": "2025-01-03T17:14:14.028Z"
   },
   {
    "duration": 11,
    "start_time": "2025-01-03T17:14:14.057Z"
   },
   {
    "duration": 17,
    "start_time": "2025-01-03T17:14:14.070Z"
   },
   {
    "duration": 3,
    "start_time": "2025-01-03T17:14:14.089Z"
   },
   {
    "duration": 5,
    "start_time": "2025-01-03T17:14:14.094Z"
   },
   {
    "duration": 42,
    "start_time": "2025-01-03T17:14:14.100Z"
   },
   {
    "duration": 134,
    "start_time": "2025-01-03T17:14:14.144Z"
   },
   {
    "duration": 3,
    "start_time": "2025-01-03T17:14:14.280Z"
   },
   {
    "duration": 9,
    "start_time": "2025-01-03T17:14:14.285Z"
   },
   {
    "duration": 14,
    "start_time": "2025-01-03T17:14:14.297Z"
   },
   {
    "duration": 4,
    "start_time": "2025-01-03T17:14:14.331Z"
   },
   {
    "duration": 10,
    "start_time": "2025-01-03T17:14:14.337Z"
   },
   {
    "duration": 6,
    "start_time": "2025-01-03T17:14:14.351Z"
   },
   {
    "duration": 10,
    "start_time": "2025-01-03T17:14:14.358Z"
   },
   {
    "duration": 3,
    "start_time": "2025-01-03T17:14:14.370Z"
   },
   {
    "duration": 11,
    "start_time": "2025-01-03T17:14:14.376Z"
   },
   {
    "duration": 5,
    "start_time": "2025-01-03T17:14:14.388Z"
   },
   {
    "duration": 43,
    "start_time": "2025-01-03T17:14:14.395Z"
   },
   {
    "duration": 4,
    "start_time": "2025-01-03T17:14:14.441Z"
   },
   {
    "duration": 14,
    "start_time": "2025-01-03T17:14:14.447Z"
   },
   {
    "duration": 15,
    "start_time": "2025-01-03T17:14:14.462Z"
   },
   {
    "duration": 4,
    "start_time": "2025-01-03T17:14:14.479Z"
   },
   {
    "duration": 4,
    "start_time": "2025-01-03T17:14:14.485Z"
   },
   {
    "duration": 41,
    "start_time": "2025-01-03T17:14:14.491Z"
   },
   {
    "duration": 14,
    "start_time": "2025-01-03T17:14:14.534Z"
   },
   {
    "duration": 8,
    "start_time": "2025-01-03T17:14:14.550Z"
   },
   {
    "duration": 3,
    "start_time": "2025-01-03T17:14:14.559Z"
   },
   {
    "duration": 17,
    "start_time": "2025-01-03T17:14:14.564Z"
   },
   {
    "duration": 14,
    "start_time": "2025-01-03T17:14:14.583Z"
   },
   {
    "duration": 762,
    "start_time": "2025-01-03T17:14:14.632Z"
   },
   {
    "duration": 179,
    "start_time": "2025-01-03T17:14:15.396Z"
   },
   {
    "duration": 471,
    "start_time": "2025-01-03T17:14:15.577Z"
   },
   {
    "duration": 117,
    "start_time": "2025-01-03T17:14:16.050Z"
   },
   {
    "duration": 230,
    "start_time": "2025-01-03T17:14:16.169Z"
   },
   {
    "duration": 0,
    "start_time": "2025-01-03T17:14:16.401Z"
   },
   {
    "duration": 0,
    "start_time": "2025-01-03T17:14:16.402Z"
   },
   {
    "duration": 0,
    "start_time": "2025-01-03T17:14:16.404Z"
   },
   {
    "duration": 0,
    "start_time": "2025-01-03T17:14:16.405Z"
   },
   {
    "duration": 11,
    "start_time": "2025-01-03T17:15:31.696Z"
   },
   {
    "duration": 704,
    "start_time": "2025-01-03T17:20:44.306Z"
   },
   {
    "duration": 7,
    "start_time": "2025-01-03T17:22:09.830Z"
   },
   {
    "duration": 627,
    "start_time": "2025-01-03T17:22:36.970Z"
   },
   {
    "duration": 665,
    "start_time": "2025-01-03T17:23:22.037Z"
   },
   {
    "duration": 637,
    "start_time": "2025-01-03T17:23:29.410Z"
   },
   {
    "duration": 162,
    "start_time": "2025-01-04T00:27:05.086Z"
   },
   {
    "duration": 2699,
    "start_time": "2025-01-04T00:38:04.522Z"
   },
   {
    "duration": 34,
    "start_time": "2025-01-04T00:38:07.225Z"
   },
   {
    "duration": 15,
    "start_time": "2025-01-04T00:38:07.261Z"
   },
   {
    "duration": 23,
    "start_time": "2025-01-04T00:38:07.279Z"
   },
   {
    "duration": 12,
    "start_time": "2025-01-04T00:38:07.304Z"
   },
   {
    "duration": 5,
    "start_time": "2025-01-04T00:38:07.319Z"
   },
   {
    "duration": 12,
    "start_time": "2025-01-04T00:38:07.327Z"
   },
   {
    "duration": 256,
    "start_time": "2025-01-04T00:38:07.341Z"
   },
   {
    "duration": 0,
    "start_time": "2025-01-04T00:38:07.599Z"
   },
   {
    "duration": 0,
    "start_time": "2025-01-04T00:38:07.601Z"
   },
   {
    "duration": 0,
    "start_time": "2025-01-04T00:38:07.602Z"
   },
   {
    "duration": 0,
    "start_time": "2025-01-04T00:38:07.603Z"
   },
   {
    "duration": 0,
    "start_time": "2025-01-04T00:38:07.603Z"
   },
   {
    "duration": 0,
    "start_time": "2025-01-04T00:38:07.604Z"
   },
   {
    "duration": 0,
    "start_time": "2025-01-04T00:38:07.609Z"
   },
   {
    "duration": 0,
    "start_time": "2025-01-04T00:38:07.609Z"
   },
   {
    "duration": 0,
    "start_time": "2025-01-04T00:38:07.610Z"
   },
   {
    "duration": 0,
    "start_time": "2025-01-04T00:38:07.614Z"
   },
   {
    "duration": 0,
    "start_time": "2025-01-04T00:38:07.616Z"
   },
   {
    "duration": 0,
    "start_time": "2025-01-04T00:38:07.617Z"
   },
   {
    "duration": 0,
    "start_time": "2025-01-04T00:38:07.618Z"
   },
   {
    "duration": 0,
    "start_time": "2025-01-04T00:38:07.619Z"
   },
   {
    "duration": 0,
    "start_time": "2025-01-04T00:38:07.620Z"
   },
   {
    "duration": 0,
    "start_time": "2025-01-04T00:38:07.623Z"
   },
   {
    "duration": 0,
    "start_time": "2025-01-04T00:38:07.624Z"
   },
   {
    "duration": 0,
    "start_time": "2025-01-04T00:38:07.625Z"
   },
   {
    "duration": 0,
    "start_time": "2025-01-04T00:38:07.626Z"
   },
   {
    "duration": 0,
    "start_time": "2025-01-04T00:38:07.627Z"
   },
   {
    "duration": 0,
    "start_time": "2025-01-04T00:38:07.628Z"
   },
   {
    "duration": 0,
    "start_time": "2025-01-04T00:38:07.629Z"
   },
   {
    "duration": 0,
    "start_time": "2025-01-04T00:38:07.631Z"
   },
   {
    "duration": 0,
    "start_time": "2025-01-04T00:38:07.632Z"
   },
   {
    "duration": 0,
    "start_time": "2025-01-04T00:38:07.632Z"
   },
   {
    "duration": 0,
    "start_time": "2025-01-04T00:38:07.634Z"
   },
   {
    "duration": 0,
    "start_time": "2025-01-04T00:38:07.635Z"
   },
   {
    "duration": 0,
    "start_time": "2025-01-04T00:38:07.636Z"
   },
   {
    "duration": 0,
    "start_time": "2025-01-04T00:38:07.637Z"
   },
   {
    "duration": 0,
    "start_time": "2025-01-04T00:38:07.639Z"
   },
   {
    "duration": 0,
    "start_time": "2025-01-04T00:38:07.640Z"
   },
   {
    "duration": 0,
    "start_time": "2025-01-04T00:38:07.642Z"
   },
   {
    "duration": 29,
    "start_time": "2025-01-04T00:38:19.593Z"
   },
   {
    "duration": 10,
    "start_time": "2025-01-04T00:51:08.144Z"
   },
   {
    "duration": 15,
    "start_time": "2025-01-04T00:51:21.111Z"
   },
   {
    "duration": 661,
    "start_time": "2025-01-04T00:51:27.182Z"
   },
   {
    "duration": 0,
    "start_time": "2025-01-04T00:51:27.845Z"
   },
   {
    "duration": 123,
    "start_time": "2025-01-04T00:51:31.798Z"
   },
   {
    "duration": 117,
    "start_time": "2025-01-04T00:51:45.788Z"
   },
   {
    "duration": 4,
    "start_time": "2025-01-04T00:51:47.937Z"
   },
   {
    "duration": 14,
    "start_time": "2025-01-04T00:51:49.000Z"
   },
   {
    "duration": 13,
    "start_time": "2025-01-04T01:19:29.988Z"
   },
   {
    "duration": 246,
    "start_time": "2025-01-04T01:27:48.260Z"
   },
   {
    "duration": 252,
    "start_time": "2025-01-04T01:27:53.689Z"
   },
   {
    "duration": 1076,
    "start_time": "2025-01-04T01:28:08.142Z"
   },
   {
    "duration": 386,
    "start_time": "2025-01-04T01:28:26.348Z"
   },
   {
    "duration": 16,
    "start_time": "2025-01-04T01:31:54.583Z"
   },
   {
    "duration": 7,
    "start_time": "2025-01-04T01:33:18.234Z"
   },
   {
    "duration": 11,
    "start_time": "2025-01-04T01:34:06.028Z"
   },
   {
    "duration": 10,
    "start_time": "2025-01-04T01:35:23.391Z"
   },
   {
    "duration": 13,
    "start_time": "2025-01-04T01:35:50.602Z"
   },
   {
    "duration": 11,
    "start_time": "2025-01-04T01:37:22.272Z"
   },
   {
    "duration": 45,
    "start_time": "2025-01-04T01:40:14.487Z"
   },
   {
    "duration": 814,
    "start_time": "2025-01-04T01:40:22.482Z"
   },
   {
    "duration": 28,
    "start_time": "2025-01-04T01:40:23.299Z"
   },
   {
    "duration": 11,
    "start_time": "2025-01-04T01:40:23.329Z"
   },
   {
    "duration": 14,
    "start_time": "2025-01-04T01:40:23.342Z"
   },
   {
    "duration": 3,
    "start_time": "2025-01-04T01:40:23.360Z"
   },
   {
    "duration": 5,
    "start_time": "2025-01-04T01:40:23.365Z"
   },
   {
    "duration": 10,
    "start_time": "2025-01-04T01:40:23.372Z"
   },
   {
    "duration": 29,
    "start_time": "2025-01-04T01:40:23.410Z"
   },
   {
    "duration": 135,
    "start_time": "2025-01-04T01:40:23.441Z"
   },
   {
    "duration": 3,
    "start_time": "2025-01-04T01:40:23.579Z"
   },
   {
    "duration": 25,
    "start_time": "2025-01-04T01:40:23.584Z"
   },
   {
    "duration": 3,
    "start_time": "2025-01-04T01:40:23.610Z"
   },
   {
    "duration": 11,
    "start_time": "2025-01-04T01:40:23.614Z"
   },
   {
    "duration": 7,
    "start_time": "2025-01-04T01:40:23.629Z"
   },
   {
    "duration": 9,
    "start_time": "2025-01-04T01:40:23.638Z"
   },
   {
    "duration": 3,
    "start_time": "2025-01-04T01:40:23.649Z"
   },
   {
    "duration": 10,
    "start_time": "2025-01-04T01:40:23.653Z"
   },
   {
    "duration": 5,
    "start_time": "2025-01-04T01:40:23.665Z"
   },
   {
    "duration": 44,
    "start_time": "2025-01-04T01:40:23.672Z"
   },
   {
    "duration": 14,
    "start_time": "2025-01-04T01:40:23.717Z"
   },
   {
    "duration": 13,
    "start_time": "2025-01-04T01:40:23.733Z"
   },
   {
    "duration": 8,
    "start_time": "2025-01-04T01:40:23.747Z"
   },
   {
    "duration": 5,
    "start_time": "2025-01-04T01:40:23.756Z"
   },
   {
    "duration": 47,
    "start_time": "2025-01-04T01:40:23.763Z"
   },
   {
    "duration": 3,
    "start_time": "2025-01-04T01:40:23.812Z"
   },
   {
    "duration": 4,
    "start_time": "2025-01-04T01:40:23.817Z"
   },
   {
    "duration": 9,
    "start_time": "2025-01-04T01:40:23.822Z"
   },
   {
    "duration": 11,
    "start_time": "2025-01-04T01:40:23.832Z"
   },
   {
    "duration": 7,
    "start_time": "2025-01-04T01:40:23.844Z"
   },
   {
    "duration": 3,
    "start_time": "2025-01-04T01:40:23.852Z"
   },
   {
    "duration": 55,
    "start_time": "2025-01-04T01:40:23.856Z"
   },
   {
    "duration": 13,
    "start_time": "2025-01-04T01:40:23.913Z"
   },
   {
    "duration": 649,
    "start_time": "2025-01-04T01:40:23.927Z"
   },
   {
    "duration": 259,
    "start_time": "2025-01-04T01:40:24.578Z"
   },
   {
    "duration": 422,
    "start_time": "2025-01-04T01:40:24.839Z"
   },
   {
    "duration": 113,
    "start_time": "2025-01-04T01:40:25.263Z"
   },
   {
    "duration": 242,
    "start_time": "2025-01-04T01:40:25.377Z"
   },
   {
    "duration": 0,
    "start_time": "2025-01-04T01:40:25.621Z"
   },
   {
    "duration": 0,
    "start_time": "2025-01-04T01:40:25.622Z"
   },
   {
    "duration": 0,
    "start_time": "2025-01-04T01:40:25.624Z"
   },
   {
    "duration": 0,
    "start_time": "2025-01-04T01:40:25.625Z"
   },
   {
    "duration": 245,
    "start_time": "2025-01-04T01:42:34.264Z"
   },
   {
    "duration": 357,
    "start_time": "2025-01-04T01:42:47.810Z"
   },
   {
    "duration": 13,
    "start_time": "2025-01-04T01:46:51.835Z"
   },
   {
    "duration": 156,
    "start_time": "2025-01-04T21:05:00.564Z"
   },
   {
    "duration": 2547,
    "start_time": "2025-01-04T21:05:07.405Z"
   },
   {
    "duration": 33,
    "start_time": "2025-01-04T21:05:09.954Z"
   },
   {
    "duration": 12,
    "start_time": "2025-01-04T21:05:09.989Z"
   },
   {
    "duration": 18,
    "start_time": "2025-01-04T21:05:10.003Z"
   },
   {
    "duration": 2,
    "start_time": "2025-01-04T21:05:10.025Z"
   },
   {
    "duration": 4,
    "start_time": "2025-01-04T21:05:10.029Z"
   },
   {
    "duration": 10,
    "start_time": "2025-01-04T21:05:10.035Z"
   },
   {
    "duration": 25,
    "start_time": "2025-01-04T21:05:10.047Z"
   },
   {
    "duration": 156,
    "start_time": "2025-01-04T21:05:10.074Z"
   },
   {
    "duration": 4,
    "start_time": "2025-01-04T21:05:10.232Z"
   },
   {
    "duration": 18,
    "start_time": "2025-01-04T21:05:10.238Z"
   },
   {
    "duration": 5,
    "start_time": "2025-01-04T21:05:10.258Z"
   },
   {
    "duration": 11,
    "start_time": "2025-01-04T21:05:10.265Z"
   },
   {
    "duration": 32,
    "start_time": "2025-01-04T21:05:10.281Z"
   },
   {
    "duration": 10,
    "start_time": "2025-01-04T21:05:10.315Z"
   },
   {
    "duration": 3,
    "start_time": "2025-01-04T21:05:10.327Z"
   },
   {
    "duration": 10,
    "start_time": "2025-01-04T21:05:10.331Z"
   },
   {
    "duration": 5,
    "start_time": "2025-01-04T21:05:10.343Z"
   },
   {
    "duration": 12,
    "start_time": "2025-01-04T21:05:10.349Z"
   },
   {
    "duration": 47,
    "start_time": "2025-01-04T21:05:10.362Z"
   },
   {
    "duration": 12,
    "start_time": "2025-01-04T21:05:10.411Z"
   },
   {
    "duration": 8,
    "start_time": "2025-01-04T21:05:10.425Z"
   },
   {
    "duration": 4,
    "start_time": "2025-01-04T21:05:10.435Z"
   },
   {
    "duration": 12,
    "start_time": "2025-01-04T21:05:10.441Z"
   },
   {
    "duration": 4,
    "start_time": "2025-01-04T21:05:10.455Z"
   },
   {
    "duration": 5,
    "start_time": "2025-01-04T21:05:10.460Z"
   },
   {
    "duration": 43,
    "start_time": "2025-01-04T21:05:10.467Z"
   },
   {
    "duration": 10,
    "start_time": "2025-01-04T21:05:10.511Z"
   },
   {
    "duration": 7,
    "start_time": "2025-01-04T21:05:10.523Z"
   },
   {
    "duration": 3,
    "start_time": "2025-01-04T21:05:10.532Z"
   },
   {
    "duration": 16,
    "start_time": "2025-01-04T21:05:10.537Z"
   },
   {
    "duration": 13,
    "start_time": "2025-01-04T21:05:10.554Z"
   },
   {
    "duration": 655,
    "start_time": "2025-01-04T21:05:10.569Z"
   },
   {
    "duration": 230,
    "start_time": "2025-01-04T21:05:11.227Z"
   },
   {
    "duration": 438,
    "start_time": "2025-01-04T21:05:11.459Z"
   },
   {
    "duration": 112,
    "start_time": "2025-01-04T21:05:11.899Z"
   },
   {
    "duration": 297,
    "start_time": "2025-01-04T21:05:12.013Z"
   },
   {
    "duration": 0,
    "start_time": "2025-01-04T21:05:12.312Z"
   },
   {
    "duration": 0,
    "start_time": "2025-01-04T21:05:12.313Z"
   },
   {
    "duration": 0,
    "start_time": "2025-01-04T21:05:12.314Z"
   },
   {
    "duration": 0,
    "start_time": "2025-01-04T21:05:12.315Z"
   },
   {
    "duration": 3,
    "start_time": "2025-01-04T21:05:22.623Z"
   },
   {
    "duration": 5,
    "start_time": "2025-01-04T21:05:39.124Z"
   },
   {
    "duration": 5,
    "start_time": "2025-01-04T21:05:54.083Z"
   },
   {
    "duration": 7,
    "start_time": "2025-01-04T21:06:01.450Z"
   },
   {
    "duration": 14,
    "start_time": "2025-01-04T21:06:17.102Z"
   },
   {
    "duration": 4,
    "start_time": "2025-01-04T21:15:05.983Z"
   },
   {
    "duration": 14,
    "start_time": "2025-01-04T21:15:17.128Z"
   },
   {
    "duration": 14,
    "start_time": "2025-01-04T21:16:03.102Z"
   },
   {
    "duration": 15,
    "start_time": "2025-01-04T21:16:33.473Z"
   },
   {
    "duration": 5,
    "start_time": "2025-01-04T21:16:47.752Z"
   },
   {
    "duration": 14,
    "start_time": "2025-01-04T21:16:48.368Z"
   },
   {
    "duration": 4,
    "start_time": "2025-01-04T21:17:04.739Z"
   },
   {
    "duration": 15,
    "start_time": "2025-01-04T21:17:05.167Z"
   },
   {
    "duration": 4,
    "start_time": "2025-01-04T21:18:06.000Z"
   },
   {
    "duration": 20,
    "start_time": "2025-01-04T21:18:07.504Z"
   },
   {
    "duration": 15,
    "start_time": "2025-01-04T21:18:09.748Z"
   },
   {
    "duration": 884,
    "start_time": "2025-01-04T21:18:26.330Z"
   },
   {
    "duration": 25,
    "start_time": "2025-01-04T21:18:27.217Z"
   },
   {
    "duration": 11,
    "start_time": "2025-01-04T21:18:27.243Z"
   },
   {
    "duration": 16,
    "start_time": "2025-01-04T21:18:27.257Z"
   },
   {
    "duration": 3,
    "start_time": "2025-01-04T21:18:27.275Z"
   },
   {
    "duration": 30,
    "start_time": "2025-01-04T21:18:27.280Z"
   },
   {
    "duration": 13,
    "start_time": "2025-01-04T21:18:27.312Z"
   },
   {
    "duration": 27,
    "start_time": "2025-01-04T21:18:27.327Z"
   },
   {
    "duration": 153,
    "start_time": "2025-01-04T21:18:27.356Z"
   },
   {
    "duration": 6,
    "start_time": "2025-01-04T21:18:27.513Z"
   },
   {
    "duration": 16,
    "start_time": "2025-01-04T21:18:27.521Z"
   },
   {
    "duration": 11,
    "start_time": "2025-01-04T21:18:27.539Z"
   },
   {
    "duration": 845,
    "start_time": "2025-01-04T21:18:27.551Z"
   },
   {
    "duration": 0,
    "start_time": "2025-01-04T21:18:28.399Z"
   },
   {
    "duration": 0,
    "start_time": "2025-01-04T21:18:28.409Z"
   },
   {
    "duration": 0,
    "start_time": "2025-01-04T21:18:28.410Z"
   },
   {
    "duration": 0,
    "start_time": "2025-01-04T21:18:28.411Z"
   },
   {
    "duration": 0,
    "start_time": "2025-01-04T21:18:28.412Z"
   },
   {
    "duration": 0,
    "start_time": "2025-01-04T21:18:28.413Z"
   },
   {
    "duration": 0,
    "start_time": "2025-01-04T21:18:28.414Z"
   },
   {
    "duration": 0,
    "start_time": "2025-01-04T21:18:28.415Z"
   },
   {
    "duration": 0,
    "start_time": "2025-01-04T21:18:28.416Z"
   },
   {
    "duration": 0,
    "start_time": "2025-01-04T21:18:28.417Z"
   },
   {
    "duration": 0,
    "start_time": "2025-01-04T21:18:28.418Z"
   },
   {
    "duration": 0,
    "start_time": "2025-01-04T21:18:28.419Z"
   },
   {
    "duration": 0,
    "start_time": "2025-01-04T21:18:28.421Z"
   },
   {
    "duration": 0,
    "start_time": "2025-01-04T21:18:28.422Z"
   },
   {
    "duration": 0,
    "start_time": "2025-01-04T21:18:28.423Z"
   },
   {
    "duration": 0,
    "start_time": "2025-01-04T21:18:28.424Z"
   },
   {
    "duration": 0,
    "start_time": "2025-01-04T21:18:28.425Z"
   },
   {
    "duration": 0,
    "start_time": "2025-01-04T21:18:28.426Z"
   },
   {
    "duration": 0,
    "start_time": "2025-01-04T21:18:28.427Z"
   },
   {
    "duration": 0,
    "start_time": "2025-01-04T21:18:28.428Z"
   },
   {
    "duration": 0,
    "start_time": "2025-01-04T21:18:28.430Z"
   },
   {
    "duration": 0,
    "start_time": "2025-01-04T21:18:28.431Z"
   },
   {
    "duration": 1,
    "start_time": "2025-01-04T21:18:28.432Z"
   },
   {
    "duration": 0,
    "start_time": "2025-01-04T21:18:28.434Z"
   },
   {
    "duration": 0,
    "start_time": "2025-01-04T21:18:28.435Z"
   },
   {
    "duration": 0,
    "start_time": "2025-01-04T21:18:28.437Z"
   },
   {
    "duration": 0,
    "start_time": "2025-01-04T21:18:28.438Z"
   },
   {
    "duration": 0,
    "start_time": "2025-01-04T21:18:28.439Z"
   },
   {
    "duration": 0,
    "start_time": "2025-01-04T21:18:28.442Z"
   },
   {
    "duration": 54,
    "start_time": "2025-01-04T21:18:37.957Z"
   },
   {
    "duration": 50,
    "start_time": "2025-01-04T21:18:54.263Z"
   },
   {
    "duration": 5,
    "start_time": "2025-01-04T21:19:23.045Z"
   },
   {
    "duration": 54,
    "start_time": "2025-01-04T21:19:37.898Z"
   },
   {
    "duration": 73,
    "start_time": "2025-01-04T21:19:58.177Z"
   },
   {
    "duration": 52,
    "start_time": "2025-01-04T21:20:08.199Z"
   },
   {
    "duration": 14,
    "start_time": "2025-01-04T21:20:40.784Z"
   },
   {
    "duration": 12,
    "start_time": "2025-01-04T21:22:00.511Z"
   },
   {
    "duration": 818,
    "start_time": "2025-01-04T21:22:34.373Z"
   },
   {
    "duration": 28,
    "start_time": "2025-01-04T21:22:35.193Z"
   },
   {
    "duration": 12,
    "start_time": "2025-01-04T21:22:35.222Z"
   },
   {
    "duration": 14,
    "start_time": "2025-01-04T21:22:35.236Z"
   },
   {
    "duration": 3,
    "start_time": "2025-01-04T21:22:35.252Z"
   },
   {
    "duration": 5,
    "start_time": "2025-01-04T21:22:35.256Z"
   },
   {
    "duration": 11,
    "start_time": "2025-01-04T21:22:35.262Z"
   },
   {
    "duration": 52,
    "start_time": "2025-01-04T21:22:35.275Z"
   },
   {
    "duration": 132,
    "start_time": "2025-01-04T21:22:35.329Z"
   },
   {
    "duration": 3,
    "start_time": "2025-01-04T21:22:35.463Z"
   },
   {
    "duration": 17,
    "start_time": "2025-01-04T21:22:35.468Z"
   },
   {
    "duration": 26,
    "start_time": "2025-01-04T21:22:35.486Z"
   },
   {
    "duration": 11,
    "start_time": "2025-01-04T21:22:35.513Z"
   },
   {
    "duration": 12,
    "start_time": "2025-01-04T21:22:35.528Z"
   },
   {
    "duration": 9,
    "start_time": "2025-01-04T21:22:35.542Z"
   },
   {
    "duration": 10,
    "start_time": "2025-01-04T21:22:35.553Z"
   },
   {
    "duration": 4,
    "start_time": "2025-01-04T21:22:35.564Z"
   },
   {
    "duration": 44,
    "start_time": "2025-01-04T21:22:35.570Z"
   },
   {
    "duration": 5,
    "start_time": "2025-01-04T21:22:35.616Z"
   },
   {
    "duration": 12,
    "start_time": "2025-01-04T21:22:35.622Z"
   },
   {
    "duration": 13,
    "start_time": "2025-01-04T21:22:35.636Z"
   },
   {
    "duration": 12,
    "start_time": "2025-01-04T21:22:35.651Z"
   },
   {
    "duration": 7,
    "start_time": "2025-01-04T21:22:35.665Z"
   },
   {
    "duration": 37,
    "start_time": "2025-01-04T21:22:35.673Z"
   },
   {
    "duration": 12,
    "start_time": "2025-01-04T21:22:35.712Z"
   },
   {
    "duration": 3,
    "start_time": "2025-01-04T21:22:35.725Z"
   },
   {
    "duration": 5,
    "start_time": "2025-01-04T21:22:35.729Z"
   },
   {
    "duration": 9,
    "start_time": "2025-01-04T21:22:35.736Z"
   },
   {
    "duration": 10,
    "start_time": "2025-01-04T21:22:35.746Z"
   },
   {
    "duration": 7,
    "start_time": "2025-01-04T21:22:35.758Z"
   },
   {
    "duration": 4,
    "start_time": "2025-01-04T21:22:35.766Z"
   },
   {
    "duration": 16,
    "start_time": "2025-01-04T21:22:35.810Z"
   },
   {
    "duration": 12,
    "start_time": "2025-01-04T21:22:35.828Z"
   },
   {
    "duration": 657,
    "start_time": "2025-01-04T21:22:35.842Z"
   },
   {
    "duration": 250,
    "start_time": "2025-01-04T21:22:36.501Z"
   },
   {
    "duration": 430,
    "start_time": "2025-01-04T21:22:36.753Z"
   },
   {
    "duration": 139,
    "start_time": "2025-01-04T21:22:37.186Z"
   },
   {
    "duration": 234,
    "start_time": "2025-01-04T21:22:37.327Z"
   },
   {
    "duration": 0,
    "start_time": "2025-01-04T21:22:37.563Z"
   },
   {
    "duration": 0,
    "start_time": "2025-01-04T21:22:37.564Z"
   },
   {
    "duration": 0,
    "start_time": "2025-01-04T21:22:37.566Z"
   },
   {
    "duration": 0,
    "start_time": "2025-01-04T21:22:37.567Z"
   },
   {
    "duration": 14,
    "start_time": "2025-01-04T21:23:00.185Z"
   },
   {
    "duration": 15,
    "start_time": "2025-01-04T21:23:09.270Z"
   },
   {
    "duration": 16,
    "start_time": "2025-01-04T21:27:06.512Z"
   },
   {
    "duration": 4,
    "start_time": "2025-01-04T21:28:47.445Z"
   },
   {
    "duration": 7,
    "start_time": "2025-01-04T21:29:07.236Z"
   },
   {
    "duration": 4,
    "start_time": "2025-01-04T21:29:20.731Z"
   },
   {
    "duration": 3,
    "start_time": "2025-01-04T21:29:31.190Z"
   },
   {
    "duration": 14,
    "start_time": "2025-01-04T21:29:51.805Z"
   },
   {
    "duration": 4,
    "start_time": "2025-01-04T21:30:20.677Z"
   },
   {
    "duration": 15,
    "start_time": "2025-01-04T21:30:21.460Z"
   },
   {
    "duration": 4,
    "start_time": "2025-01-04T21:30:32.497Z"
   },
   {
    "duration": 14,
    "start_time": "2025-01-04T21:30:33.131Z"
   },
   {
    "duration": 3,
    "start_time": "2025-01-04T21:30:48.366Z"
   },
   {
    "duration": 27,
    "start_time": "2025-01-04T21:30:48.971Z"
   },
   {
    "duration": 12,
    "start_time": "2025-01-04T21:30:54.017Z"
   },
   {
    "duration": 4,
    "start_time": "2025-01-04T21:30:56.508Z"
   },
   {
    "duration": 13,
    "start_time": "2025-01-04T21:30:57.934Z"
   },
   {
    "duration": 802,
    "start_time": "2025-01-04T21:31:09.090Z"
   },
   {
    "duration": 25,
    "start_time": "2025-01-04T21:31:09.894Z"
   },
   {
    "duration": 11,
    "start_time": "2025-01-04T21:31:09.921Z"
   },
   {
    "duration": 15,
    "start_time": "2025-01-04T21:31:09.933Z"
   },
   {
    "duration": 3,
    "start_time": "2025-01-04T21:31:09.950Z"
   },
   {
    "duration": 4,
    "start_time": "2025-01-04T21:31:09.955Z"
   },
   {
    "duration": 11,
    "start_time": "2025-01-04T21:31:09.960Z"
   },
   {
    "duration": 55,
    "start_time": "2025-01-04T21:31:09.972Z"
   },
   {
    "duration": 130,
    "start_time": "2025-01-04T21:31:10.029Z"
   },
   {
    "duration": 3,
    "start_time": "2025-01-04T21:31:10.161Z"
   },
   {
    "duration": 15,
    "start_time": "2025-01-04T21:31:10.166Z"
   },
   {
    "duration": 10,
    "start_time": "2025-01-04T21:31:10.183Z"
   },
   {
    "duration": 4,
    "start_time": "2025-01-04T21:31:10.209Z"
   },
   {
    "duration": 11,
    "start_time": "2025-01-04T21:31:10.217Z"
   },
   {
    "duration": 10,
    "start_time": "2025-01-04T21:31:10.230Z"
   },
   {
    "duration": 11,
    "start_time": "2025-01-04T21:31:10.242Z"
   },
   {
    "duration": 5,
    "start_time": "2025-01-04T21:31:10.255Z"
   },
   {
    "duration": 11,
    "start_time": "2025-01-04T21:31:10.261Z"
   },
   {
    "duration": 4,
    "start_time": "2025-01-04T21:31:10.310Z"
   },
   {
    "duration": 12,
    "start_time": "2025-01-04T21:31:10.316Z"
   },
   {
    "duration": 14,
    "start_time": "2025-01-04T21:31:10.329Z"
   },
   {
    "duration": 12,
    "start_time": "2025-01-04T21:31:10.345Z"
   },
   {
    "duration": 7,
    "start_time": "2025-01-04T21:31:10.359Z"
   },
   {
    "duration": 6,
    "start_time": "2025-01-04T21:31:10.368Z"
   },
   {
    "duration": 46,
    "start_time": "2025-01-04T21:31:10.375Z"
   },
   {
    "duration": 3,
    "start_time": "2025-01-04T21:31:10.423Z"
   },
   {
    "duration": 4,
    "start_time": "2025-01-04T21:31:10.428Z"
   },
   {
    "duration": 8,
    "start_time": "2025-01-04T21:31:10.434Z"
   },
   {
    "duration": 11,
    "start_time": "2025-01-04T21:31:10.443Z"
   },
   {
    "duration": 6,
    "start_time": "2025-01-04T21:31:10.456Z"
   },
   {
    "duration": 3,
    "start_time": "2025-01-04T21:31:10.465Z"
   },
   {
    "duration": 53,
    "start_time": "2025-01-04T21:31:10.470Z"
   },
   {
    "duration": 13,
    "start_time": "2025-01-04T21:31:10.524Z"
   },
   {
    "duration": 655,
    "start_time": "2025-01-04T21:31:10.538Z"
   },
   {
    "duration": 250,
    "start_time": "2025-01-04T21:31:11.195Z"
   },
   {
    "duration": 447,
    "start_time": "2025-01-04T21:31:11.447Z"
   },
   {
    "duration": 120,
    "start_time": "2025-01-04T21:31:11.895Z"
   },
   {
    "duration": 219,
    "start_time": "2025-01-04T21:31:12.017Z"
   },
   {
    "duration": 0,
    "start_time": "2025-01-04T21:31:12.238Z"
   },
   {
    "duration": 0,
    "start_time": "2025-01-04T21:31:12.240Z"
   },
   {
    "duration": 0,
    "start_time": "2025-01-04T21:31:12.242Z"
   },
   {
    "duration": 0,
    "start_time": "2025-01-04T21:31:12.243Z"
   },
   {
    "duration": 5,
    "start_time": "2025-01-04T21:31:22.982Z"
   },
   {
    "duration": 14,
    "start_time": "2025-01-04T21:31:24.148Z"
   },
   {
    "duration": 5,
    "start_time": "2025-01-04T21:31:30.486Z"
   },
   {
    "duration": 14,
    "start_time": "2025-01-04T21:31:31.189Z"
   },
   {
    "duration": 13,
    "start_time": "2025-01-04T21:31:35.544Z"
   },
   {
    "duration": 9,
    "start_time": "2025-01-04T21:36:01.682Z"
   },
   {
    "duration": 17,
    "start_time": "2025-01-04T21:36:15.858Z"
   },
   {
    "duration": 6,
    "start_time": "2025-01-04T21:36:36.045Z"
   },
   {
    "duration": 16,
    "start_time": "2025-01-04T21:38:53.106Z"
   },
   {
    "duration": 8,
    "start_time": "2025-01-04T21:38:57.327Z"
   },
   {
    "duration": 138,
    "start_time": "2025-01-04T21:40:28.121Z"
   },
   {
    "duration": 5,
    "start_time": "2025-01-04T21:43:24.227Z"
   },
   {
    "duration": 10,
    "start_time": "2025-01-04T21:44:02.641Z"
   },
   {
    "duration": 3,
    "start_time": "2025-01-04T21:53:49.557Z"
   },
   {
    "duration": 7,
    "start_time": "2025-01-04T21:53:57.214Z"
   },
   {
    "duration": 13,
    "start_time": "2025-01-04T21:54:07.987Z"
   },
   {
    "duration": 154,
    "start_time": "2025-01-04T21:56:25.244Z"
   },
   {
    "duration": 18,
    "start_time": "2025-01-04T21:56:35.337Z"
   },
   {
    "duration": 23,
    "start_time": "2025-01-04T21:56:47.562Z"
   },
   {
    "duration": 10,
    "start_time": "2025-01-04T21:57:06.850Z"
   },
   {
    "duration": 10,
    "start_time": "2025-01-04T21:57:13.328Z"
   },
   {
    "duration": 23,
    "start_time": "2025-01-04T21:57:20.898Z"
   },
   {
    "duration": 20,
    "start_time": "2025-01-04T21:57:58.231Z"
   },
   {
    "duration": 19,
    "start_time": "2025-01-04T21:58:13.816Z"
   },
   {
    "duration": 21,
    "start_time": "2025-01-04T21:58:37.806Z"
   },
   {
    "duration": 81,
    "start_time": "2025-01-04T21:59:43.528Z"
   },
   {
    "duration": 519,
    "start_time": "2025-01-04T22:02:04.526Z"
   },
   {
    "duration": 4,
    "start_time": "2025-01-04T22:02:34.481Z"
   },
   {
    "duration": 20,
    "start_time": "2025-01-04T22:03:01.742Z"
   },
   {
    "duration": 264,
    "start_time": "2025-01-04T22:04:32.678Z"
   },
   {
    "duration": 4,
    "start_time": "2025-01-04T22:05:31.448Z"
   },
   {
    "duration": 20,
    "start_time": "2025-01-04T22:05:38.783Z"
   },
   {
    "duration": 50,
    "start_time": "2025-01-04T22:23:20.111Z"
   },
   {
    "duration": 26,
    "start_time": "2025-01-04T22:23:37.977Z"
   },
   {
    "duration": 51,
    "start_time": "2025-01-04T22:23:38.006Z"
   },
   {
    "duration": 15,
    "start_time": "2025-01-04T22:24:06.896Z"
   },
   {
    "duration": 66,
    "start_time": "2025-01-04T22:24:40.177Z"
   },
   {
    "duration": 18,
    "start_time": "2025-01-04T22:24:59.742Z"
   },
   {
    "duration": 73,
    "start_time": "2025-01-04T22:34:35.798Z"
   },
   {
    "duration": 28,
    "start_time": "2025-01-04T22:34:41.170Z"
   },
   {
    "duration": 24,
    "start_time": "2025-01-04T22:34:57.058Z"
   },
   {
    "duration": 22,
    "start_time": "2025-01-04T22:35:37.192Z"
   },
   {
    "duration": 11,
    "start_time": "2025-01-04T22:35:43.906Z"
   },
   {
    "duration": 17,
    "start_time": "2025-01-04T22:35:44.664Z"
   },
   {
    "duration": 25,
    "start_time": "2025-01-04T22:36:02.425Z"
   },
   {
    "duration": 139,
    "start_time": "2025-01-04T22:37:14.039Z"
   },
   {
    "duration": 201,
    "start_time": "2025-01-04T22:37:53.959Z"
   },
   {
    "duration": 39,
    "start_time": "2025-01-04T22:38:00.895Z"
   },
   {
    "duration": 863,
    "start_time": "2025-01-04T22:38:30.866Z"
   },
   {
    "duration": 4,
    "start_time": "2025-01-04T22:39:23.844Z"
   },
   {
    "duration": 59,
    "start_time": "2025-01-04T22:39:32.196Z"
   },
   {
    "duration": 135,
    "start_time": "2025-01-04T22:41:09.287Z"
   },
   {
    "duration": 3122,
    "start_time": "2025-01-04T23:34:45.936Z"
   },
   {
    "duration": 981,
    "start_time": "2025-01-04T23:37:46.076Z"
   },
   {
    "duration": 652,
    "start_time": "2025-01-04T23:39:39.224Z"
   },
   {
    "duration": 9,
    "start_time": "2025-01-04T23:39:48.557Z"
   },
   {
    "duration": 16,
    "start_time": "2025-01-04T23:43:43.792Z"
   },
   {
    "duration": 14,
    "start_time": "2025-01-04T23:43:56.845Z"
   },
   {
    "duration": 15,
    "start_time": "2025-01-04T23:47:58.482Z"
   },
   {
    "duration": 157,
    "start_time": "2025-01-06T16:25:04.758Z"
   },
   {
    "duration": 2637,
    "start_time": "2025-01-06T16:25:11.187Z"
   },
   {
    "duration": 35,
    "start_time": "2025-01-06T16:25:13.826Z"
   },
   {
    "duration": 12,
    "start_time": "2025-01-06T16:25:13.863Z"
   },
   {
    "duration": 19,
    "start_time": "2025-01-06T16:25:13.876Z"
   },
   {
    "duration": 2,
    "start_time": "2025-01-06T16:25:13.898Z"
   },
   {
    "duration": 5,
    "start_time": "2025-01-06T16:25:13.902Z"
   },
   {
    "duration": 11,
    "start_time": "2025-01-06T16:25:13.908Z"
   },
   {
    "duration": 25,
    "start_time": "2025-01-06T16:25:13.921Z"
   },
   {
    "duration": 154,
    "start_time": "2025-01-06T16:25:13.948Z"
   },
   {
    "duration": 3,
    "start_time": "2025-01-06T16:25:14.104Z"
   },
   {
    "duration": 15,
    "start_time": "2025-01-06T16:25:14.109Z"
   },
   {
    "duration": 11,
    "start_time": "2025-01-06T16:25:14.125Z"
   },
   {
    "duration": 6,
    "start_time": "2025-01-06T16:25:14.137Z"
   },
   {
    "duration": 40,
    "start_time": "2025-01-06T16:25:14.147Z"
   },
   {
    "duration": 14,
    "start_time": "2025-01-06T16:25:14.189Z"
   },
   {
    "duration": 9,
    "start_time": "2025-01-06T16:25:14.206Z"
   },
   {
    "duration": 4,
    "start_time": "2025-01-06T16:25:14.216Z"
   },
   {
    "duration": 10,
    "start_time": "2025-01-06T16:25:14.222Z"
   },
   {
    "duration": 23,
    "start_time": "2025-01-06T16:25:14.233Z"
   },
   {
    "duration": 40,
    "start_time": "2025-01-06T16:25:14.257Z"
   },
   {
    "duration": 18,
    "start_time": "2025-01-06T16:25:14.298Z"
   },
   {
    "duration": 15,
    "start_time": "2025-01-06T16:25:14.318Z"
   },
   {
    "duration": 12,
    "start_time": "2025-01-06T16:25:14.334Z"
   },
   {
    "duration": 7,
    "start_time": "2025-01-06T16:25:14.348Z"
   },
   {
    "duration": 4,
    "start_time": "2025-01-06T16:25:14.358Z"
   },
   {
    "duration": 33,
    "start_time": "2025-01-06T16:25:14.364Z"
   },
   {
    "duration": 3,
    "start_time": "2025-01-06T16:25:14.399Z"
   },
   {
    "duration": 6,
    "start_time": "2025-01-06T16:25:14.403Z"
   },
   {
    "duration": 8,
    "start_time": "2025-01-06T16:25:14.411Z"
   },
   {
    "duration": 11,
    "start_time": "2025-01-06T16:25:14.421Z"
   },
   {
    "duration": 7,
    "start_time": "2025-01-06T16:25:14.434Z"
   },
   {
    "duration": 3,
    "start_time": "2025-01-06T16:25:14.443Z"
   },
   {
    "duration": 52,
    "start_time": "2025-01-06T16:25:14.448Z"
   },
   {
    "duration": 13,
    "start_time": "2025-01-06T16:25:14.502Z"
   },
   {
    "duration": 647,
    "start_time": "2025-01-06T16:25:14.517Z"
   },
   {
    "duration": 442,
    "start_time": "2025-01-06T16:25:15.165Z"
   },
   {
    "duration": 184,
    "start_time": "2025-01-06T16:25:15.609Z"
   },
   {
    "duration": 6,
    "start_time": "2025-01-06T16:25:15.795Z"
   },
   {
    "duration": 221,
    "start_time": "2025-01-06T16:25:15.803Z"
   },
   {
    "duration": 0,
    "start_time": "2025-01-06T16:25:16.026Z"
   },
   {
    "duration": 0,
    "start_time": "2025-01-06T16:25:16.027Z"
   },
   {
    "duration": 0,
    "start_time": "2025-01-06T16:25:16.029Z"
   },
   {
    "duration": 0,
    "start_time": "2025-01-06T16:25:16.030Z"
   },
   {
    "duration": 880,
    "start_time": "2025-01-06T20:56:05.194Z"
   },
   {
    "duration": 48,
    "start_time": "2025-01-06T20:56:06.077Z"
   },
   {
    "duration": 16,
    "start_time": "2025-01-06T20:56:06.129Z"
   },
   {
    "duration": 21,
    "start_time": "2025-01-06T20:56:06.148Z"
   },
   {
    "duration": 4,
    "start_time": "2025-01-06T20:56:06.171Z"
   },
   {
    "duration": 4,
    "start_time": "2025-01-06T20:56:06.177Z"
   },
   {
    "duration": 26,
    "start_time": "2025-01-06T20:56:06.191Z"
   },
   {
    "duration": 33,
    "start_time": "2025-01-06T20:56:06.235Z"
   },
   {
    "duration": 175,
    "start_time": "2025-01-06T20:56:06.270Z"
   },
   {
    "duration": 5,
    "start_time": "2025-01-06T20:56:06.450Z"
   },
   {
    "duration": 20,
    "start_time": "2025-01-06T20:56:06.457Z"
   },
   {
    "duration": 22,
    "start_time": "2025-01-06T20:56:06.490Z"
   },
   {
    "duration": 10,
    "start_time": "2025-01-06T20:56:06.517Z"
   },
   {
    "duration": 14,
    "start_time": "2025-01-06T20:56:06.529Z"
   },
   {
    "duration": 9,
    "start_time": "2025-01-06T20:56:06.546Z"
   },
   {
    "duration": 5,
    "start_time": "2025-01-06T20:56:06.557Z"
   },
   {
    "duration": 8,
    "start_time": "2025-01-06T20:56:06.563Z"
   },
   {
    "duration": 28,
    "start_time": "2025-01-06T20:56:06.573Z"
   },
   {
    "duration": 22,
    "start_time": "2025-01-06T20:56:06.603Z"
   },
   {
    "duration": 13,
    "start_time": "2025-01-06T20:56:06.628Z"
   },
   {
    "duration": 10,
    "start_time": "2025-01-06T20:56:06.643Z"
   },
   {
    "duration": 6,
    "start_time": "2025-01-06T20:56:06.655Z"
   },
   {
    "duration": 37,
    "start_time": "2025-01-06T20:56:06.664Z"
   },
   {
    "duration": 5,
    "start_time": "2025-01-06T20:56:06.703Z"
   },
   {
    "duration": 12,
    "start_time": "2025-01-06T20:56:06.710Z"
   },
   {
    "duration": 7,
    "start_time": "2025-01-06T20:56:06.723Z"
   },
   {
    "duration": 4,
    "start_time": "2025-01-06T20:56:06.732Z"
   },
   {
    "duration": 16,
    "start_time": "2025-01-06T20:56:06.740Z"
   },
   {
    "duration": 35,
    "start_time": "2025-01-06T20:56:06.758Z"
   },
   {
    "duration": 757,
    "start_time": "2025-01-06T20:56:06.796Z"
   },
   {
    "duration": 240,
    "start_time": "2025-01-06T20:56:07.555Z"
   },
   {
    "duration": 145,
    "start_time": "2025-01-06T20:56:07.796Z"
   },
   {
    "duration": 7,
    "start_time": "2025-01-06T20:56:07.943Z"
   },
   {
    "duration": 292,
    "start_time": "2025-01-06T20:56:07.952Z"
   },
   {
    "duration": 0,
    "start_time": "2025-01-06T20:56:08.246Z"
   },
   {
    "duration": 0,
    "start_time": "2025-01-06T20:56:08.247Z"
   },
   {
    "duration": 0,
    "start_time": "2025-01-06T20:56:08.248Z"
   },
   {
    "duration": 0,
    "start_time": "2025-01-06T20:56:08.249Z"
   },
   {
    "duration": 326,
    "start_time": "2025-01-06T20:59:13.791Z"
   },
   {
    "duration": 268,
    "start_time": "2025-01-06T20:59:17.345Z"
   },
   {
    "duration": 7,
    "start_time": "2025-01-06T21:16:37.519Z"
   },
   {
    "duration": 147,
    "start_time": "2025-01-06T21:17:15.365Z"
   },
   {
    "duration": 15,
    "start_time": "2025-01-06T23:29:06.410Z"
   },
   {
    "duration": 19,
    "start_time": "2025-01-06T23:36:11.416Z"
   },
   {
    "duration": 19,
    "start_time": "2025-01-06T23:36:19.996Z"
   },
   {
    "duration": 15,
    "start_time": "2025-01-06T23:39:47.210Z"
   },
   {
    "duration": 29,
    "start_time": "2025-01-06T23:40:06.461Z"
   },
   {
    "duration": 24,
    "start_time": "2025-01-06T23:40:21.403Z"
   },
   {
    "duration": 27,
    "start_time": "2025-01-06T23:40:31.046Z"
   },
   {
    "duration": 27,
    "start_time": "2025-01-06T23:40:35.663Z"
   },
   {
    "duration": 26,
    "start_time": "2025-01-06T23:40:40.692Z"
   },
   {
    "duration": 27,
    "start_time": "2025-01-06T23:41:20.795Z"
   },
   {
    "duration": 27,
    "start_time": "2025-01-06T23:41:25.321Z"
   },
   {
    "duration": 31,
    "start_time": "2025-01-06T23:41:31.122Z"
   },
   {
    "duration": 22,
    "start_time": "2025-01-06T23:41:54.238Z"
   },
   {
    "duration": 22,
    "start_time": "2025-01-06T23:42:05.452Z"
   },
   {
    "duration": 30,
    "start_time": "2025-01-06T23:42:12.789Z"
   },
   {
    "duration": 107,
    "start_time": "2025-01-06T23:47:05.158Z"
   },
   {
    "duration": 198,
    "start_time": "2025-01-06T23:53:36.695Z"
   },
   {
    "duration": 105,
    "start_time": "2025-01-06T23:54:45.523Z"
   },
   {
    "duration": 4,
    "start_time": "2025-01-06T23:56:05.287Z"
   },
   {
    "duration": 159,
    "start_time": "2025-01-07T17:02:05.382Z"
   },
   {
    "duration": 2652,
    "start_time": "2025-01-07T17:02:13.018Z"
   },
   {
    "duration": 33,
    "start_time": "2025-01-07T17:02:15.672Z"
   },
   {
    "duration": 12,
    "start_time": "2025-01-07T17:02:15.707Z"
   },
   {
    "duration": 16,
    "start_time": "2025-01-07T17:02:15.721Z"
   },
   {
    "duration": 2,
    "start_time": "2025-01-07T17:02:15.740Z"
   },
   {
    "duration": 4,
    "start_time": "2025-01-07T17:02:15.744Z"
   },
   {
    "duration": 13,
    "start_time": "2025-01-07T17:02:15.749Z"
   },
   {
    "duration": 28,
    "start_time": "2025-01-07T17:02:15.763Z"
   },
   {
    "duration": 157,
    "start_time": "2025-01-07T17:02:15.794Z"
   },
   {
    "duration": 3,
    "start_time": "2025-01-07T17:02:15.953Z"
   },
   {
    "duration": 11,
    "start_time": "2025-01-07T17:02:15.958Z"
   },
   {
    "duration": 6,
    "start_time": "2025-01-07T17:02:15.971Z"
   },
   {
    "duration": 13,
    "start_time": "2025-01-07T17:02:15.979Z"
   },
   {
    "duration": 11,
    "start_time": "2025-01-07T17:02:16.023Z"
   },
   {
    "duration": 3,
    "start_time": "2025-01-07T17:02:16.036Z"
   },
   {
    "duration": 6,
    "start_time": "2025-01-07T17:02:16.041Z"
   },
   {
    "duration": 11,
    "start_time": "2025-01-07T17:02:16.050Z"
   },
   {
    "duration": 13,
    "start_time": "2025-01-07T17:02:16.062Z"
   },
   {
    "duration": 12,
    "start_time": "2025-01-07T17:02:16.077Z"
   },
   {
    "duration": 40,
    "start_time": "2025-01-07T17:02:16.090Z"
   },
   {
    "duration": 5,
    "start_time": "2025-01-07T17:02:16.132Z"
   },
   {
    "duration": 3,
    "start_time": "2025-01-07T17:02:16.138Z"
   },
   {
    "duration": 8,
    "start_time": "2025-01-07T17:02:16.143Z"
   },
   {
    "duration": 8,
    "start_time": "2025-01-07T17:02:16.152Z"
   },
   {
    "duration": 3,
    "start_time": "2025-01-07T17:02:16.161Z"
   },
   {
    "duration": 6,
    "start_time": "2025-01-07T17:02:16.165Z"
   },
   {
    "duration": 5,
    "start_time": "2025-01-07T17:02:16.174Z"
   },
   {
    "duration": 57,
    "start_time": "2025-01-07T17:02:16.182Z"
   },
   {
    "duration": 176,
    "start_time": "2025-01-07T17:02:16.241Z"
   },
   {
    "duration": 124,
    "start_time": "2025-01-07T17:02:16.420Z"
   },
   {
    "duration": 119,
    "start_time": "2025-01-07T17:02:16.547Z"
   },
   {
    "duration": 6,
    "start_time": "2025-01-07T17:02:16.668Z"
   },
   {
    "duration": 29,
    "start_time": "2025-01-07T17:02:16.676Z"
   },
   {
    "duration": 127,
    "start_time": "2025-01-07T17:02:16.707Z"
   },
   {
    "duration": 146,
    "start_time": "2025-01-07T17:02:16.836Z"
   },
   {
    "duration": 304,
    "start_time": "2025-01-07T17:02:16.985Z"
   },
   {
    "duration": 278,
    "start_time": "2025-01-07T17:02:17.291Z"
   },
   {
    "duration": 145,
    "start_time": "2025-01-07T17:02:17.571Z"
   },
   {
    "duration": 10,
    "start_time": "2025-01-07T17:07:17.003Z"
   },
   {
    "duration": 566,
    "start_time": "2025-01-07T17:15:25.208Z"
   },
   {
    "duration": 18,
    "start_time": "2025-01-07T17:15:49.627Z"
   },
   {
    "duration": 48,
    "start_time": "2025-01-07T17:16:45.020Z"
   },
   {
    "duration": 8,
    "start_time": "2025-01-07T17:16:49.192Z"
   },
   {
    "duration": 45,
    "start_time": "2025-01-07T17:38:06.947Z"
   },
   {
    "duration": 43,
    "start_time": "2025-01-07T17:39:18.731Z"
   },
   {
    "duration": 14,
    "start_time": "2025-01-07T17:40:14.891Z"
   },
   {
    "duration": 41,
    "start_time": "2025-01-07T17:40:21.393Z"
   },
   {
    "duration": 14,
    "start_time": "2025-01-07T17:40:24.612Z"
   },
   {
    "duration": 43,
    "start_time": "2025-01-07T17:42:32.230Z"
   },
   {
    "duration": 12,
    "start_time": "2025-01-07T17:42:42.191Z"
   },
   {
    "duration": 10,
    "start_time": "2025-01-07T17:43:07.418Z"
   },
   {
    "duration": 675,
    "start_time": "2025-01-07T17:46:08.694Z"
   },
   {
    "duration": 776,
    "start_time": "2025-01-07T17:46:25.179Z"
   },
   {
    "duration": 4,
    "start_time": "2025-01-07T19:50:43.541Z"
   },
   {
    "duration": 4,
    "start_time": "2025-01-07T19:50:52.891Z"
   },
   {
    "duration": 769,
    "start_time": "2025-01-07T19:51:00.492Z"
   },
   {
    "duration": 28,
    "start_time": "2025-01-07T19:51:01.264Z"
   },
   {
    "duration": 13,
    "start_time": "2025-01-07T19:51:01.294Z"
   },
   {
    "duration": 22,
    "start_time": "2025-01-07T19:51:01.310Z"
   },
   {
    "duration": 2,
    "start_time": "2025-01-07T19:51:01.334Z"
   },
   {
    "duration": 4,
    "start_time": "2025-01-07T19:51:01.338Z"
   },
   {
    "duration": 10,
    "start_time": "2025-01-07T19:51:01.344Z"
   },
   {
    "duration": 26,
    "start_time": "2025-01-07T19:51:01.355Z"
   },
   {
    "duration": 154,
    "start_time": "2025-01-07T19:51:01.382Z"
   },
   {
    "duration": 3,
    "start_time": "2025-01-07T19:51:01.540Z"
   },
   {
    "duration": 11,
    "start_time": "2025-01-07T19:51:01.544Z"
   },
   {
    "duration": 6,
    "start_time": "2025-01-07T19:51:01.557Z"
   },
   {
    "duration": 12,
    "start_time": "2025-01-07T19:51:01.564Z"
   },
   {
    "duration": 10,
    "start_time": "2025-01-07T19:51:01.577Z"
   },
   {
    "duration": 3,
    "start_time": "2025-01-07T19:51:01.589Z"
   },
   {
    "duration": 33,
    "start_time": "2025-01-07T19:51:01.593Z"
   },
   {
    "duration": 6,
    "start_time": "2025-01-07T19:51:01.628Z"
   },
   {
    "duration": 11,
    "start_time": "2025-01-07T19:51:01.635Z"
   },
   {
    "duration": 13,
    "start_time": "2025-01-07T19:51:01.647Z"
   },
   {
    "duration": 11,
    "start_time": "2025-01-07T19:51:01.661Z"
   },
   {
    "duration": 6,
    "start_time": "2025-01-07T19:51:01.674Z"
   },
   {
    "duration": 42,
    "start_time": "2025-01-07T19:51:01.682Z"
   },
   {
    "duration": 3,
    "start_time": "2025-01-07T19:51:01.726Z"
   },
   {
    "duration": 9,
    "start_time": "2025-01-07T19:51:01.730Z"
   },
   {
    "duration": 17,
    "start_time": "2025-01-07T19:51:01.740Z"
   },
   {
    "duration": 3,
    "start_time": "2025-01-07T19:51:01.758Z"
   },
   {
    "duration": 5,
    "start_time": "2025-01-07T19:51:01.763Z"
   },
   {
    "duration": 6,
    "start_time": "2025-01-07T19:51:01.771Z"
   },
   {
    "duration": 796,
    "start_time": "2025-01-07T19:51:01.778Z"
   },
   {
    "duration": 164,
    "start_time": "2025-01-07T19:51:02.576Z"
   },
   {
    "duration": 120,
    "start_time": "2025-01-07T19:51:02.741Z"
   },
   {
    "duration": 115,
    "start_time": "2025-01-07T19:51:02.862Z"
   },
   {
    "duration": 6,
    "start_time": "2025-01-07T19:51:02.979Z"
   },
   {
    "duration": 9,
    "start_time": "2025-01-07T19:51:02.986Z"
   },
   {
    "duration": 127,
    "start_time": "2025-01-07T19:51:02.997Z"
   },
   {
    "duration": 143,
    "start_time": "2025-01-07T19:51:03.126Z"
   },
   {
    "duration": 254,
    "start_time": "2025-01-07T19:51:03.271Z"
   },
   {
    "duration": 278,
    "start_time": "2025-01-07T19:51:03.527Z"
   },
   {
    "duration": 146,
    "start_time": "2025-01-07T19:51:03.807Z"
   },
   {
    "duration": 5,
    "start_time": "2025-01-07T19:51:35.981Z"
   },
   {
    "duration": 8,
    "start_time": "2025-01-07T19:51:44.258Z"
   },
   {
    "duration": 5,
    "start_time": "2025-01-07T19:52:05.962Z"
   },
   {
    "duration": 4,
    "start_time": "2025-01-07T19:52:15.675Z"
   },
   {
    "duration": 4,
    "start_time": "2025-01-07T19:52:40.377Z"
   },
   {
    "duration": 14,
    "start_time": "2025-01-07T19:52:40.992Z"
   },
   {
    "duration": 6,
    "start_time": "2025-01-07T19:52:55.994Z"
   },
   {
    "duration": 3,
    "start_time": "2025-01-07T19:54:18.278Z"
   },
   {
    "duration": 8,
    "start_time": "2025-01-07T19:54:27.661Z"
   },
   {
    "duration": 209,
    "start_time": "2025-01-07T21:37:43.902Z"
   },
   {
    "duration": 2456,
    "start_time": "2025-01-07T21:37:53.093Z"
   },
   {
    "duration": 37,
    "start_time": "2025-01-07T21:37:55.551Z"
   },
   {
    "duration": 11,
    "start_time": "2025-01-07T21:37:55.590Z"
   },
   {
    "duration": 14,
    "start_time": "2025-01-07T21:37:55.604Z"
   },
   {
    "duration": 2,
    "start_time": "2025-01-07T21:37:55.622Z"
   },
   {
    "duration": 4,
    "start_time": "2025-01-07T21:37:55.626Z"
   },
   {
    "duration": 11,
    "start_time": "2025-01-07T21:37:55.632Z"
   },
   {
    "duration": 26,
    "start_time": "2025-01-07T21:37:55.644Z"
   },
   {
    "duration": 155,
    "start_time": "2025-01-07T21:37:55.672Z"
   },
   {
    "duration": 3,
    "start_time": "2025-01-07T21:37:55.829Z"
   },
   {
    "duration": 10,
    "start_time": "2025-01-07T21:37:55.834Z"
   },
   {
    "duration": 6,
    "start_time": "2025-01-07T21:37:55.846Z"
   },
   {
    "duration": 13,
    "start_time": "2025-01-07T21:37:55.853Z"
   },
   {
    "duration": 9,
    "start_time": "2025-01-07T21:37:55.871Z"
   },
   {
    "duration": 3,
    "start_time": "2025-01-07T21:37:55.910Z"
   },
   {
    "duration": 4,
    "start_time": "2025-01-07T21:37:55.915Z"
   },
   {
    "duration": 7,
    "start_time": "2025-01-07T21:37:55.920Z"
   },
   {
    "duration": 11,
    "start_time": "2025-01-07T21:37:55.929Z"
   },
   {
    "duration": 13,
    "start_time": "2025-01-07T21:37:55.941Z"
   },
   {
    "duration": 11,
    "start_time": "2025-01-07T21:37:55.956Z"
   },
   {
    "duration": 43,
    "start_time": "2025-01-07T21:37:55.969Z"
   },
   {
    "duration": 5,
    "start_time": "2025-01-07T21:37:56.014Z"
   },
   {
    "duration": 3,
    "start_time": "2025-01-07T21:37:56.020Z"
   },
   {
    "duration": 8,
    "start_time": "2025-01-07T21:37:56.025Z"
   },
   {
    "duration": 7,
    "start_time": "2025-01-07T21:37:56.036Z"
   },
   {
    "duration": 4,
    "start_time": "2025-01-07T21:37:56.044Z"
   },
   {
    "duration": 5,
    "start_time": "2025-01-07T21:37:56.049Z"
   },
   {
    "duration": 5,
    "start_time": "2025-01-07T21:37:56.055Z"
   },
   {
    "duration": 772,
    "start_time": "2025-01-07T21:37:56.062Z"
   },
   {
    "duration": 168,
    "start_time": "2025-01-07T21:37:56.835Z"
   },
   {
    "duration": 121,
    "start_time": "2025-01-07T21:37:57.005Z"
   },
   {
    "duration": 127,
    "start_time": "2025-01-07T21:37:57.128Z"
   },
   {
    "duration": 6,
    "start_time": "2025-01-07T21:37:57.257Z"
   },
   {
    "duration": 12,
    "start_time": "2025-01-07T21:37:57.264Z"
   },
   {
    "duration": 141,
    "start_time": "2025-01-07T21:37:57.279Z"
   },
   {
    "duration": 141,
    "start_time": "2025-01-07T21:37:57.421Z"
   },
   {
    "duration": 311,
    "start_time": "2025-01-07T21:37:57.564Z"
   },
   {
    "duration": 271,
    "start_time": "2025-01-07T21:37:57.877Z"
   },
   {
    "duration": 146,
    "start_time": "2025-01-07T21:37:58.150Z"
   },
   {
    "duration": 13,
    "start_time": "2025-01-07T21:37:58.298Z"
   },
   {
    "duration": 8,
    "start_time": "2025-01-07T21:38:30.418Z"
   },
   {
    "duration": 8,
    "start_time": "2025-01-07T21:44:25.633Z"
   },
   {
    "duration": 8,
    "start_time": "2025-01-07T21:45:21.275Z"
   },
   {
    "duration": 495,
    "start_time": "2025-01-07T22:02:13.953Z"
   },
   {
    "duration": 514,
    "start_time": "2025-01-07T22:02:38.433Z"
   },
   {
    "duration": 575,
    "start_time": "2025-01-07T22:02:48.807Z"
   },
   {
    "duration": 451,
    "start_time": "2025-01-07T22:03:00.398Z"
   },
   {
    "duration": 459,
    "start_time": "2025-01-07T22:03:09.237Z"
   },
   {
    "duration": 13,
    "start_time": "2025-01-07T22:57:34.967Z"
   },
   {
    "duration": 125,
    "start_time": "2025-01-07T22:59:15.970Z"
   },
   {
    "duration": 14,
    "start_time": "2025-01-07T22:59:37.630Z"
   },
   {
    "duration": 871,
    "start_time": "2025-01-07T22:59:49.120Z"
   },
   {
    "duration": 36,
    "start_time": "2025-01-07T22:59:49.993Z"
   },
   {
    "duration": 12,
    "start_time": "2025-01-07T22:59:50.031Z"
   },
   {
    "duration": 15,
    "start_time": "2025-01-07T22:59:50.044Z"
   },
   {
    "duration": 3,
    "start_time": "2025-01-07T22:59:50.062Z"
   },
   {
    "duration": 5,
    "start_time": "2025-01-07T22:59:50.066Z"
   },
   {
    "duration": 37,
    "start_time": "2025-01-07T22:59:50.072Z"
   },
   {
    "duration": 25,
    "start_time": "2025-01-07T22:59:50.111Z"
   },
   {
    "duration": 133,
    "start_time": "2025-01-07T22:59:50.137Z"
   },
   {
    "duration": 3,
    "start_time": "2025-01-07T22:59:50.272Z"
   },
   {
    "duration": 132,
    "start_time": "2025-01-07T22:59:50.277Z"
   },
   {
    "duration": 0,
    "start_time": "2025-01-07T22:59:50.412Z"
   },
   {
    "duration": 0,
    "start_time": "2025-01-07T22:59:50.413Z"
   },
   {
    "duration": 0,
    "start_time": "2025-01-07T22:59:50.415Z"
   },
   {
    "duration": 0,
    "start_time": "2025-01-07T22:59:50.416Z"
   },
   {
    "duration": 0,
    "start_time": "2025-01-07T22:59:50.417Z"
   },
   {
    "duration": 0,
    "start_time": "2025-01-07T22:59:50.418Z"
   },
   {
    "duration": 0,
    "start_time": "2025-01-07T22:59:50.419Z"
   },
   {
    "duration": 0,
    "start_time": "2025-01-07T22:59:50.420Z"
   },
   {
    "duration": 0,
    "start_time": "2025-01-07T22:59:50.422Z"
   },
   {
    "duration": 0,
    "start_time": "2025-01-07T22:59:50.423Z"
   },
   {
    "duration": 0,
    "start_time": "2025-01-07T22:59:50.424Z"
   },
   {
    "duration": 0,
    "start_time": "2025-01-07T22:59:50.425Z"
   },
   {
    "duration": 0,
    "start_time": "2025-01-07T22:59:50.426Z"
   },
   {
    "duration": 0,
    "start_time": "2025-01-07T22:59:50.427Z"
   },
   {
    "duration": 0,
    "start_time": "2025-01-07T22:59:50.429Z"
   },
   {
    "duration": 0,
    "start_time": "2025-01-07T22:59:50.430Z"
   },
   {
    "duration": 0,
    "start_time": "2025-01-07T22:59:50.431Z"
   },
   {
    "duration": 0,
    "start_time": "2025-01-07T22:59:50.432Z"
   },
   {
    "duration": 0,
    "start_time": "2025-01-07T22:59:50.433Z"
   },
   {
    "duration": 0,
    "start_time": "2025-01-07T22:59:50.434Z"
   },
   {
    "duration": 0,
    "start_time": "2025-01-07T22:59:50.436Z"
   },
   {
    "duration": 0,
    "start_time": "2025-01-07T22:59:50.437Z"
   },
   {
    "duration": 0,
    "start_time": "2025-01-07T22:59:50.438Z"
   },
   {
    "duration": 0,
    "start_time": "2025-01-07T22:59:50.440Z"
   },
   {
    "duration": 0,
    "start_time": "2025-01-07T22:59:50.441Z"
   },
   {
    "duration": 0,
    "start_time": "2025-01-07T22:59:50.443Z"
   },
   {
    "duration": 0,
    "start_time": "2025-01-07T22:59:50.444Z"
   },
   {
    "duration": 0,
    "start_time": "2025-01-07T22:59:50.446Z"
   },
   {
    "duration": 0,
    "start_time": "2025-01-07T22:59:50.448Z"
   },
   {
    "duration": 0,
    "start_time": "2025-01-07T22:59:50.509Z"
   },
   {
    "duration": 439,
    "start_time": "2025-01-07T23:00:41.575Z"
   },
   {
    "duration": 133,
    "start_time": "2025-01-07T23:01:03.011Z"
   },
   {
    "duration": 3,
    "start_time": "2025-01-07T23:01:08.795Z"
   },
   {
    "duration": 13,
    "start_time": "2025-01-07T23:01:16.657Z"
   },
   {
    "duration": 15,
    "start_time": "2025-01-07T23:01:17.905Z"
   },
   {
    "duration": 13,
    "start_time": "2025-01-07T23:01:25.602Z"
   },
   {
    "duration": 3,
    "start_time": "2025-01-07T23:01:30.476Z"
   },
   {
    "duration": 3,
    "start_time": "2025-01-07T23:01:31.707Z"
   },
   {
    "duration": 8,
    "start_time": "2025-01-07T23:01:32.330Z"
   },
   {
    "duration": 12,
    "start_time": "2025-01-07T23:01:33.387Z"
   },
   {
    "duration": 14,
    "start_time": "2025-01-07T23:01:34.122Z"
   },
   {
    "duration": 13,
    "start_time": "2025-01-07T23:01:34.772Z"
   },
   {
    "duration": 9,
    "start_time": "2025-01-07T23:01:35.353Z"
   },
   {
    "duration": 5,
    "start_time": "2025-01-07T23:01:36.866Z"
   },
   {
    "duration": 3,
    "start_time": "2025-01-07T23:01:38.412Z"
   },
   {
    "duration": 10,
    "start_time": "2025-01-07T23:01:39.052Z"
   },
   {
    "duration": 7,
    "start_time": "2025-01-07T23:01:40.365Z"
   },
   {
    "duration": 4,
    "start_time": "2025-01-07T23:01:42.312Z"
   },
   {
    "duration": 5,
    "start_time": "2025-01-07T23:01:43.314Z"
   },
   {
    "duration": 14,
    "start_time": "2025-01-07T23:01:44.033Z"
   },
   {
    "duration": 516,
    "start_time": "2025-01-07T23:01:49.043Z"
   },
   {
    "duration": 230,
    "start_time": "2025-01-07T23:01:50.970Z"
   },
   {
    "duration": 113,
    "start_time": "2025-01-07T23:01:53.531Z"
   },
   {
    "duration": 104,
    "start_time": "2025-01-07T23:01:54.626Z"
   },
   {
    "duration": 7,
    "start_time": "2025-01-07T23:01:55.468Z"
   },
   {
    "duration": 10,
    "start_time": "2025-01-07T23:01:56.403Z"
   },
   {
    "duration": 121,
    "start_time": "2025-01-07T23:01:57.143Z"
   },
   {
    "duration": 130,
    "start_time": "2025-01-07T23:02:03.374Z"
   },
   {
    "duration": 231,
    "start_time": "2025-01-07T23:02:08.791Z"
   },
   {
    "duration": 259,
    "start_time": "2025-01-07T23:02:14.929Z"
   },
   {
    "duration": 135,
    "start_time": "2025-01-07T23:02:19.605Z"
   },
   {
    "duration": 8,
    "start_time": "2025-01-07T23:02:22.834Z"
   },
   {
    "duration": 8,
    "start_time": "2025-01-07T23:02:24.829Z"
   },
   {
    "duration": 19,
    "start_time": "2025-01-07T23:03:03.818Z"
   },
   {
    "duration": 13,
    "start_time": "2025-01-07T23:03:14.636Z"
   },
   {
    "duration": 15,
    "start_time": "2025-01-07T23:04:18.746Z"
   },
   {
    "duration": 16,
    "start_time": "2025-01-07T23:05:04.853Z"
   },
   {
    "duration": 8,
    "start_time": "2025-01-07T23:05:13.526Z"
   },
   {
    "duration": 14,
    "start_time": "2025-01-07T23:05:26.838Z"
   },
   {
    "duration": 14,
    "start_time": "2025-01-07T23:05:33.685Z"
   },
   {
    "duration": 180,
    "start_time": "2025-01-08T18:55:59.146Z"
   },
   {
    "duration": 2570,
    "start_time": "2025-01-08T18:56:08.409Z"
   },
   {
    "duration": 34,
    "start_time": "2025-01-08T18:56:10.982Z"
   },
   {
    "duration": 11,
    "start_time": "2025-01-08T18:56:11.018Z"
   },
   {
    "duration": 20,
    "start_time": "2025-01-08T18:56:11.030Z"
   },
   {
    "duration": 2,
    "start_time": "2025-01-08T18:56:11.054Z"
   },
   {
    "duration": 3,
    "start_time": "2025-01-08T18:56:11.058Z"
   },
   {
    "duration": 10,
    "start_time": "2025-01-08T18:56:11.063Z"
   },
   {
    "duration": 25,
    "start_time": "2025-01-08T18:56:11.074Z"
   },
   {
    "duration": 155,
    "start_time": "2025-01-08T18:56:11.100Z"
   },
   {
    "duration": 4,
    "start_time": "2025-01-08T18:56:11.256Z"
   },
   {
    "duration": 7,
    "start_time": "2025-01-08T18:56:11.262Z"
   },
   {
    "duration": 15,
    "start_time": "2025-01-08T18:56:11.270Z"
   },
   {
    "duration": 14,
    "start_time": "2025-01-08T18:56:11.287Z"
   },
   {
    "duration": 39,
    "start_time": "2025-01-08T18:56:11.305Z"
   },
   {
    "duration": 5,
    "start_time": "2025-01-08T18:56:11.345Z"
   },
   {
    "duration": 4,
    "start_time": "2025-01-08T18:56:11.351Z"
   },
   {
    "duration": 8,
    "start_time": "2025-01-08T18:56:11.356Z"
   },
   {
    "duration": 11,
    "start_time": "2025-01-08T18:56:11.366Z"
   },
   {
    "duration": 13,
    "start_time": "2025-01-08T18:56:11.380Z"
   },
   {
    "duration": 12,
    "start_time": "2025-01-08T18:56:11.395Z"
   },
   {
    "duration": 42,
    "start_time": "2025-01-08T18:56:11.408Z"
   },
   {
    "duration": 5,
    "start_time": "2025-01-08T18:56:11.451Z"
   },
   {
    "duration": 3,
    "start_time": "2025-01-08T18:56:11.458Z"
   },
   {
    "duration": 9,
    "start_time": "2025-01-08T18:56:11.463Z"
   },
   {
    "duration": 6,
    "start_time": "2025-01-08T18:56:11.473Z"
   },
   {
    "duration": 3,
    "start_time": "2025-01-08T18:56:11.480Z"
   },
   {
    "duration": 4,
    "start_time": "2025-01-08T18:56:11.485Z"
   },
   {
    "duration": 12,
    "start_time": "2025-01-08T18:56:11.490Z"
   },
   {
    "duration": 489,
    "start_time": "2025-01-08T18:56:11.543Z"
   },
   {
    "duration": 159,
    "start_time": "2025-01-08T18:56:12.034Z"
   },
   {
    "duration": 125,
    "start_time": "2025-01-08T18:56:12.195Z"
   },
   {
    "duration": 111,
    "start_time": "2025-01-08T18:56:12.322Z"
   },
   {
    "duration": 13,
    "start_time": "2025-01-08T18:56:12.435Z"
   },
   {
    "duration": 10,
    "start_time": "2025-01-08T18:56:12.449Z"
   },
   {
    "duration": 126,
    "start_time": "2025-01-08T18:56:12.461Z"
   },
   {
    "duration": 137,
    "start_time": "2025-01-08T18:56:12.588Z"
   },
   {
    "duration": 300,
    "start_time": "2025-01-08T18:56:12.727Z"
   },
   {
    "duration": 263,
    "start_time": "2025-01-08T18:56:13.029Z"
   },
   {
    "duration": 7,
    "start_time": "2025-01-08T18:58:51.195Z"
   },
   {
    "duration": 7,
    "start_time": "2025-01-08T18:58:51.206Z"
   },
   {
    "duration": 158566,
    "start_time": "2025-01-08T19:10:12.966Z"
   },
   {
    "duration": 9,
    "start_time": "2025-01-08T19:14:49.835Z"
   },
   {
    "duration": 10,
    "start_time": "2025-01-08T19:15:49.394Z"
   },
   {
    "duration": 148,
    "start_time": "2025-01-08T19:16:03.679Z"
   },
   {
    "duration": 510,
    "start_time": "2025-01-08T19:18:13.130Z"
   },
   {
    "duration": 141,
    "start_time": "2025-01-08T19:19:02.395Z"
   },
   {
    "duration": 153,
    "start_time": "2025-01-08T19:20:35.215Z"
   },
   {
    "duration": 4,
    "start_time": "2025-01-08T19:20:54.616Z"
   },
   {
    "duration": 6,
    "start_time": "2025-01-08T19:21:01.929Z"
   },
   {
    "duration": 155,
    "start_time": "2025-01-08T19:21:08.730Z"
   },
   {
    "duration": 149,
    "start_time": "2025-01-08T19:21:50.274Z"
   },
   {
    "duration": 150,
    "start_time": "2025-01-08T19:22:16.738Z"
   },
   {
    "duration": 464,
    "start_time": "2025-01-08T19:22:49.542Z"
   },
   {
    "duration": 155,
    "start_time": "2025-01-08T19:23:00.706Z"
   },
   {
    "duration": 156,
    "start_time": "2025-01-08T19:24:03.370Z"
   },
   {
    "duration": 262,
    "start_time": "2025-01-08T19:31:12.330Z"
   },
   {
    "duration": 227,
    "start_time": "2025-01-08T19:31:57.487Z"
   },
   {
    "duration": 127,
    "start_time": "2025-01-08T19:33:17.874Z"
   },
   {
    "duration": 132,
    "start_time": "2025-01-08T19:33:32.598Z"
   },
   {
    "duration": 159,
    "start_time": "2025-01-08T19:34:02.171Z"
   },
   {
    "duration": 128,
    "start_time": "2025-01-08T20:03:28.990Z"
   },
   {
    "duration": 141,
    "start_time": "2025-01-08T20:04:04.619Z"
   },
   {
    "duration": 103,
    "start_time": "2025-01-08T20:04:42.547Z"
   },
   {
    "duration": 110,
    "start_time": "2025-01-08T20:09:36.519Z"
   },
   {
    "duration": 108,
    "start_time": "2025-01-08T20:10:31.605Z"
   },
   {
    "duration": 127,
    "start_time": "2025-01-08T20:11:31.364Z"
   },
   {
    "duration": 120,
    "start_time": "2025-01-08T20:12:06.132Z"
   },
   {
    "duration": 137,
    "start_time": "2025-01-08T20:14:00.771Z"
   },
   {
    "duration": 133,
    "start_time": "2025-01-08T20:14:13.909Z"
   },
   {
    "duration": 137,
    "start_time": "2025-01-08T20:14:34.499Z"
   },
   {
    "duration": 111,
    "start_time": "2025-01-08T20:15:56.976Z"
   },
   {
    "duration": 118,
    "start_time": "2025-01-08T20:17:20.797Z"
   },
   {
    "duration": 112,
    "start_time": "2025-01-08T20:17:38.099Z"
   },
   {
    "duration": 124,
    "start_time": "2025-01-08T20:17:43.961Z"
   },
   {
    "duration": 6,
    "start_time": "2025-01-08T20:18:10.534Z"
   },
   {
    "duration": 162,
    "start_time": "2025-01-08T20:19:22.265Z"
   },
   {
    "duration": 146,
    "start_time": "2025-01-08T20:19:45.883Z"
   },
   {
    "duration": 4,
    "start_time": "2025-01-08T20:21:04.312Z"
   },
   {
    "duration": 336,
    "start_time": "2025-01-08T20:21:14.150Z"
   },
   {
    "duration": 84,
    "start_time": "2025-01-08T20:21:28.419Z"
   },
   {
    "duration": 91,
    "start_time": "2025-01-08T20:21:38.178Z"
   },
   {
    "duration": 156,
    "start_time": "2025-01-08T20:21:49.849Z"
   },
   {
    "duration": 147,
    "start_time": "2025-01-08T20:22:02.455Z"
   },
   {
    "duration": 6,
    "start_time": "2025-01-08T20:23:34.910Z"
   },
   {
    "duration": 7,
    "start_time": "2025-01-08T20:24:05.285Z"
   },
   {
    "duration": 6,
    "start_time": "2025-01-08T20:24:12.068Z"
   },
   {
    "duration": 8,
    "start_time": "2025-01-08T20:24:28.235Z"
   },
   {
    "duration": 6,
    "start_time": "2025-01-08T20:24:48.261Z"
   },
   {
    "duration": 7,
    "start_time": "2025-01-08T20:24:57.094Z"
   },
   {
    "duration": 9,
    "start_time": "2025-01-08T23:28:23.488Z"
   },
   {
    "duration": 83,
    "start_time": "2025-01-08T23:28:33.541Z"
   },
   {
    "duration": 11,
    "start_time": "2025-01-08T23:29:01.234Z"
   },
   {
    "duration": 89,
    "start_time": "2025-01-08T23:29:06.326Z"
   },
   {
    "duration": 49,
    "start_time": "2025-01-08T23:29:27.684Z"
   },
   {
    "duration": 13,
    "start_time": "2025-01-08T23:29:47.649Z"
   },
   {
    "duration": 99,
    "start_time": "2025-01-08T23:29:53.718Z"
   },
   {
    "duration": 97,
    "start_time": "2025-01-08T23:30:05.018Z"
   },
   {
    "duration": 4,
    "start_time": "2025-01-08T23:48:06.642Z"
   },
   {
    "duration": 16,
    "start_time": "2025-01-09T00:19:27.073Z"
   },
   {
    "duration": 162,
    "start_time": "2025-01-09T19:33:12.134Z"
   },
   {
    "duration": 2608,
    "start_time": "2025-01-09T19:33:19.624Z"
   },
   {
    "duration": 36,
    "start_time": "2025-01-09T19:33:22.234Z"
   },
   {
    "duration": 11,
    "start_time": "2025-01-09T19:33:22.271Z"
   },
   {
    "duration": 14,
    "start_time": "2025-01-09T19:33:22.284Z"
   },
   {
    "duration": 3,
    "start_time": "2025-01-09T19:33:22.305Z"
   },
   {
    "duration": 5,
    "start_time": "2025-01-09T19:33:22.310Z"
   },
   {
    "duration": 12,
    "start_time": "2025-01-09T19:33:22.317Z"
   },
   {
    "duration": 27,
    "start_time": "2025-01-09T19:33:22.331Z"
   },
   {
    "duration": 164,
    "start_time": "2025-01-09T19:33:22.359Z"
   },
   {
    "duration": 3,
    "start_time": "2025-01-09T19:33:22.525Z"
   },
   {
    "duration": 7,
    "start_time": "2025-01-09T19:33:22.530Z"
   },
   {
    "duration": 13,
    "start_time": "2025-01-09T19:33:22.539Z"
   },
   {
    "duration": 11,
    "start_time": "2025-01-09T19:33:22.554Z"
   },
   {
    "duration": 37,
    "start_time": "2025-01-09T19:33:22.570Z"
   },
   {
    "duration": 4,
    "start_time": "2025-01-09T19:33:22.609Z"
   },
   {
    "duration": 3,
    "start_time": "2025-01-09T19:33:22.615Z"
   },
   {
    "duration": 6,
    "start_time": "2025-01-09T19:33:22.620Z"
   },
   {
    "duration": 13,
    "start_time": "2025-01-09T19:33:22.628Z"
   },
   {
    "duration": 14,
    "start_time": "2025-01-09T19:33:22.643Z"
   },
   {
    "duration": 14,
    "start_time": "2025-01-09T19:33:22.660Z"
   },
   {
    "duration": 9,
    "start_time": "2025-01-09T19:33:22.705Z"
   },
   {
    "duration": 6,
    "start_time": "2025-01-09T19:33:22.716Z"
   },
   {
    "duration": 3,
    "start_time": "2025-01-09T19:33:22.723Z"
   },
   {
    "duration": 10,
    "start_time": "2025-01-09T19:33:22.728Z"
   },
   {
    "duration": 137,
    "start_time": "2025-01-09T19:33:22.740Z"
   },
   {
    "duration": 7,
    "start_time": "2025-01-09T19:33:22.879Z"
   },
   {
    "duration": 3,
    "start_time": "2025-01-09T19:33:22.888Z"
   },
   {
    "duration": 5,
    "start_time": "2025-01-09T19:33:22.905Z"
   },
   {
    "duration": 14,
    "start_time": "2025-01-09T19:33:22.912Z"
   },
   {
    "duration": 554,
    "start_time": "2025-01-09T19:33:22.928Z"
   },
   {
    "duration": 211,
    "start_time": "2025-01-09T19:33:23.484Z"
   },
   {
    "duration": 136,
    "start_time": "2025-01-09T19:33:23.696Z"
   },
   {
    "duration": 125,
    "start_time": "2025-01-09T19:33:23.834Z"
   },
   {
    "duration": 7,
    "start_time": "2025-01-09T19:33:23.961Z"
   },
   {
    "duration": 10,
    "start_time": "2025-01-09T19:33:23.969Z"
   },
   {
    "duration": 135,
    "start_time": "2025-01-09T19:33:23.981Z"
   },
   {
    "duration": 128,
    "start_time": "2025-01-09T19:33:24.118Z"
   },
   {
    "duration": 6,
    "start_time": "2025-01-09T19:33:24.248Z"
   },
   {
    "duration": 152,
    "start_time": "2025-01-09T19:33:24.255Z"
   },
   {
    "duration": 242,
    "start_time": "2025-01-09T19:33:24.409Z"
   },
   {
    "duration": 269,
    "start_time": "2025-01-09T19:33:24.655Z"
   },
   {
    "duration": 175,
    "start_time": "2025-01-09T19:33:24.926Z"
   },
   {
    "duration": 9,
    "start_time": "2025-01-09T19:33:25.102Z"
   },
   {
    "duration": 8,
    "start_time": "2025-01-09T19:33:25.113Z"
   },
   {
    "duration": 160,
    "start_time": "2025-01-09T19:33:44.118Z"
   },
   {
    "duration": 84,
    "start_time": "2025-01-09T19:33:50.364Z"
   },
   {
    "duration": 89,
    "start_time": "2025-01-09T19:34:21.998Z"
   },
   {
    "duration": 90,
    "start_time": "2025-01-09T19:34:51.118Z"
   },
   {
    "duration": 13,
    "start_time": "2025-01-09T23:16:05.499Z"
   },
   {
    "duration": 123,
    "start_time": "2025-01-09T23:18:52.441Z"
   },
   {
    "duration": 10,
    "start_time": "2025-01-09T23:19:12.603Z"
   },
   {
    "duration": 116,
    "start_time": "2025-01-09T23:19:13.204Z"
   },
   {
    "duration": 145,
    "start_time": "2025-01-09T23:19:39.905Z"
   },
   {
    "duration": 173,
    "start_time": "2025-01-09T23:19:56.219Z"
   },
   {
    "duration": 194,
    "start_time": "2025-01-09T23:23:30.955Z"
   },
   {
    "duration": 7,
    "start_time": "2025-01-09T23:38:18.713Z"
   },
   {
    "duration": 7,
    "start_time": "2025-01-09T23:39:29.972Z"
   },
   {
    "duration": 6,
    "start_time": "2025-01-09T23:39:36.578Z"
   },
   {
    "duration": 109,
    "start_time": "2025-01-10T00:36:32.880Z"
   },
   {
    "duration": 2639,
    "start_time": "2025-01-10T15:55:42.579Z"
   },
   {
    "duration": 34,
    "start_time": "2025-01-10T15:55:45.220Z"
   },
   {
    "duration": 13,
    "start_time": "2025-01-10T15:55:45.255Z"
   },
   {
    "duration": 13,
    "start_time": "2025-01-10T15:55:45.271Z"
   },
   {
    "duration": 3,
    "start_time": "2025-01-10T15:55:45.287Z"
   },
   {
    "duration": 17,
    "start_time": "2025-01-10T15:55:45.292Z"
   },
   {
    "duration": 10,
    "start_time": "2025-01-10T15:55:45.311Z"
   },
   {
    "duration": 26,
    "start_time": "2025-01-10T15:55:45.323Z"
   },
   {
    "duration": 153,
    "start_time": "2025-01-10T15:55:45.350Z"
   },
   {
    "duration": 7,
    "start_time": "2025-01-10T15:55:45.504Z"
   },
   {
    "duration": 6,
    "start_time": "2025-01-10T15:55:45.513Z"
   },
   {
    "duration": 13,
    "start_time": "2025-01-10T15:55:45.521Z"
   },
   {
    "duration": 13,
    "start_time": "2025-01-10T15:55:45.536Z"
   },
   {
    "duration": 9,
    "start_time": "2025-01-10T15:55:45.553Z"
   },
   {
    "duration": 3,
    "start_time": "2025-01-10T15:55:45.564Z"
   },
   {
    "duration": 4,
    "start_time": "2025-01-10T15:55:45.570Z"
   },
   {
    "duration": 7,
    "start_time": "2025-01-10T15:55:45.608Z"
   },
   {
    "duration": 11,
    "start_time": "2025-01-10T15:55:45.617Z"
   },
   {
    "duration": 13,
    "start_time": "2025-01-10T15:55:45.629Z"
   },
   {
    "duration": 11,
    "start_time": "2025-01-10T15:55:45.643Z"
   },
   {
    "duration": 7,
    "start_time": "2025-01-10T15:55:45.656Z"
   },
   {
    "duration": 5,
    "start_time": "2025-01-10T15:55:45.664Z"
   },
   {
    "duration": 39,
    "start_time": "2025-01-10T15:55:45.671Z"
   },
   {
    "duration": 11,
    "start_time": "2025-01-10T15:55:45.711Z"
   },
   {
    "duration": 118,
    "start_time": "2025-01-10T15:55:45.723Z"
   },
   {
    "duration": 7,
    "start_time": "2025-01-10T15:55:45.843Z"
   },
   {
    "duration": 3,
    "start_time": "2025-01-10T15:55:45.852Z"
   },
   {
    "duration": 5,
    "start_time": "2025-01-10T15:55:45.857Z"
   },
   {
    "duration": 13,
    "start_time": "2025-01-10T15:55:45.864Z"
   },
   {
    "duration": 523,
    "start_time": "2025-01-10T15:55:45.878Z"
   },
   {
    "duration": 153,
    "start_time": "2025-01-10T15:55:46.409Z"
   },
   {
    "duration": 187,
    "start_time": "2025-01-10T15:55:46.564Z"
   },
   {
    "duration": 121,
    "start_time": "2025-01-10T15:55:46.753Z"
   },
   {
    "duration": 7,
    "start_time": "2025-01-10T15:55:46.876Z"
   },
   {
    "duration": 26,
    "start_time": "2025-01-10T15:55:46.885Z"
   },
   {
    "duration": 121,
    "start_time": "2025-01-10T15:55:46.912Z"
   },
   {
    "duration": 121,
    "start_time": "2025-01-10T15:55:47.035Z"
   },
   {
    "duration": 6,
    "start_time": "2025-01-10T15:55:47.158Z"
   },
   {
    "duration": 263,
    "start_time": "2025-01-10T15:55:47.166Z"
   },
   {
    "duration": 0,
    "start_time": "2025-01-10T15:55:47.431Z"
   },
   {
    "duration": 0,
    "start_time": "2025-01-10T15:55:47.432Z"
   },
   {
    "duration": 0,
    "start_time": "2025-01-10T15:55:47.434Z"
   },
   {
    "duration": 0,
    "start_time": "2025-01-10T15:55:47.435Z"
   },
   {
    "duration": 0,
    "start_time": "2025-01-10T15:55:47.436Z"
   },
   {
    "duration": 0,
    "start_time": "2025-01-10T15:55:47.438Z"
   },
   {
    "duration": 1,
    "start_time": "2025-01-10T15:55:47.439Z"
   },
   {
    "duration": 0,
    "start_time": "2025-01-10T15:55:47.441Z"
   },
   {
    "duration": 0,
    "start_time": "2025-01-10T15:55:47.443Z"
   },
   {
    "duration": 0,
    "start_time": "2025-01-10T15:55:47.444Z"
   },
   {
    "duration": 10,
    "start_time": "2025-01-10T15:56:04.559Z"
   },
   {
    "duration": 13,
    "start_time": "2025-01-10T15:56:08.556Z"
   },
   {
    "duration": 15,
    "start_time": "2025-01-10T15:56:10.063Z"
   },
   {
    "duration": 110,
    "start_time": "2025-01-10T15:56:36.738Z"
   },
   {
    "duration": 10,
    "start_time": "2025-01-10T15:56:39.790Z"
   },
   {
    "duration": 116,
    "start_time": "2025-01-10T15:56:44.412Z"
   },
   {
    "duration": 15,
    "start_time": "2025-01-10T15:56:52.129Z"
   },
   {
    "duration": 114,
    "start_time": "2025-01-10T15:57:16.388Z"
   },
   {
    "duration": 7,
    "start_time": "2025-01-10T15:57:22.840Z"
   },
   {
    "duration": 169,
    "start_time": "2025-01-10T15:57:40.943Z"
   },
   {
    "duration": 7,
    "start_time": "2025-01-10T15:57:47.041Z"
   },
   {
    "duration": 7,
    "start_time": "2025-01-10T16:03:54.411Z"
   },
   {
    "duration": 112,
    "start_time": "2025-01-10T16:04:03.578Z"
   },
   {
    "duration": 8,
    "start_time": "2025-01-10T16:04:06.393Z"
   },
   {
    "duration": 123,
    "start_time": "2025-01-10T16:04:11.109Z"
   },
   {
    "duration": 110,
    "start_time": "2025-01-10T16:04:13.420Z"
   },
   {
    "duration": 7,
    "start_time": "2025-01-10T16:04:16.595Z"
   },
   {
    "duration": 256,
    "start_time": "2025-01-10T16:04:26.974Z"
   },
   {
    "duration": 228,
    "start_time": "2025-01-10T16:05:18.788Z"
   },
   {
    "duration": 132,
    "start_time": "2025-01-10T16:05:33.712Z"
   },
   {
    "duration": 256,
    "start_time": "2025-01-10T16:05:42.789Z"
   },
   {
    "duration": 248,
    "start_time": "2025-01-10T16:05:50.577Z"
   },
   {
    "duration": 277,
    "start_time": "2025-01-10T16:05:57.135Z"
   },
   {
    "duration": 331,
    "start_time": "2025-01-10T16:06:28.806Z"
   },
   {
    "duration": 155,
    "start_time": "2025-01-10T16:06:35.831Z"
   },
   {
    "duration": 178,
    "start_time": "2025-01-11T01:02:28.620Z"
   },
   {
    "duration": 3739,
    "start_time": "2025-01-11T01:02:42.638Z"
   },
   {
    "duration": 56,
    "start_time": "2025-01-11T01:02:46.381Z"
   },
   {
    "duration": 20,
    "start_time": "2025-01-11T01:02:46.439Z"
   },
   {
    "duration": 22,
    "start_time": "2025-01-11T01:02:46.461Z"
   },
   {
    "duration": 3,
    "start_time": "2025-01-11T01:02:46.485Z"
   },
   {
    "duration": 4,
    "start_time": "2025-01-11T01:02:46.490Z"
   },
   {
    "duration": 13,
    "start_time": "2025-01-11T01:02:46.496Z"
   },
   {
    "duration": 66,
    "start_time": "2025-01-11T01:02:46.511Z"
   },
   {
    "duration": 164,
    "start_time": "2025-01-11T01:02:46.583Z"
   },
   {
    "duration": 5,
    "start_time": "2025-01-11T01:02:46.753Z"
   },
   {
    "duration": 14,
    "start_time": "2025-01-11T01:02:46.761Z"
   },
   {
    "duration": 22,
    "start_time": "2025-01-11T01:02:46.778Z"
   },
   {
    "duration": 15,
    "start_time": "2025-01-11T01:02:46.804Z"
   },
   {
    "duration": 11,
    "start_time": "2025-01-11T01:02:46.820Z"
   },
   {
    "duration": 4,
    "start_time": "2025-01-11T01:02:46.833Z"
   },
   {
    "duration": 4,
    "start_time": "2025-01-11T01:02:46.839Z"
   },
   {
    "duration": 26,
    "start_time": "2025-01-11T01:02:46.845Z"
   },
   {
    "duration": 15,
    "start_time": "2025-01-11T01:02:46.873Z"
   },
   {
    "duration": 17,
    "start_time": "2025-01-11T01:02:46.890Z"
   },
   {
    "duration": 12,
    "start_time": "2025-01-11T01:02:46.910Z"
   },
   {
    "duration": 8,
    "start_time": "2025-01-11T01:02:46.925Z"
   },
   {
    "duration": 5,
    "start_time": "2025-01-11T01:02:46.935Z"
   },
   {
    "duration": 29,
    "start_time": "2025-01-11T01:02:46.942Z"
   },
   {
    "duration": 14,
    "start_time": "2025-01-11T01:02:46.973Z"
   },
   {
    "duration": 145,
    "start_time": "2025-01-11T01:02:46.990Z"
   },
   {
    "duration": 14,
    "start_time": "2025-01-11T01:02:47.137Z"
   },
   {
    "duration": 4,
    "start_time": "2025-01-11T01:02:47.153Z"
   },
   {
    "duration": 5,
    "start_time": "2025-01-11T01:02:47.173Z"
   },
   {
    "duration": 27,
    "start_time": "2025-01-11T01:02:47.180Z"
   },
   {
    "duration": 611,
    "start_time": "2025-01-11T01:02:47.211Z"
   },
   {
    "duration": 274,
    "start_time": "2025-01-11T01:02:47.824Z"
   },
   {
    "duration": 164,
    "start_time": "2025-01-11T01:02:48.100Z"
   },
   {
    "duration": 149,
    "start_time": "2025-01-11T01:02:48.266Z"
   },
   {
    "duration": 9,
    "start_time": "2025-01-11T01:02:48.416Z"
   },
   {
    "duration": 11,
    "start_time": "2025-01-11T01:02:48.426Z"
   },
   {
    "duration": 146,
    "start_time": "2025-01-11T01:02:48.438Z"
   },
   {
    "duration": 123,
    "start_time": "2025-01-11T01:02:48.586Z"
   },
   {
    "duration": 8,
    "start_time": "2025-01-11T01:02:48.711Z"
   },
   {
    "duration": 10,
    "start_time": "2025-01-11T01:02:48.721Z"
   },
   {
    "duration": 174,
    "start_time": "2025-01-11T01:02:48.733Z"
   },
   {
    "duration": 139,
    "start_time": "2025-01-11T01:02:48.909Z"
   },
   {
    "duration": 8,
    "start_time": "2025-01-11T01:02:49.050Z"
   },
   {
    "duration": 189,
    "start_time": "2025-01-11T01:02:49.060Z"
   },
   {
    "duration": 302,
    "start_time": "2025-01-11T01:02:49.253Z"
   },
   {
    "duration": 336,
    "start_time": "2025-01-11T01:02:49.557Z"
   },
   {
    "duration": 299,
    "start_time": "2025-01-11T01:02:49.895Z"
   },
   {
    "duration": 10,
    "start_time": "2025-01-11T01:02:50.196Z"
   },
   {
    "duration": 9,
    "start_time": "2025-01-11T01:02:50.221Z"
   },
   {
    "duration": 2637,
    "start_time": "2025-01-11T07:02:45.044Z"
   },
   {
    "duration": 41,
    "start_time": "2025-01-11T07:02:47.683Z"
   },
   {
    "duration": 15,
    "start_time": "2025-01-11T07:02:47.725Z"
   },
   {
    "duration": 15,
    "start_time": "2025-01-11T07:02:47.742Z"
   },
   {
    "duration": 4,
    "start_time": "2025-01-11T07:02:47.760Z"
   },
   {
    "duration": 5,
    "start_time": "2025-01-11T07:02:47.765Z"
   },
   {
    "duration": 45,
    "start_time": "2025-01-11T07:02:47.771Z"
   },
   {
    "duration": 26,
    "start_time": "2025-01-11T07:02:47.818Z"
   },
   {
    "duration": 139,
    "start_time": "2025-01-11T07:02:47.846Z"
   },
   {
    "duration": 4,
    "start_time": "2025-01-11T07:02:47.986Z"
   },
   {
    "duration": 6,
    "start_time": "2025-01-11T07:02:47.992Z"
   },
   {
    "duration": 14,
    "start_time": "2025-01-11T07:02:48.009Z"
   },
   {
    "duration": 10,
    "start_time": "2025-01-11T07:02:48.025Z"
   },
   {
    "duration": 3,
    "start_time": "2025-01-11T07:02:48.038Z"
   },
   {
    "duration": 4,
    "start_time": "2025-01-11T07:02:48.043Z"
   },
   {
    "duration": 8,
    "start_time": "2025-01-11T07:02:48.048Z"
   },
   {
    "duration": 13,
    "start_time": "2025-01-11T07:02:48.057Z"
   },
   {
    "duration": 47,
    "start_time": "2025-01-11T07:02:48.072Z"
   },
   {
    "duration": 12,
    "start_time": "2025-01-11T07:02:48.120Z"
   },
   {
    "duration": 8,
    "start_time": "2025-01-11T07:02:48.134Z"
   },
   {
    "duration": 5,
    "start_time": "2025-01-11T07:02:48.144Z"
   },
   {
    "duration": 2,
    "start_time": "2025-01-11T07:02:48.151Z"
   },
   {
    "duration": 12,
    "start_time": "2025-01-11T07:02:48.155Z"
   },
   {
    "duration": 132,
    "start_time": "2025-01-11T07:02:48.171Z"
   },
   {
    "duration": 8,
    "start_time": "2025-01-11T07:02:48.309Z"
   },
   {
    "duration": 3,
    "start_time": "2025-01-11T07:02:48.318Z"
   },
   {
    "duration": 17,
    "start_time": "2025-01-11T07:02:48.323Z"
   },
   {
    "duration": 12,
    "start_time": "2025-01-11T07:02:48.343Z"
   },
   {
    "duration": 548,
    "start_time": "2025-01-11T07:02:48.357Z"
   },
   {
    "duration": 155,
    "start_time": "2025-01-11T07:02:48.908Z"
   },
   {
    "duration": 131,
    "start_time": "2025-01-11T07:02:49.065Z"
   },
   {
    "duration": 196,
    "start_time": "2025-01-11T07:02:49.198Z"
   },
   {
    "duration": 13,
    "start_time": "2025-01-11T07:02:49.396Z"
   },
   {
    "duration": 9,
    "start_time": "2025-01-11T07:02:49.411Z"
   },
   {
    "duration": 133,
    "start_time": "2025-01-11T07:02:49.422Z"
   },
   {
    "duration": 130,
    "start_time": "2025-01-11T07:02:49.557Z"
   },
   {
    "duration": 8,
    "start_time": "2025-01-11T07:02:49.688Z"
   },
   {
    "duration": 9,
    "start_time": "2025-01-11T07:02:49.708Z"
   },
   {
    "duration": 135,
    "start_time": "2025-01-11T07:02:49.719Z"
   },
   {
    "duration": 125,
    "start_time": "2025-01-11T07:02:49.856Z"
   },
   {
    "duration": 7,
    "start_time": "2025-01-11T07:02:49.987Z"
   },
   {
    "duration": 162,
    "start_time": "2025-01-11T07:02:49.995Z"
   },
   {
    "duration": 234,
    "start_time": "2025-01-11T07:02:50.159Z"
   },
   {
    "duration": 257,
    "start_time": "2025-01-11T07:02:50.396Z"
   },
   {
    "duration": 173,
    "start_time": "2025-01-11T07:02:50.655Z"
   },
   {
    "duration": 8,
    "start_time": "2025-01-11T07:02:50.830Z"
   },
   {
    "duration": 7,
    "start_time": "2025-01-11T07:02:50.840Z"
   },
   {
    "duration": 12,
    "start_time": "2025-01-11T07:06:00.604Z"
   },
   {
    "duration": 5,
    "start_time": "2025-01-11T07:09:13.187Z"
   },
   {
    "duration": 15,
    "start_time": "2025-01-11T07:09:14.295Z"
   },
   {
    "duration": 555,
    "start_time": "2025-01-11T07:09:22.932Z"
   },
   {
    "duration": 448,
    "start_time": "2025-01-11T07:11:16.439Z"
   },
   {
    "duration": 9,
    "start_time": "2025-01-11T21:05:58.417Z"
   },
   {
    "duration": 5,
    "start_time": "2025-01-11T21:10:08.783Z"
   }
  ],
  "kernelspec": {
   "display_name": "Python 3 (ipykernel)",
   "language": "python",
   "name": "python3"
  },
  "language_info": {
   "codemirror_mode": {
    "name": "ipython",
    "version": 3
   },
   "file_extension": ".py",
   "mimetype": "text/x-python",
   "name": "python",
   "nbconvert_exporter": "python",
   "pygments_lexer": "ipython3",
   "version": "3.9.19"
  },
  "toc": {
   "base_numbering": 1,
   "nav_menu": {
    "height": "41px",
    "width": "168px"
   },
   "number_sections": true,
   "sideBar": true,
   "skip_h1_title": true,
   "title_cell": "Table of Contents",
   "title_sidebar": "Contents",
   "toc_cell": false,
   "toc_position": {
    "height": "calc(100% - 180px)",
    "left": "10px",
    "top": "150px",
    "width": "318.25px"
   },
   "toc_section_display": true,
   "toc_window_display": false
  }
 },
 "nbformat": 4,
 "nbformat_minor": 2
}
